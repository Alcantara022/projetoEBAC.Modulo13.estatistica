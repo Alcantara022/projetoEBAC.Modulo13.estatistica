{
 "cells": [
  {
   "cell_type": "markdown",
   "metadata": {
    "id": "VOTu7U3Mvxzq"
   },
   "source": [
    "# **MÓDULO 13**\n",
    "# Projeto - Fundamentos da Descoberta de Dados"
   ]
  },
  {
   "cell_type": "markdown",
   "metadata": {
    "id": "-HYgkdAywLd0"
   },
   "source": [
    "Nesse projeto trabalharemos com a base de dados de produtos de um supermercado do Chile.\n",
    "A ideia é que vocês apliquem os conceitos estatísticos vistos no último módulo, mais os conceitos de visualizações de dados através de gráficos e finalizem publicando no seu github!"
   ]
  },
  {
   "cell_type": "code",
   "execution_count": 212,
   "metadata": {
    "id": "OTdTnbzUwE2X"
   },
   "outputs": [],
   "source": [
    "import pandas as pd\n",
    "import matplotlib.pyplot as plt\n",
    "import plotly.express as px\n",
    "from plotly.subplots import make_subplots\n",
    "import plotly.graph_objects as go"
   ]
  },
  {
   "cell_type": "markdown",
   "metadata": {
    "id": "ky1Dk_KWywEa"
   },
   "source": [
    "Faça a leitura dos dados do arquivo CSV:\n",
    "\n",
    "\n",
    "Altere o código abaixo de acordo com seu diretório."
   ]
  },
  {
   "cell_type": "code",
   "execution_count": 213,
   "metadata": {
    "colab": {
     "base_uri": "https://localhost:8080/",
     "height": 363
    },
    "id": "bRBFyVB5wlny",
    "outputId": "cde5190b-fecf-48f8-e98c-5ec7e469bcfb"
   },
   "outputs": [
    {
     "data": {
      "text/html": [
       "<div>\n",
       "<style scoped>\n",
       "    .dataframe tbody tr th:only-of-type {\n",
       "        vertical-align: middle;\n",
       "    }\n",
       "\n",
       "    .dataframe tbody tr th {\n",
       "        vertical-align: top;\n",
       "    }\n",
       "\n",
       "    .dataframe thead th {\n",
       "        text-align: right;\n",
       "    }\n",
       "</style>\n",
       "<table border=\"1\" class=\"dataframe\">\n",
       "  <thead>\n",
       "    <tr style=\"text-align: right;\">\n",
       "      <th></th>\n",
       "      <th>title</th>\n",
       "      <th>Marca</th>\n",
       "      <th>Preco_Normal</th>\n",
       "      <th>Preco_Desconto</th>\n",
       "      <th>Preco_Anterior</th>\n",
       "      <th>Desconto</th>\n",
       "      <th>Categoria</th>\n",
       "    </tr>\n",
       "  </thead>\n",
       "  <tbody>\n",
       "    <tr>\n",
       "      <th>0</th>\n",
       "      <td>Pack 12 un, Leche extra proteína 1 L</td>\n",
       "      <td>Loncoleche</td>\n",
       "      <td>19788</td>\n",
       "      <td>0</td>\n",
       "      <td>0</td>\n",
       "      <td>0</td>\n",
       "      <td>lacteos</td>\n",
       "    </tr>\n",
       "    <tr>\n",
       "      <th>1</th>\n",
       "      <td>Pack 12 un, Leche chocolate receta original 1 L</td>\n",
       "      <td>Soprole</td>\n",
       "      <td>18228</td>\n",
       "      <td>0</td>\n",
       "      <td>0</td>\n",
       "      <td>0</td>\n",
       "      <td>lacteos</td>\n",
       "    </tr>\n",
       "    <tr>\n",
       "      <th>2</th>\n",
       "      <td>Pack 12 un, Leche semidescremada chocolate 1 L</td>\n",
       "      <td>Soprole</td>\n",
       "      <td>18228</td>\n",
       "      <td>0</td>\n",
       "      <td>0</td>\n",
       "      <td>0</td>\n",
       "      <td>lacteos</td>\n",
       "    </tr>\n",
       "    <tr>\n",
       "      <th>3</th>\n",
       "      <td>Pack 12 un, Leche semidescremada frutilla 1 L</td>\n",
       "      <td>Soprole</td>\n",
       "      <td>18228</td>\n",
       "      <td>0</td>\n",
       "      <td>0</td>\n",
       "      <td>0</td>\n",
       "      <td>lacteos</td>\n",
       "    </tr>\n",
       "    <tr>\n",
       "      <th>4</th>\n",
       "      <td>Pack 12 un, Leche sin lactosa chocolate 1 L</td>\n",
       "      <td>Loncoleche</td>\n",
       "      <td>17988</td>\n",
       "      <td>0</td>\n",
       "      <td>0</td>\n",
       "      <td>0</td>\n",
       "      <td>lacteos</td>\n",
       "    </tr>\n",
       "    <tr>\n",
       "      <th>5</th>\n",
       "      <td>Pack 12 un, Leche sin lactosa frutilla 1 L</td>\n",
       "      <td>Loncoleche</td>\n",
       "      <td>17988</td>\n",
       "      <td>0</td>\n",
       "      <td>0</td>\n",
       "      <td>0</td>\n",
       "      <td>lacteos</td>\n",
       "    </tr>\n",
       "    <tr>\n",
       "      <th>6</th>\n",
       "      <td>Pack 12 un, Leche saborizada light chocolate 1 L</td>\n",
       "      <td>Loncoleche</td>\n",
       "      <td>17988</td>\n",
       "      <td>0</td>\n",
       "      <td>0</td>\n",
       "      <td>0</td>\n",
       "      <td>lacteos</td>\n",
       "    </tr>\n",
       "    <tr>\n",
       "      <th>7</th>\n",
       "      <td>Pack 12 un, Leche saborizada frutilla 1 L</td>\n",
       "      <td>Colun</td>\n",
       "      <td>17388</td>\n",
       "      <td>0</td>\n",
       "      <td>0</td>\n",
       "      <td>0</td>\n",
       "      <td>lacteos</td>\n",
       "    </tr>\n",
       "    <tr>\n",
       "      <th>8</th>\n",
       "      <td>Pack 12 un, Leche saborizada vainilla 1 L</td>\n",
       "      <td>Colun</td>\n",
       "      <td>17388</td>\n",
       "      <td>0</td>\n",
       "      <td>0</td>\n",
       "      <td>0</td>\n",
       "      <td>lacteos</td>\n",
       "    </tr>\n",
       "    <tr>\n",
       "      <th>9</th>\n",
       "      <td>Pack 12 un, Leche saborizada manjar 1 L</td>\n",
       "      <td>Colun</td>\n",
       "      <td>17388</td>\n",
       "      <td>0</td>\n",
       "      <td>0</td>\n",
       "      <td>0</td>\n",
       "      <td>lacteos</td>\n",
       "    </tr>\n",
       "  </tbody>\n",
       "</table>\n",
       "</div>"
      ],
      "text/plain": [
       "                                              title       Marca  Preco_Normal  \\\n",
       "0              Pack 12 un, Leche extra proteína 1 L  Loncoleche         19788   \n",
       "1   Pack 12 un, Leche chocolate receta original 1 L     Soprole         18228   \n",
       "2    Pack 12 un, Leche semidescremada chocolate 1 L     Soprole         18228   \n",
       "3     Pack 12 un, Leche semidescremada frutilla 1 L     Soprole         18228   \n",
       "4       Pack 12 un, Leche sin lactosa chocolate 1 L  Loncoleche         17988   \n",
       "5        Pack 12 un, Leche sin lactosa frutilla 1 L  Loncoleche         17988   \n",
       "6  Pack 12 un, Leche saborizada light chocolate 1 L  Loncoleche         17988   \n",
       "7         Pack 12 un, Leche saborizada frutilla 1 L       Colun         17388   \n",
       "8         Pack 12 un, Leche saborizada vainilla 1 L       Colun         17388   \n",
       "9           Pack 12 un, Leche saborizada manjar 1 L       Colun         17388   \n",
       "\n",
       "   Preco_Desconto  Preco_Anterior  Desconto Categoria  \n",
       "0               0               0         0   lacteos  \n",
       "1               0               0         0   lacteos  \n",
       "2               0               0         0   lacteos  \n",
       "3               0               0         0   lacteos  \n",
       "4               0               0         0   lacteos  \n",
       "5               0               0         0   lacteos  \n",
       "6               0               0         0   lacteos  \n",
       "7               0               0         0   lacteos  \n",
       "8               0               0         0   lacteos  \n",
       "9               0               0         0   lacteos  "
      ]
     },
     "execution_count": 213,
     "metadata": {},
     "output_type": "execute_result"
    }
   ],
   "source": [
    "df = pd.read_csv(\"MODULO7_PROJETOFINAL_BASE_SUPERMERCADO.csv\")\n",
    "\n",
    "df.head(10)"
   ]
  },
  {
   "cell_type": "markdown",
   "metadata": {
    "id": "YJgKJ7Nxwtw2"
   },
   "source": [
    "Os campos do nosso dataframe são:\n",
    "\n",
    "**Title:** Nome do produto.\n",
    "\n",
    "\n",
    "**Marca:** A marca do produto.\n",
    "\n",
    "\n",
    "**Preco_Normal:** O preço em que o produto costuma ser vendido quando não há desconto.\n",
    "\n",
    "\n",
    "**Preco_Desconto:** O preço vendido após o desconto ser aplicado.\n",
    "\n",
    "\n",
    "**Preco_Anterior:** Preço em que era comercializado o produto antes do desconto aplicado.\n",
    "\n",
    "\n",
    "**Desconto:** Total de desconto aplicado.\n",
    "\n",
    "\n",
    "\n",
    "\n",
    "\n",
    "\n",
    "As colunas que aparecem com valores 0 são para os produtos onde não tivemos descontos aplicados.\n",
    "\n",
    "\n",
    "As categorias estão em espanhol!"
   ]
  },
  {
   "cell_type": "markdown",
   "metadata": {
    "id": "4u6WBeyyy6ri"
   },
   "source": [
    "# 1 - Traga a média e a mediana dos preços - coluna Preco_Normal - por categoria de produto.\n",
    "# Identifique as categorias que parecem ter um valor de média abaixo ou acima da mediana."
   ]
  },
  {
   "cell_type": "code",
   "execution_count": 214,
   "metadata": {
    "id": "E7B7FolOzVcJ"
   },
   "outputs": [
    {
     "data": {
      "text/plain": [
       "Categoria\n",
       "belleza-y-cuidado-personal    1783.556485\n",
       "comidas-preparadas            3095.043478\n",
       "congelados                    2108.042553\n",
       "frutas                        1724.473684\n",
       "instantaneos-y-sopas           765.491228\n",
       "lacteos                       2385.219239\n",
       "verduras                      1343.296875\n",
       "Name: Preco_Normal, dtype: float64"
      ]
     },
     "execution_count": 214,
     "metadata": {},
     "output_type": "execute_result"
    }
   ],
   "source": [
    "#Seu código aqui para a média\n",
    "df.groupby('Categoria')['Preco_Normal'].mean()"
   ]
  },
  {
   "cell_type": "code",
   "execution_count": 215,
   "metadata": {
    "id": "Rwf4V3hnzZwh"
   },
   "outputs": [
    {
     "data": {
      "text/plain": [
       "Categoria\n",
       "belleza-y-cuidado-personal    1569.0\n",
       "comidas-preparadas            3290.0\n",
       "congelados                    1519.0\n",
       "frutas                        1195.0\n",
       "instantaneos-y-sopas           439.0\n",
       "lacteos                        989.0\n",
       "verduras                      1180.0\n",
       "Name: Preco_Normal, dtype: float64"
      ]
     },
     "execution_count": 215,
     "metadata": {},
     "output_type": "execute_result"
    }
   ],
   "source": [
    "#Seu código aqui para a mediana\n",
    "df.groupby('Categoria')['Preco_Normal'].median()"
   ]
  },
  {
   "cell_type": "markdown",
   "metadata": {
    "id": "nKBFOh-mzyWX"
   },
   "source": [
    "As categorias: belleza-y-cuidado-personal, congelados, frutas, instantaneos-y-sopas, lacteos e verduras estão com a média acima da mediana.                                                                                                    \n",
    "Enquanto isso, a categoria: comidas-preparadas é a unica cujo a média está abaixo da mediana."
   ]
  },
  {
   "cell_type": "markdown",
   "metadata": {
    "id": "jdHZurzDzca0"
   },
   "source": [
    "# 2 - Traga o desvio padrão por categoria de produto.\n",
    "# Qual o comportamento da média e mediana nas categorias com maior desvio?"
   ]
  },
  {
   "cell_type": "code",
   "execution_count": 216,
   "metadata": {
    "id": "xEXT1gtoz135",
    "scrolled": true
   },
   "outputs": [
    {
     "data": {
      "text/html": [
       "<div>\n",
       "<style scoped>\n",
       "    .dataframe tbody tr th:only-of-type {\n",
       "        vertical-align: middle;\n",
       "    }\n",
       "\n",
       "    .dataframe tbody tr th {\n",
       "        vertical-align: top;\n",
       "    }\n",
       "\n",
       "    .dataframe thead th {\n",
       "        text-align: right;\n",
       "    }\n",
       "</style>\n",
       "<table border=\"1\" class=\"dataframe\">\n",
       "  <thead>\n",
       "    <tr style=\"text-align: right;\">\n",
       "      <th></th>\n",
       "      <th>Categoria</th>\n",
       "      <th>media</th>\n",
       "      <th>mediana</th>\n",
       "      <th>desvio_padrao</th>\n",
       "    </tr>\n",
       "  </thead>\n",
       "  <tbody>\n",
       "    <tr>\n",
       "      <th>0</th>\n",
       "      <td>belleza-y-cuidado-personal</td>\n",
       "      <td>1783.556485</td>\n",
       "      <td>1569.0</td>\n",
       "      <td>2210.041719</td>\n",
       "    </tr>\n",
       "    <tr>\n",
       "      <th>1</th>\n",
       "      <td>comidas-preparadas</td>\n",
       "      <td>3095.043478</td>\n",
       "      <td>3290.0</td>\n",
       "      <td>2019.911428</td>\n",
       "    </tr>\n",
       "    <tr>\n",
       "      <th>2</th>\n",
       "      <td>congelados</td>\n",
       "      <td>2108.042553</td>\n",
       "      <td>1519.0</td>\n",
       "      <td>2111.539896</td>\n",
       "    </tr>\n",
       "    <tr>\n",
       "      <th>3</th>\n",
       "      <td>frutas</td>\n",
       "      <td>1724.473684</td>\n",
       "      <td>1195.0</td>\n",
       "      <td>1639.151114</td>\n",
       "    </tr>\n",
       "    <tr>\n",
       "      <th>4</th>\n",
       "      <td>instantaneos-y-sopas</td>\n",
       "      <td>765.491228</td>\n",
       "      <td>439.0</td>\n",
       "      <td>1170.232869</td>\n",
       "    </tr>\n",
       "    <tr>\n",
       "      <th>5</th>\n",
       "      <td>lacteos</td>\n",
       "      <td>2385.219239</td>\n",
       "      <td>989.0</td>\n",
       "      <td>3925.816164</td>\n",
       "    </tr>\n",
       "    <tr>\n",
       "      <th>6</th>\n",
       "      <td>verduras</td>\n",
       "      <td>1343.296875</td>\n",
       "      <td>1180.0</td>\n",
       "      <td>1012.699625</td>\n",
       "    </tr>\n",
       "  </tbody>\n",
       "</table>\n",
       "</div>"
      ],
      "text/plain": [
       "                    Categoria        media  mediana  desvio_padrao\n",
       "0  belleza-y-cuidado-personal  1783.556485   1569.0    2210.041719\n",
       "1          comidas-preparadas  3095.043478   3290.0    2019.911428\n",
       "2                  congelados  2108.042553   1519.0    2111.539896\n",
       "3                      frutas  1724.473684   1195.0    1639.151114\n",
       "4        instantaneos-y-sopas   765.491228    439.0    1170.232869\n",
       "5                     lacteos  2385.219239    989.0    3925.816164\n",
       "6                    verduras  1343.296875   1180.0    1012.699625"
      ]
     },
     "execution_count": 216,
     "metadata": {},
     "output_type": "execute_result"
    }
   ],
   "source": [
    "#Seu código aqui\n",
    "\n",
    "df.groupby('Categoria')['Preco_Normal'].agg( media='mean', mediana= 'median', desvio_padrao='std').reset_index()\n"
   ]
  },
  {
   "cell_type": "markdown",
   "metadata": {
    "id": "HzsLO4nOz3yJ"
   },
   "source": [
    "na categoria de produtos lácteos, que é a de maior desvio padrão, pode-se ver que a média é bem maior que a mediana, o que indica que há outliers nos preços dessa categoria, de forma que afetam a média dos preços para acima do que seria esperado sem esses outliers."
   ]
  },
  {
   "cell_type": "markdown",
   "metadata": {
    "id": "4aW51rCHBr2w"
   },
   "source": [
    "# 3 - Plot um boxplot da distribuição do Preco_Normal para a categoria que você identificou que tem o maior desvio padrão. Como é a distribuição desses dados segundo o boxplot? Você identifica muitos outliers?"
   ]
  },
  {
   "cell_type": "markdown",
   "metadata": {
    "id": "kwPKkUZnEUSb"
   },
   "source": [
    "Dica: Para trazer apenas os dados da categoria que você deseja você pode usar o df.loc[df['Categoria'] == 'CATEGORIA ESCOLHIDA'"
   ]
  },
  {
   "cell_type": "code",
   "execution_count": 217,
   "metadata": {
    "id": "_02thblTCKEF"
   },
   "outputs": [
    {
     "data": {
      "application/vnd.plotly.v1+json": {
       "config": {
        "plotlyServerURL": "https://plot.ly"
       },
       "data": [
        {
         "alignmentgroup": "True",
         "hovertemplate": "Preco_Normal=%{y}<extra></extra>",
         "legendgroup": "",
         "marker": {
          "color": "#636efa"
         },
         "name": "",
         "notched": false,
         "offsetgroup": "",
         "orientation": "v",
         "showlegend": false,
         "type": "box",
         "x0": " ",
         "xaxis": "x",
         "y": [
          19788,
          18228,
          18228,
          18228,
          17988,
          17988,
          17988,
          17388,
          17388,
          17388,
          17388,
          17388,
          17268,
          17268,
          16799,
          16788,
          16190,
          14268,
          14268,
          14268,
          13908,
          13908,
          12149,
          11988,
          11988,
          11950,
          11950,
          11868,
          11868,
          11268,
          11268,
          11268,
          10599,
          10188,
          10188,
          10188,
          9979,
          9659,
          9659,
          8969,
          8490,
          8429,
          8199,
          8199,
          7999,
          7990,
          7990,
          7989,
          7899,
          7674,
          7485,
          7450,
          7199,
          7090,
          6869,
          6790,
          6769,
          6590,
          6534,
          6534,
          6390,
          6229,
          5934,
          5934,
          5934,
          5850,
          5719,
          5589,
          5419,
          5399,
          5399,
          5399,
          5399,
          5399,
          5399,
          5399,
          5399,
          5399,
          5399,
          5399,
          5399,
          5399,
          5399,
          5399,
          5399,
          5390,
          5390,
          5389,
          5389,
          5349,
          5329,
          5249,
          5190,
          5189,
          5090,
          5049,
          5049,
          5049,
          4999,
          4999,
          4990,
          4899,
          4899,
          4849,
          4819,
          4819,
          4819,
          4819,
          4819,
          4819,
          4819,
          4790,
          4790,
          4790,
          4769,
          4759,
          4699,
          4690,
          4669,
          4669,
          4649,
          4590,
          4590,
          4590,
          4569,
          4549,
          4549,
          4499,
          4499,
          4490,
          4459,
          4459,
          4450,
          4349,
          4290,
          4190,
          4190,
          4190,
          4190,
          4169,
          4159,
          4159,
          4159,
          4159,
          4159,
          4049,
          4049,
          3999,
          3999,
          3999,
          3999,
          3999,
          3990,
          3990,
          3990,
          3990,
          3989,
          3989,
          3989,
          3980,
          3980,
          3929,
          3929,
          3929,
          3899,
          3890,
          3869,
          3829,
          3829,
          3829,
          3829,
          3829,
          3790,
          3789,
          3779,
          3779,
          3769,
          3729,
          3690,
          3689,
          3659,
          3649,
          3639,
          3599,
          3590,
          3590,
          3559,
          3549,
          3499,
          3499,
          3499,
          3490,
          3490,
          3490,
          3490,
          3429,
          3429,
          3399,
          3359,
          3290,
          3290,
          3290,
          3290,
          3290,
          3290,
          3290,
          3259,
          3250,
          3249,
          3249,
          3239,
          3239,
          3239,
          3199,
          3199,
          3199,
          3190,
          3190,
          3190,
          3190,
          3179,
          3174,
          3174,
          3160,
          3159,
          3149,
          3149,
          3129,
          3119,
          3099,
          3090,
          3090,
          3079,
          3069,
          3069,
          3069,
          3059,
          2999,
          2999,
          2999,
          2999,
          2999,
          2999,
          2999,
          2999,
          2999,
          2999,
          2994,
          2994,
          2990,
          2990,
          2989,
          2970,
          2959,
          2959,
          2949,
          2949,
          2949,
          2949,
          2949,
          2939,
          2934,
          2934,
          2934,
          2934,
          2929,
          2929,
          2919,
          2910,
          2899,
          2890,
          2890,
          2879,
          2869,
          2859,
          2850,
          2849,
          2849,
          2829,
          2820,
          2814,
          2814,
          2814,
          2814,
          2790,
          2779,
          2779,
          2699,
          2699,
          2690,
          2670,
          2670,
          2670,
          2670,
          2670,
          2669,
          2668,
          2637,
          2637,
          2637,
          2629,
          2619,
          2619,
          2599,
          2599,
          2590,
          2590,
          2590,
          2589,
          2589,
          2579,
          2579,
          2579,
          2574,
          2574,
          2499,
          2489,
          2479,
          2479,
          2479,
          2479,
          2469,
          2459,
          2429,
          2399,
          2390,
          2390,
          2390,
          2390,
          2390,
          2390,
          2389,
          2359,
          2349,
          2329,
          2329,
          2299,
          2290,
          2290,
          2289,
          2259,
          2259,
          2239,
          2229,
          2219,
          2219,
          2190,
          2190,
          2190,
          2179,
          2179,
          2179,
          2179,
          2139,
          2119,
          2099,
          2099,
          2099,
          2094,
          2090,
          2090,
          2090,
          2090,
          2089,
          2089,
          2079,
          2079,
          2069,
          2069,
          2069,
          2069,
          2059,
          2050,
          2050,
          2039,
          2039,
          2039,
          1999,
          1999,
          1999,
          1990,
          1990,
          1990,
          1990,
          1990,
          1990,
          1990,
          1990,
          1990,
          1990,
          1989,
          1989,
          1989,
          1979,
          1979,
          1959,
          1959,
          1959,
          1959,
          1959,
          1959,
          1950,
          1929,
          1929,
          1899,
          1890,
          1890,
          1889,
          1889,
          1889,
          1879,
          1879,
          1859,
          1859,
          1859,
          1859,
          1859,
          1829,
          1829,
          1819,
          1819,
          1790,
          1789,
          1789,
          1789,
          1779,
          1779,
          1769,
          1759,
          1759,
          1759,
          1759,
          1750,
          1749,
          1749,
          1739,
          1739,
          1729,
          1729,
          1699,
          1699,
          1699,
          1699,
          1690,
          1690,
          1690,
          1690,
          1690,
          1690,
          1690,
          1689,
          1689,
          1670,
          1659,
          1659,
          1659,
          1659,
          1659,
          1659,
          1659,
          1659,
          1659,
          1659,
          1659,
          1659,
          1659,
          1650,
          1639,
          1639,
          1639,
          1639,
          1619,
          1599,
          1595,
          1590,
          1590,
          1590,
          1590,
          1590,
          1590,
          1590,
          1590,
          1590,
          1589,
          1579,
          1570,
          1570,
          1569,
          1560,
          1559,
          1559,
          1559,
          1559,
          1559,
          1559,
          1550,
          1549,
          1549,
          1530,
          1530,
          1519,
          1499,
          1495,
          1490,
          1490,
          1490,
          1490,
          1490,
          1490,
          1489,
          1489,
          1469,
          1469,
          1469,
          1449,
          1449,
          1449,
          1449,
          1449,
          1439,
          1439,
          1439,
          1439,
          1439,
          1439,
          1429,
          1399,
          1390,
          1390,
          1390,
          1390,
          1390,
          1389,
          1389,
          1379,
          1350,
          1340,
          1339,
          1339,
          1339,
          1339,
          1329,
          1329,
          1329,
          1329,
          1319,
          1299,
          1299,
          1299,
          1299,
          1290,
          1290,
          1279,
          1269,
          1269,
          1250,
          1250,
          1230,
          1199,
          1195,
          1190,
          1190,
          1189,
          1189,
          1189,
          1189,
          1189,
          1189,
          1189,
          1189,
          1179,
          1159,
          1159,
          1159,
          1150,
          1139,
          1139,
          1130,
          1129,
          1129,
          1129,
          1129,
          1090,
          1089,
          1089,
          1089,
          1079,
          1059,
          1059,
          1059,
          1059,
          1059,
          1050,
          1045,
          1039,
          1039,
          1019,
          999,
          999,
          999,
          999,
          999,
          995,
          995,
          995,
          990,
          990,
          990,
          990,
          990,
          990,
          989,
          989,
          989,
          989,
          979,
          979,
          979,
          979,
          959,
          959,
          959,
          959,
          959,
          950,
          950,
          950,
          945,
          945,
          945,
          939,
          939,
          939,
          939,
          930,
          899,
          899,
          899,
          895,
          890,
          879,
          879,
          879,
          869,
          869,
          869,
          859,
          850,
          850,
          849,
          849,
          849,
          849,
          845,
          845,
          819,
          799,
          790,
          759,
          750,
          749,
          749,
          749,
          695,
          690,
          690,
          689,
          689,
          689,
          669,
          660,
          659,
          655,
          655,
          649,
          649,
          649,
          649,
          649,
          645,
          645,
          619,
          619,
          619,
          619,
          619,
          619,
          615,
          609,
          609,
          609,
          605,
          599,
          599,
          595,
          589,
          585,
          585,
          585,
          579,
          579,
          579,
          579,
          579,
          579,
          579,
          579,
          575,
          569,
          560,
          559,
          559,
          559,
          555,
          555,
          549,
          549,
          519,
          515,
          505,
          505,
          505,
          505,
          505,
          505,
          495,
          495,
          490,
          485,
          485,
          485,
          469,
          469,
          469,
          465,
          459,
          459,
          459,
          459,
          455,
          455,
          449,
          449,
          445,
          445,
          445,
          445,
          445,
          439,
          439,
          439,
          439,
          439,
          439,
          439,
          429,
          429,
          425,
          409,
          405,
          405,
          405,
          405,
          405,
          375,
          355,
          349,
          349,
          335,
          335,
          329,
          319,
          319,
          319,
          319,
          315,
          315,
          315,
          315,
          315,
          315,
          315,
          315,
          315,
          309,
          309,
          305,
          305,
          305,
          275,
          275,
          275,
          275,
          275,
          269,
          269,
          269,
          245,
          245,
          245,
          245,
          245,
          245,
          245,
          245,
          245,
          245,
          229,
          229,
          229,
          209,
          209,
          209,
          0,
          0,
          0,
          0,
          0,
          0,
          0,
          0,
          0,
          0,
          0,
          0,
          0,
          0,
          0,
          0,
          0,
          0,
          0,
          0,
          0,
          0,
          0,
          0,
          0,
          0,
          0,
          0,
          0,
          0,
          0,
          0,
          0,
          0,
          0,
          0,
          0,
          0,
          0,
          0,
          0,
          0,
          0,
          0,
          0,
          0,
          0,
          0,
          0,
          0,
          0,
          0,
          0,
          0,
          0,
          0,
          0,
          0,
          0,
          0,
          0,
          0,
          0,
          0,
          0,
          0,
          0,
          0,
          0,
          0,
          0,
          0,
          0,
          0,
          0,
          0,
          0,
          0,
          0,
          0,
          0,
          0,
          0,
          0,
          0,
          0,
          0,
          0,
          0,
          0,
          0,
          0,
          0,
          0,
          0,
          0,
          0,
          0,
          0,
          0,
          0,
          0,
          0,
          0,
          0,
          0,
          0,
          0,
          0,
          0,
          0,
          0,
          0,
          0,
          0,
          0,
          0,
          0,
          0,
          0,
          0,
          0,
          0,
          0,
          0,
          0,
          0,
          0,
          0,
          0,
          0,
          0,
          0,
          0,
          0,
          0,
          0,
          0,
          0,
          0,
          0,
          0,
          0,
          0,
          0,
          0,
          0,
          0,
          0,
          0,
          0,
          0,
          0,
          0,
          0,
          0,
          0,
          0,
          0,
          0,
          0,
          0,
          0,
          0,
          0,
          0,
          0,
          0,
          0,
          0,
          0,
          0,
          0,
          0,
          0,
          0,
          0,
          0,
          0,
          0,
          0,
          0,
          0,
          0,
          0,
          0,
          0,
          0,
          0,
          0,
          0,
          0,
          0,
          0,
          0,
          0,
          0,
          0,
          0,
          0,
          0,
          0,
          0,
          0,
          0,
          0,
          0,
          0,
          0,
          0,
          0,
          0,
          0,
          0,
          0,
          0,
          0,
          0,
          0,
          0,
          0,
          0,
          0,
          0,
          0,
          0,
          0,
          0,
          0,
          0,
          0,
          0,
          0,
          0,
          0,
          0,
          0,
          0,
          0,
          0,
          0,
          0,
          0,
          0,
          0,
          0,
          0,
          0,
          0,
          0,
          0,
          0,
          0,
          0,
          0,
          0,
          0,
          0,
          0,
          0,
          0,
          0,
          0,
          0,
          0,
          0,
          0,
          0,
          0,
          0,
          0,
          0,
          0,
          0,
          0,
          0,
          0,
          0,
          0,
          0,
          0,
          0,
          0,
          0,
          0,
          0,
          0,
          0,
          0,
          0,
          0,
          0,
          0,
          0
         ],
         "y0": " ",
         "yaxis": "y"
        }
       ],
       "layout": {
        "boxmode": "group",
        "legend": {
         "tracegroupgap": 0
        },
        "template": {
         "data": {
          "bar": [
           {
            "error_x": {
             "color": "#2a3f5f"
            },
            "error_y": {
             "color": "#2a3f5f"
            },
            "marker": {
             "line": {
              "color": "#E5ECF6",
              "width": 0.5
             },
             "pattern": {
              "fillmode": "overlay",
              "size": 10,
              "solidity": 0.2
             }
            },
            "type": "bar"
           }
          ],
          "barpolar": [
           {
            "marker": {
             "line": {
              "color": "#E5ECF6",
              "width": 0.5
             },
             "pattern": {
              "fillmode": "overlay",
              "size": 10,
              "solidity": 0.2
             }
            },
            "type": "barpolar"
           }
          ],
          "carpet": [
           {
            "aaxis": {
             "endlinecolor": "#2a3f5f",
             "gridcolor": "white",
             "linecolor": "white",
             "minorgridcolor": "white",
             "startlinecolor": "#2a3f5f"
            },
            "baxis": {
             "endlinecolor": "#2a3f5f",
             "gridcolor": "white",
             "linecolor": "white",
             "minorgridcolor": "white",
             "startlinecolor": "#2a3f5f"
            },
            "type": "carpet"
           }
          ],
          "choropleth": [
           {
            "colorbar": {
             "outlinewidth": 0,
             "ticks": ""
            },
            "type": "choropleth"
           }
          ],
          "contour": [
           {
            "colorbar": {
             "outlinewidth": 0,
             "ticks": ""
            },
            "colorscale": [
             [
              0,
              "#0d0887"
             ],
             [
              0.1111111111111111,
              "#46039f"
             ],
             [
              0.2222222222222222,
              "#7201a8"
             ],
             [
              0.3333333333333333,
              "#9c179e"
             ],
             [
              0.4444444444444444,
              "#bd3786"
             ],
             [
              0.5555555555555556,
              "#d8576b"
             ],
             [
              0.6666666666666666,
              "#ed7953"
             ],
             [
              0.7777777777777778,
              "#fb9f3a"
             ],
             [
              0.8888888888888888,
              "#fdca26"
             ],
             [
              1,
              "#f0f921"
             ]
            ],
            "type": "contour"
           }
          ],
          "contourcarpet": [
           {
            "colorbar": {
             "outlinewidth": 0,
             "ticks": ""
            },
            "type": "contourcarpet"
           }
          ],
          "heatmap": [
           {
            "colorbar": {
             "outlinewidth": 0,
             "ticks": ""
            },
            "colorscale": [
             [
              0,
              "#0d0887"
             ],
             [
              0.1111111111111111,
              "#46039f"
             ],
             [
              0.2222222222222222,
              "#7201a8"
             ],
             [
              0.3333333333333333,
              "#9c179e"
             ],
             [
              0.4444444444444444,
              "#bd3786"
             ],
             [
              0.5555555555555556,
              "#d8576b"
             ],
             [
              0.6666666666666666,
              "#ed7953"
             ],
             [
              0.7777777777777778,
              "#fb9f3a"
             ],
             [
              0.8888888888888888,
              "#fdca26"
             ],
             [
              1,
              "#f0f921"
             ]
            ],
            "type": "heatmap"
           }
          ],
          "heatmapgl": [
           {
            "colorbar": {
             "outlinewidth": 0,
             "ticks": ""
            },
            "colorscale": [
             [
              0,
              "#0d0887"
             ],
             [
              0.1111111111111111,
              "#46039f"
             ],
             [
              0.2222222222222222,
              "#7201a8"
             ],
             [
              0.3333333333333333,
              "#9c179e"
             ],
             [
              0.4444444444444444,
              "#bd3786"
             ],
             [
              0.5555555555555556,
              "#d8576b"
             ],
             [
              0.6666666666666666,
              "#ed7953"
             ],
             [
              0.7777777777777778,
              "#fb9f3a"
             ],
             [
              0.8888888888888888,
              "#fdca26"
             ],
             [
              1,
              "#f0f921"
             ]
            ],
            "type": "heatmapgl"
           }
          ],
          "histogram": [
           {
            "marker": {
             "pattern": {
              "fillmode": "overlay",
              "size": 10,
              "solidity": 0.2
             }
            },
            "type": "histogram"
           }
          ],
          "histogram2d": [
           {
            "colorbar": {
             "outlinewidth": 0,
             "ticks": ""
            },
            "colorscale": [
             [
              0,
              "#0d0887"
             ],
             [
              0.1111111111111111,
              "#46039f"
             ],
             [
              0.2222222222222222,
              "#7201a8"
             ],
             [
              0.3333333333333333,
              "#9c179e"
             ],
             [
              0.4444444444444444,
              "#bd3786"
             ],
             [
              0.5555555555555556,
              "#d8576b"
             ],
             [
              0.6666666666666666,
              "#ed7953"
             ],
             [
              0.7777777777777778,
              "#fb9f3a"
             ],
             [
              0.8888888888888888,
              "#fdca26"
             ],
             [
              1,
              "#f0f921"
             ]
            ],
            "type": "histogram2d"
           }
          ],
          "histogram2dcontour": [
           {
            "colorbar": {
             "outlinewidth": 0,
             "ticks": ""
            },
            "colorscale": [
             [
              0,
              "#0d0887"
             ],
             [
              0.1111111111111111,
              "#46039f"
             ],
             [
              0.2222222222222222,
              "#7201a8"
             ],
             [
              0.3333333333333333,
              "#9c179e"
             ],
             [
              0.4444444444444444,
              "#bd3786"
             ],
             [
              0.5555555555555556,
              "#d8576b"
             ],
             [
              0.6666666666666666,
              "#ed7953"
             ],
             [
              0.7777777777777778,
              "#fb9f3a"
             ],
             [
              0.8888888888888888,
              "#fdca26"
             ],
             [
              1,
              "#f0f921"
             ]
            ],
            "type": "histogram2dcontour"
           }
          ],
          "mesh3d": [
           {
            "colorbar": {
             "outlinewidth": 0,
             "ticks": ""
            },
            "type": "mesh3d"
           }
          ],
          "parcoords": [
           {
            "line": {
             "colorbar": {
              "outlinewidth": 0,
              "ticks": ""
             }
            },
            "type": "parcoords"
           }
          ],
          "pie": [
           {
            "automargin": true,
            "type": "pie"
           }
          ],
          "scatter": [
           {
            "fillpattern": {
             "fillmode": "overlay",
             "size": 10,
             "solidity": 0.2
            },
            "type": "scatter"
           }
          ],
          "scatter3d": [
           {
            "line": {
             "colorbar": {
              "outlinewidth": 0,
              "ticks": ""
             }
            },
            "marker": {
             "colorbar": {
              "outlinewidth": 0,
              "ticks": ""
             }
            },
            "type": "scatter3d"
           }
          ],
          "scattercarpet": [
           {
            "marker": {
             "colorbar": {
              "outlinewidth": 0,
              "ticks": ""
             }
            },
            "type": "scattercarpet"
           }
          ],
          "scattergeo": [
           {
            "marker": {
             "colorbar": {
              "outlinewidth": 0,
              "ticks": ""
             }
            },
            "type": "scattergeo"
           }
          ],
          "scattergl": [
           {
            "marker": {
             "colorbar": {
              "outlinewidth": 0,
              "ticks": ""
             }
            },
            "type": "scattergl"
           }
          ],
          "scattermapbox": [
           {
            "marker": {
             "colorbar": {
              "outlinewidth": 0,
              "ticks": ""
             }
            },
            "type": "scattermapbox"
           }
          ],
          "scatterpolar": [
           {
            "marker": {
             "colorbar": {
              "outlinewidth": 0,
              "ticks": ""
             }
            },
            "type": "scatterpolar"
           }
          ],
          "scatterpolargl": [
           {
            "marker": {
             "colorbar": {
              "outlinewidth": 0,
              "ticks": ""
             }
            },
            "type": "scatterpolargl"
           }
          ],
          "scatterternary": [
           {
            "marker": {
             "colorbar": {
              "outlinewidth": 0,
              "ticks": ""
             }
            },
            "type": "scatterternary"
           }
          ],
          "surface": [
           {
            "colorbar": {
             "outlinewidth": 0,
             "ticks": ""
            },
            "colorscale": [
             [
              0,
              "#0d0887"
             ],
             [
              0.1111111111111111,
              "#46039f"
             ],
             [
              0.2222222222222222,
              "#7201a8"
             ],
             [
              0.3333333333333333,
              "#9c179e"
             ],
             [
              0.4444444444444444,
              "#bd3786"
             ],
             [
              0.5555555555555556,
              "#d8576b"
             ],
             [
              0.6666666666666666,
              "#ed7953"
             ],
             [
              0.7777777777777778,
              "#fb9f3a"
             ],
             [
              0.8888888888888888,
              "#fdca26"
             ],
             [
              1,
              "#f0f921"
             ]
            ],
            "type": "surface"
           }
          ],
          "table": [
           {
            "cells": {
             "fill": {
              "color": "#EBF0F8"
             },
             "line": {
              "color": "white"
             }
            },
            "header": {
             "fill": {
              "color": "#C8D4E3"
             },
             "line": {
              "color": "white"
             }
            },
            "type": "table"
           }
          ]
         },
         "layout": {
          "annotationdefaults": {
           "arrowcolor": "#2a3f5f",
           "arrowhead": 0,
           "arrowwidth": 1
          },
          "autotypenumbers": "strict",
          "coloraxis": {
           "colorbar": {
            "outlinewidth": 0,
            "ticks": ""
           }
          },
          "colorscale": {
           "diverging": [
            [
             0,
             "#8e0152"
            ],
            [
             0.1,
             "#c51b7d"
            ],
            [
             0.2,
             "#de77ae"
            ],
            [
             0.3,
             "#f1b6da"
            ],
            [
             0.4,
             "#fde0ef"
            ],
            [
             0.5,
             "#f7f7f7"
            ],
            [
             0.6,
             "#e6f5d0"
            ],
            [
             0.7,
             "#b8e186"
            ],
            [
             0.8,
             "#7fbc41"
            ],
            [
             0.9,
             "#4d9221"
            ],
            [
             1,
             "#276419"
            ]
           ],
           "sequential": [
            [
             0,
             "#0d0887"
            ],
            [
             0.1111111111111111,
             "#46039f"
            ],
            [
             0.2222222222222222,
             "#7201a8"
            ],
            [
             0.3333333333333333,
             "#9c179e"
            ],
            [
             0.4444444444444444,
             "#bd3786"
            ],
            [
             0.5555555555555556,
             "#d8576b"
            ],
            [
             0.6666666666666666,
             "#ed7953"
            ],
            [
             0.7777777777777778,
             "#fb9f3a"
            ],
            [
             0.8888888888888888,
             "#fdca26"
            ],
            [
             1,
             "#f0f921"
            ]
           ],
           "sequentialminus": [
            [
             0,
             "#0d0887"
            ],
            [
             0.1111111111111111,
             "#46039f"
            ],
            [
             0.2222222222222222,
             "#7201a8"
            ],
            [
             0.3333333333333333,
             "#9c179e"
            ],
            [
             0.4444444444444444,
             "#bd3786"
            ],
            [
             0.5555555555555556,
             "#d8576b"
            ],
            [
             0.6666666666666666,
             "#ed7953"
            ],
            [
             0.7777777777777778,
             "#fb9f3a"
            ],
            [
             0.8888888888888888,
             "#fdca26"
            ],
            [
             1,
             "#f0f921"
            ]
           ]
          },
          "colorway": [
           "#636efa",
           "#EF553B",
           "#00cc96",
           "#ab63fa",
           "#FFA15A",
           "#19d3f3",
           "#FF6692",
           "#B6E880",
           "#FF97FF",
           "#FECB52"
          ],
          "font": {
           "color": "#2a3f5f"
          },
          "geo": {
           "bgcolor": "white",
           "lakecolor": "white",
           "landcolor": "#E5ECF6",
           "showlakes": true,
           "showland": true,
           "subunitcolor": "white"
          },
          "hoverlabel": {
           "align": "left"
          },
          "hovermode": "closest",
          "mapbox": {
           "style": "light"
          },
          "paper_bgcolor": "white",
          "plot_bgcolor": "#E5ECF6",
          "polar": {
           "angularaxis": {
            "gridcolor": "white",
            "linecolor": "white",
            "ticks": ""
           },
           "bgcolor": "#E5ECF6",
           "radialaxis": {
            "gridcolor": "white",
            "linecolor": "white",
            "ticks": ""
           }
          },
          "scene": {
           "xaxis": {
            "backgroundcolor": "#E5ECF6",
            "gridcolor": "white",
            "gridwidth": 2,
            "linecolor": "white",
            "showbackground": true,
            "ticks": "",
            "zerolinecolor": "white"
           },
           "yaxis": {
            "backgroundcolor": "#E5ECF6",
            "gridcolor": "white",
            "gridwidth": 2,
            "linecolor": "white",
            "showbackground": true,
            "ticks": "",
            "zerolinecolor": "white"
           },
           "zaxis": {
            "backgroundcolor": "#E5ECF6",
            "gridcolor": "white",
            "gridwidth": 2,
            "linecolor": "white",
            "showbackground": true,
            "ticks": "",
            "zerolinecolor": "white"
           }
          },
          "shapedefaults": {
           "line": {
            "color": "#2a3f5f"
           }
          },
          "ternary": {
           "aaxis": {
            "gridcolor": "white",
            "linecolor": "white",
            "ticks": ""
           },
           "baxis": {
            "gridcolor": "white",
            "linecolor": "white",
            "ticks": ""
           },
           "bgcolor": "#E5ECF6",
           "caxis": {
            "gridcolor": "white",
            "linecolor": "white",
            "ticks": ""
           }
          },
          "title": {
           "x": 0.05
          },
          "xaxis": {
           "automargin": true,
           "gridcolor": "white",
           "linecolor": "white",
           "ticks": "",
           "title": {
            "standoff": 15
           },
           "zerolinecolor": "white",
           "zerolinewidth": 2
          },
          "yaxis": {
           "automargin": true,
           "gridcolor": "white",
           "linecolor": "white",
           "ticks": "",
           "title": {
            "standoff": 15
           },
           "zerolinecolor": "white",
           "zerolinewidth": 2
          }
         }
        },
        "title": {
         "text": "Boxplot da distribuição do Preço de laticinios"
        },
        "xaxis": {
         "anchor": "y",
         "domain": [
          0,
          1
         ]
        },
        "yaxis": {
         "anchor": "x",
         "domain": [
          0,
          1
         ],
         "title": {
          "text": "Preco_Normal"
         }
        }
       }
      },
      "text/html": [
       "<div>                            <div id=\"fb895d79-7d85-4b0a-92d3-6350f04577e3\" class=\"plotly-graph-div\" style=\"height:525px; width:100%;\"></div>            <script type=\"text/javascript\">                require([\"plotly\"], function(Plotly) {                    window.PLOTLYENV=window.PLOTLYENV || {};                                    if (document.getElementById(\"fb895d79-7d85-4b0a-92d3-6350f04577e3\")) {                    Plotly.newPlot(                        \"fb895d79-7d85-4b0a-92d3-6350f04577e3\",                        [{\"alignmentgroup\":\"True\",\"hovertemplate\":\"Preco_Normal=%{y}\\u003cextra\\u003e\\u003c\\u002fextra\\u003e\",\"legendgroup\":\"\",\"marker\":{\"color\":\"#636efa\"},\"name\":\"\",\"notched\":false,\"offsetgroup\":\"\",\"orientation\":\"v\",\"showlegend\":false,\"x0\":\" \",\"xaxis\":\"x\",\"y\":[19788,18228,18228,18228,17988,17988,17988,17388,17388,17388,17388,17388,17268,17268,16799,16788,16190,14268,14268,14268,13908,13908,12149,11988,11988,11950,11950,11868,11868,11268,11268,11268,10599,10188,10188,10188,9979,9659,9659,8969,8490,8429,8199,8199,7999,7990,7990,7989,7899,7674,7485,7450,7199,7090,6869,6790,6769,6590,6534,6534,6390,6229,5934,5934,5934,5850,5719,5589,5419,5399,5399,5399,5399,5399,5399,5399,5399,5399,5399,5399,5399,5399,5399,5399,5399,5390,5390,5389,5389,5349,5329,5249,5190,5189,5090,5049,5049,5049,4999,4999,4990,4899,4899,4849,4819,4819,4819,4819,4819,4819,4819,4790,4790,4790,4769,4759,4699,4690,4669,4669,4649,4590,4590,4590,4569,4549,4549,4499,4499,4490,4459,4459,4450,4349,4290,4190,4190,4190,4190,4169,4159,4159,4159,4159,4159,4049,4049,3999,3999,3999,3999,3999,3990,3990,3990,3990,3989,3989,3989,3980,3980,3929,3929,3929,3899,3890,3869,3829,3829,3829,3829,3829,3790,3789,3779,3779,3769,3729,3690,3689,3659,3649,3639,3599,3590,3590,3559,3549,3499,3499,3499,3490,3490,3490,3490,3429,3429,3399,3359,3290,3290,3290,3290,3290,3290,3290,3259,3250,3249,3249,3239,3239,3239,3199,3199,3199,3190,3190,3190,3190,3179,3174,3174,3160,3159,3149,3149,3129,3119,3099,3090,3090,3079,3069,3069,3069,3059,2999,2999,2999,2999,2999,2999,2999,2999,2999,2999,2994,2994,2990,2990,2989,2970,2959,2959,2949,2949,2949,2949,2949,2939,2934,2934,2934,2934,2929,2929,2919,2910,2899,2890,2890,2879,2869,2859,2850,2849,2849,2829,2820,2814,2814,2814,2814,2790,2779,2779,2699,2699,2690,2670,2670,2670,2670,2670,2669,2668,2637,2637,2637,2629,2619,2619,2599,2599,2590,2590,2590,2589,2589,2579,2579,2579,2574,2574,2499,2489,2479,2479,2479,2479,2469,2459,2429,2399,2390,2390,2390,2390,2390,2390,2389,2359,2349,2329,2329,2299,2290,2290,2289,2259,2259,2239,2229,2219,2219,2190,2190,2190,2179,2179,2179,2179,2139,2119,2099,2099,2099,2094,2090,2090,2090,2090,2089,2089,2079,2079,2069,2069,2069,2069,2059,2050,2050,2039,2039,2039,1999,1999,1999,1990,1990,1990,1990,1990,1990,1990,1990,1990,1990,1989,1989,1989,1979,1979,1959,1959,1959,1959,1959,1959,1950,1929,1929,1899,1890,1890,1889,1889,1889,1879,1879,1859,1859,1859,1859,1859,1829,1829,1819,1819,1790,1789,1789,1789,1779,1779,1769,1759,1759,1759,1759,1750,1749,1749,1739,1739,1729,1729,1699,1699,1699,1699,1690,1690,1690,1690,1690,1690,1690,1689,1689,1670,1659,1659,1659,1659,1659,1659,1659,1659,1659,1659,1659,1659,1659,1650,1639,1639,1639,1639,1619,1599,1595,1590,1590,1590,1590,1590,1590,1590,1590,1590,1589,1579,1570,1570,1569,1560,1559,1559,1559,1559,1559,1559,1550,1549,1549,1530,1530,1519,1499,1495,1490,1490,1490,1490,1490,1490,1489,1489,1469,1469,1469,1449,1449,1449,1449,1449,1439,1439,1439,1439,1439,1439,1429,1399,1390,1390,1390,1390,1390,1389,1389,1379,1350,1340,1339,1339,1339,1339,1329,1329,1329,1329,1319,1299,1299,1299,1299,1290,1290,1279,1269,1269,1250,1250,1230,1199,1195,1190,1190,1189,1189,1189,1189,1189,1189,1189,1189,1179,1159,1159,1159,1150,1139,1139,1130,1129,1129,1129,1129,1090,1089,1089,1089,1079,1059,1059,1059,1059,1059,1050,1045,1039,1039,1019,999,999,999,999,999,995,995,995,990,990,990,990,990,990,989,989,989,989,979,979,979,979,959,959,959,959,959,950,950,950,945,945,945,939,939,939,939,930,899,899,899,895,890,879,879,879,869,869,869,859,850,850,849,849,849,849,845,845,819,799,790,759,750,749,749,749,695,690,690,689,689,689,669,660,659,655,655,649,649,649,649,649,645,645,619,619,619,619,619,619,615,609,609,609,605,599,599,595,589,585,585,585,579,579,579,579,579,579,579,579,575,569,560,559,559,559,555,555,549,549,519,515,505,505,505,505,505,505,495,495,490,485,485,485,469,469,469,465,459,459,459,459,455,455,449,449,445,445,445,445,445,439,439,439,439,439,439,439,429,429,425,409,405,405,405,405,405,375,355,349,349,335,335,329,319,319,319,319,315,315,315,315,315,315,315,315,315,309,309,305,305,305,275,275,275,275,275,269,269,269,245,245,245,245,245,245,245,245,245,245,229,229,229,209,209,209,0,0,0,0,0,0,0,0,0,0,0,0,0,0,0,0,0,0,0,0,0,0,0,0,0,0,0,0,0,0,0,0,0,0,0,0,0,0,0,0,0,0,0,0,0,0,0,0,0,0,0,0,0,0,0,0,0,0,0,0,0,0,0,0,0,0,0,0,0,0,0,0,0,0,0,0,0,0,0,0,0,0,0,0,0,0,0,0,0,0,0,0,0,0,0,0,0,0,0,0,0,0,0,0,0,0,0,0,0,0,0,0,0,0,0,0,0,0,0,0,0,0,0,0,0,0,0,0,0,0,0,0,0,0,0,0,0,0,0,0,0,0,0,0,0,0,0,0,0,0,0,0,0,0,0,0,0,0,0,0,0,0,0,0,0,0,0,0,0,0,0,0,0,0,0,0,0,0,0,0,0,0,0,0,0,0,0,0,0,0,0,0,0,0,0,0,0,0,0,0,0,0,0,0,0,0,0,0,0,0,0,0,0,0,0,0,0,0,0,0,0,0,0,0,0,0,0,0,0,0,0,0,0,0,0,0,0,0,0,0,0,0,0,0,0,0,0,0,0,0,0,0,0,0,0,0,0,0,0,0,0,0,0,0,0,0,0,0,0,0,0,0,0,0,0,0,0,0,0,0,0,0,0,0,0,0,0,0,0,0,0,0,0,0],\"y0\":\" \",\"yaxis\":\"y\",\"type\":\"box\"}],                        {\"template\":{\"data\":{\"histogram2dcontour\":[{\"type\":\"histogram2dcontour\",\"colorbar\":{\"outlinewidth\":0,\"ticks\":\"\"},\"colorscale\":[[0.0,\"#0d0887\"],[0.1111111111111111,\"#46039f\"],[0.2222222222222222,\"#7201a8\"],[0.3333333333333333,\"#9c179e\"],[0.4444444444444444,\"#bd3786\"],[0.5555555555555556,\"#d8576b\"],[0.6666666666666666,\"#ed7953\"],[0.7777777777777778,\"#fb9f3a\"],[0.8888888888888888,\"#fdca26\"],[1.0,\"#f0f921\"]]}],\"choropleth\":[{\"type\":\"choropleth\",\"colorbar\":{\"outlinewidth\":0,\"ticks\":\"\"}}],\"histogram2d\":[{\"type\":\"histogram2d\",\"colorbar\":{\"outlinewidth\":0,\"ticks\":\"\"},\"colorscale\":[[0.0,\"#0d0887\"],[0.1111111111111111,\"#46039f\"],[0.2222222222222222,\"#7201a8\"],[0.3333333333333333,\"#9c179e\"],[0.4444444444444444,\"#bd3786\"],[0.5555555555555556,\"#d8576b\"],[0.6666666666666666,\"#ed7953\"],[0.7777777777777778,\"#fb9f3a\"],[0.8888888888888888,\"#fdca26\"],[1.0,\"#f0f921\"]]}],\"heatmap\":[{\"type\":\"heatmap\",\"colorbar\":{\"outlinewidth\":0,\"ticks\":\"\"},\"colorscale\":[[0.0,\"#0d0887\"],[0.1111111111111111,\"#46039f\"],[0.2222222222222222,\"#7201a8\"],[0.3333333333333333,\"#9c179e\"],[0.4444444444444444,\"#bd3786\"],[0.5555555555555556,\"#d8576b\"],[0.6666666666666666,\"#ed7953\"],[0.7777777777777778,\"#fb9f3a\"],[0.8888888888888888,\"#fdca26\"],[1.0,\"#f0f921\"]]}],\"heatmapgl\":[{\"type\":\"heatmapgl\",\"colorbar\":{\"outlinewidth\":0,\"ticks\":\"\"},\"colorscale\":[[0.0,\"#0d0887\"],[0.1111111111111111,\"#46039f\"],[0.2222222222222222,\"#7201a8\"],[0.3333333333333333,\"#9c179e\"],[0.4444444444444444,\"#bd3786\"],[0.5555555555555556,\"#d8576b\"],[0.6666666666666666,\"#ed7953\"],[0.7777777777777778,\"#fb9f3a\"],[0.8888888888888888,\"#fdca26\"],[1.0,\"#f0f921\"]]}],\"contourcarpet\":[{\"type\":\"contourcarpet\",\"colorbar\":{\"outlinewidth\":0,\"ticks\":\"\"}}],\"contour\":[{\"type\":\"contour\",\"colorbar\":{\"outlinewidth\":0,\"ticks\":\"\"},\"colorscale\":[[0.0,\"#0d0887\"],[0.1111111111111111,\"#46039f\"],[0.2222222222222222,\"#7201a8\"],[0.3333333333333333,\"#9c179e\"],[0.4444444444444444,\"#bd3786\"],[0.5555555555555556,\"#d8576b\"],[0.6666666666666666,\"#ed7953\"],[0.7777777777777778,\"#fb9f3a\"],[0.8888888888888888,\"#fdca26\"],[1.0,\"#f0f921\"]]}],\"surface\":[{\"type\":\"surface\",\"colorbar\":{\"outlinewidth\":0,\"ticks\":\"\"},\"colorscale\":[[0.0,\"#0d0887\"],[0.1111111111111111,\"#46039f\"],[0.2222222222222222,\"#7201a8\"],[0.3333333333333333,\"#9c179e\"],[0.4444444444444444,\"#bd3786\"],[0.5555555555555556,\"#d8576b\"],[0.6666666666666666,\"#ed7953\"],[0.7777777777777778,\"#fb9f3a\"],[0.8888888888888888,\"#fdca26\"],[1.0,\"#f0f921\"]]}],\"mesh3d\":[{\"type\":\"mesh3d\",\"colorbar\":{\"outlinewidth\":0,\"ticks\":\"\"}}],\"scatter\":[{\"fillpattern\":{\"fillmode\":\"overlay\",\"size\":10,\"solidity\":0.2},\"type\":\"scatter\"}],\"parcoords\":[{\"type\":\"parcoords\",\"line\":{\"colorbar\":{\"outlinewidth\":0,\"ticks\":\"\"}}}],\"scatterpolargl\":[{\"type\":\"scatterpolargl\",\"marker\":{\"colorbar\":{\"outlinewidth\":0,\"ticks\":\"\"}}}],\"bar\":[{\"error_x\":{\"color\":\"#2a3f5f\"},\"error_y\":{\"color\":\"#2a3f5f\"},\"marker\":{\"line\":{\"color\":\"#E5ECF6\",\"width\":0.5},\"pattern\":{\"fillmode\":\"overlay\",\"size\":10,\"solidity\":0.2}},\"type\":\"bar\"}],\"scattergeo\":[{\"type\":\"scattergeo\",\"marker\":{\"colorbar\":{\"outlinewidth\":0,\"ticks\":\"\"}}}],\"scatterpolar\":[{\"type\":\"scatterpolar\",\"marker\":{\"colorbar\":{\"outlinewidth\":0,\"ticks\":\"\"}}}],\"histogram\":[{\"marker\":{\"pattern\":{\"fillmode\":\"overlay\",\"size\":10,\"solidity\":0.2}},\"type\":\"histogram\"}],\"scattergl\":[{\"type\":\"scattergl\",\"marker\":{\"colorbar\":{\"outlinewidth\":0,\"ticks\":\"\"}}}],\"scatter3d\":[{\"type\":\"scatter3d\",\"line\":{\"colorbar\":{\"outlinewidth\":0,\"ticks\":\"\"}},\"marker\":{\"colorbar\":{\"outlinewidth\":0,\"ticks\":\"\"}}}],\"scattermapbox\":[{\"type\":\"scattermapbox\",\"marker\":{\"colorbar\":{\"outlinewidth\":0,\"ticks\":\"\"}}}],\"scatterternary\":[{\"type\":\"scatterternary\",\"marker\":{\"colorbar\":{\"outlinewidth\":0,\"ticks\":\"\"}}}],\"scattercarpet\":[{\"type\":\"scattercarpet\",\"marker\":{\"colorbar\":{\"outlinewidth\":0,\"ticks\":\"\"}}}],\"carpet\":[{\"aaxis\":{\"endlinecolor\":\"#2a3f5f\",\"gridcolor\":\"white\",\"linecolor\":\"white\",\"minorgridcolor\":\"white\",\"startlinecolor\":\"#2a3f5f\"},\"baxis\":{\"endlinecolor\":\"#2a3f5f\",\"gridcolor\":\"white\",\"linecolor\":\"white\",\"minorgridcolor\":\"white\",\"startlinecolor\":\"#2a3f5f\"},\"type\":\"carpet\"}],\"table\":[{\"cells\":{\"fill\":{\"color\":\"#EBF0F8\"},\"line\":{\"color\":\"white\"}},\"header\":{\"fill\":{\"color\":\"#C8D4E3\"},\"line\":{\"color\":\"white\"}},\"type\":\"table\"}],\"barpolar\":[{\"marker\":{\"line\":{\"color\":\"#E5ECF6\",\"width\":0.5},\"pattern\":{\"fillmode\":\"overlay\",\"size\":10,\"solidity\":0.2}},\"type\":\"barpolar\"}],\"pie\":[{\"automargin\":true,\"type\":\"pie\"}]},\"layout\":{\"autotypenumbers\":\"strict\",\"colorway\":[\"#636efa\",\"#EF553B\",\"#00cc96\",\"#ab63fa\",\"#FFA15A\",\"#19d3f3\",\"#FF6692\",\"#B6E880\",\"#FF97FF\",\"#FECB52\"],\"font\":{\"color\":\"#2a3f5f\"},\"hovermode\":\"closest\",\"hoverlabel\":{\"align\":\"left\"},\"paper_bgcolor\":\"white\",\"plot_bgcolor\":\"#E5ECF6\",\"polar\":{\"bgcolor\":\"#E5ECF6\",\"angularaxis\":{\"gridcolor\":\"white\",\"linecolor\":\"white\",\"ticks\":\"\"},\"radialaxis\":{\"gridcolor\":\"white\",\"linecolor\":\"white\",\"ticks\":\"\"}},\"ternary\":{\"bgcolor\":\"#E5ECF6\",\"aaxis\":{\"gridcolor\":\"white\",\"linecolor\":\"white\",\"ticks\":\"\"},\"baxis\":{\"gridcolor\":\"white\",\"linecolor\":\"white\",\"ticks\":\"\"},\"caxis\":{\"gridcolor\":\"white\",\"linecolor\":\"white\",\"ticks\":\"\"}},\"coloraxis\":{\"colorbar\":{\"outlinewidth\":0,\"ticks\":\"\"}},\"colorscale\":{\"sequential\":[[0.0,\"#0d0887\"],[0.1111111111111111,\"#46039f\"],[0.2222222222222222,\"#7201a8\"],[0.3333333333333333,\"#9c179e\"],[0.4444444444444444,\"#bd3786\"],[0.5555555555555556,\"#d8576b\"],[0.6666666666666666,\"#ed7953\"],[0.7777777777777778,\"#fb9f3a\"],[0.8888888888888888,\"#fdca26\"],[1.0,\"#f0f921\"]],\"sequentialminus\":[[0.0,\"#0d0887\"],[0.1111111111111111,\"#46039f\"],[0.2222222222222222,\"#7201a8\"],[0.3333333333333333,\"#9c179e\"],[0.4444444444444444,\"#bd3786\"],[0.5555555555555556,\"#d8576b\"],[0.6666666666666666,\"#ed7953\"],[0.7777777777777778,\"#fb9f3a\"],[0.8888888888888888,\"#fdca26\"],[1.0,\"#f0f921\"]],\"diverging\":[[0,\"#8e0152\"],[0.1,\"#c51b7d\"],[0.2,\"#de77ae\"],[0.3,\"#f1b6da\"],[0.4,\"#fde0ef\"],[0.5,\"#f7f7f7\"],[0.6,\"#e6f5d0\"],[0.7,\"#b8e186\"],[0.8,\"#7fbc41\"],[0.9,\"#4d9221\"],[1,\"#276419\"]]},\"xaxis\":{\"gridcolor\":\"white\",\"linecolor\":\"white\",\"ticks\":\"\",\"title\":{\"standoff\":15},\"zerolinecolor\":\"white\",\"automargin\":true,\"zerolinewidth\":2},\"yaxis\":{\"gridcolor\":\"white\",\"linecolor\":\"white\",\"ticks\":\"\",\"title\":{\"standoff\":15},\"zerolinecolor\":\"white\",\"automargin\":true,\"zerolinewidth\":2},\"scene\":{\"xaxis\":{\"backgroundcolor\":\"#E5ECF6\",\"gridcolor\":\"white\",\"linecolor\":\"white\",\"showbackground\":true,\"ticks\":\"\",\"zerolinecolor\":\"white\",\"gridwidth\":2},\"yaxis\":{\"backgroundcolor\":\"#E5ECF6\",\"gridcolor\":\"white\",\"linecolor\":\"white\",\"showbackground\":true,\"ticks\":\"\",\"zerolinecolor\":\"white\",\"gridwidth\":2},\"zaxis\":{\"backgroundcolor\":\"#E5ECF6\",\"gridcolor\":\"white\",\"linecolor\":\"white\",\"showbackground\":true,\"ticks\":\"\",\"zerolinecolor\":\"white\",\"gridwidth\":2}},\"shapedefaults\":{\"line\":{\"color\":\"#2a3f5f\"}},\"annotationdefaults\":{\"arrowcolor\":\"#2a3f5f\",\"arrowhead\":0,\"arrowwidth\":1},\"geo\":{\"bgcolor\":\"white\",\"landcolor\":\"#E5ECF6\",\"subunitcolor\":\"white\",\"showland\":true,\"showlakes\":true,\"lakecolor\":\"white\"},\"title\":{\"x\":0.05},\"mapbox\":{\"style\":\"light\"}}},\"xaxis\":{\"anchor\":\"y\",\"domain\":[0.0,1.0]},\"yaxis\":{\"anchor\":\"x\",\"domain\":[0.0,1.0],\"title\":{\"text\":\"Preco_Normal\"}},\"legend\":{\"tracegroupgap\":0},\"title\":{\"text\":\"Boxplot da distribui\\u00e7\\u00e3o do Pre\\u00e7o de laticinios\"},\"boxmode\":\"group\"},                        {\"responsive\": true}                    ).then(function(){\n",
       "                            \n",
       "var gd = document.getElementById('fb895d79-7d85-4b0a-92d3-6350f04577e3');\n",
       "var x = new MutationObserver(function (mutations, observer) {{\n",
       "        var display = window.getComputedStyle(gd).display;\n",
       "        if (!display || display === 'none') {{\n",
       "            console.log([gd, 'removed!']);\n",
       "            Plotly.purge(gd);\n",
       "            observer.disconnect();\n",
       "        }}\n",
       "}});\n",
       "\n",
       "// Listen for the removal of the full notebook cells\n",
       "var notebookContainer = gd.closest('#notebook-container');\n",
       "if (notebookContainer) {{\n",
       "    x.observe(notebookContainer, {childList: true});\n",
       "}}\n",
       "\n",
       "// Listen for the clearing of the current output cell\n",
       "var outputEl = gd.closest('.output');\n",
       "if (outputEl) {{\n",
       "    x.observe(outputEl, {childList: true});\n",
       "}}\n",
       "\n",
       "                        })                };                });            </script>        </div>"
      ]
     },
     "metadata": {},
     "output_type": "display_data"
    }
   ],
   "source": [
    "#Seu código aqui\n",
    "lacteos = df.loc[df['Categoria'] == 'lacteos']\n",
    "fig=px.box(df, y='Preco_Normal',title='Boxplot da distribuição do Preço de laticinios')\n",
    "#exibindo o gráfico\n",
    "fig.show()"
   ]
  },
  {
   "cell_type": "markdown",
   "metadata": {},
   "source": [
    "Pelo que se pode ver na distribuição do grafico boxplot, existe muitos outliers entre os preços desta categoria de produtos, visto que a mediana é 1269, mas alguns preços chegam até acima de 19 mil."
   ]
  },
  {
   "cell_type": "markdown",
   "metadata": {
    "id": "w5xgQBC_0Hg-"
   },
   "source": [
    "# 4 - Plote um gráfico de barras onde temos a média de descontos por categoria."
   ]
  },
  {
   "cell_type": "code",
   "execution_count": 218,
   "metadata": {
    "id": "DBj5zAdI0QfI"
   },
   "outputs": [
    {
     "data": {
      "image/png": "[encoded data removed]",
      "text/plain": [
       "<Figure size 640x480 with 1 Axes>"
      ]
     },
     "metadata": {},
     "output_type": "display_data"
    }
   ],
   "source": [
    "# Seu código aqui\n",
    "media_descontos = df.groupby('Categoria')['Desconto'].mean().reset_index()\n",
    "\n",
    "plt.bar(media_descontos['Categoria'], media_descontos['Desconto'], color='blue')\n",
    "plt.xlabel('Categoria')\n",
    "plt.ylabel('Média de Desconto')\n",
    "plt.title('Média de Descontos por Categoria de Produtos')\n",
    "plt.xticks(rotation=20)\n",
    "plt.tight_layout()\n",
    "plt.show()"
   ]
  },
  {
   "cell_type": "markdown",
   "metadata": {
    "id": "vqlx0w7E07uC"
   },
   "source": [
    "# 5 - Plote um gráfico de mapa interativo agrupando os dados por categoria, marca e trazendo a média de desconto."
   ]
  },
  {
   "cell_type": "code",
   "execution_count": 219,
   "metadata": {},
   "outputs": [
    {
     "name": "stderr",
     "output_type": "stream",
     "text": [
      "C:\\Users\\arthu\\AppData\\Local\\Temp\\ipykernel_2372\\4151687317.py:2: FutureWarning:\n",
      "\n",
      "The default of observed=False is deprecated and will be changed to True in a future version of pandas. Pass observed=False to retain current behavior or observed=True to adopt the future default and silence this warning.\n",
      "\n",
      "C:\\Users\\arthu\\AppData\\Local\\Temp\\ipykernel_2372\\4151687317.py:3: FutureWarning:\n",
      "\n",
      "The default of observed=False is deprecated and will be changed to True in a future version of pandas. Pass observed=False to retain current behavior or observed=True to adopt the future default and silence this warning.\n",
      "\n"
     ]
    }
   ],
   "source": [
    "# Ordenar marcas pela média de preço ascendente\n",
    "marca_ordem = grouped.groupby('Marca')['Media_de_preco'].mean().sort_values().index\n",
    "categoria_ordem = grouped.groupby('Categoria')['Media_de_preco'].mean().sort_values().index\n",
    "\n",
    "grouped['Marca'] = pd.Categorical(grouped['Marca'], categories=marca_ordem, ordered=True)\n",
    "grouped['Categoria'] = pd.Categorical(grouped['Categoria'], categories=categoria_ordem, ordered=True)\n",
    "\n",
    "# Ordena o DataFrame de acordo com as novas ordens\n",
    "grouped.sort_values(['Marca', 'Categoria'], inplace=True)"
   ]
  },
  {
   "cell_type": "code",
   "execution_count": 220,
   "metadata": {
    "scrolled": true
   },
   "outputs": [
    {
     "data": {
      "application/vnd.plotly.v1+json": {
       "config": {
        "plotlyServerURL": "https://plot.ly"
       },
       "data": [
        {
         "colorbar": {
          "title": {
           "text": "Média de preço (CLP$)"
          }
         },
         "colorscale": [
          [
           0,
           "#440154"
          ],
          [
           0.1111111111111111,
           "#482878"
          ],
          [
           0.2222222222222222,
           "#3e4989"
          ],
          [
           0.3333333333333333,
           "#31688e"
          ],
          [
           0.4444444444444444,
           "#26828e"
          ],
          [
           0.5555555555555556,
           "#1f9e89"
          ],
          [
           0.6666666666666666,
           "#35b779"
          ],
          [
           0.7777777777777778,
           "#6ece58"
          ],
          [
           0.8888888888888888,
           "#b5de2b"
          ],
          [
           1,
           "#fde725"
          ]
         ],
         "hoverinfo": "text",
         "text": [
          "Preço: CLP$0.00",
          "Preço: CLP$0.00",
          "Preço: CLP$0.00",
          "Preço: CLP$0.00",
          "Preço: CLP$0.00",
          "Preço: CLP$0.00",
          "Preço: CLP$0.00",
          "Preço: CLP$0.00",
          "Preço: CLP$0.00",
          "Preço: CLP$0.00",
          "Preço: CLP$0.00",
          "Preço: CLP$0.00",
          "Preço: CLP$0.00",
          "Preço: CLP$0.00",
          "Preço: CLP$0.00",
          "Preço: CLP$0.00",
          "Preço: CLP$0.00",
          "Preço: CLP$0.00",
          "Preço: CLP$0.00",
          "Preço: CLP$0.00",
          "Preço: CLP$0.00",
          "Preço: CLP$0.00",
          "Preço: CLP$0.00",
          "Preço: CLP$0.00",
          "Preço: CLP$0.00",
          "Preço: CLP$0.00",
          "Preço: CLP$0.00",
          "Preço: CLP$0.00",
          "Preço: CLP$0.00",
          "Preço: CLP$187.25",
          "Preço: CLP$259.75",
          "Preço: CLP$409.00",
          "Preço: CLP$478.56",
          "Preço: CLP$521.86",
          "Preço: CLP$583.00",
          "Preço: CLP$585.57",
          "Preço: CLP$665.07",
          "Preço: CLP$682.33",
          "Preço: CLP$727.14",
          "Preço: CLP$730.89",
          "Preço: CLP$759.00",
          "Preço: CLP$796.19",
          "Preço: CLP$799.75",
          "Preço: CLP$859.00",
          "Preço: CLP$873.00",
          "Preço: CLP$939.00",
          "Preço: CLP$945.00",
          "Preço: CLP$973.83",
          "Preço: CLP$1039.00",
          "Preço: CLP$1059.67",
          "Preço: CLP$1087.89",
          "Preço: CLP$1094.10",
          "Preço: CLP$1114.00",
          "Preço: CLP$1125.60",
          "Preço: CLP$589.00",
          "Preço: CLP$1724.00",
          "Preço: CLP$1213.17",
          "Preço: CLP$1232.89",
          "Preço: CLP$1240.00",
          "Preço: CLP$1252.00",
          "Preço: CLP$1259.00",
          "Preço: CLP$1268.13",
          "Preço: CLP$1289.50",
          "Preço: CLP$1298.00",
          "Preço: CLP$1299.00",
          "Preço: CLP$1299.50",
          "Preço: CLP$1329.00",
          "Preço: CLP$1339.00",
          "Preço: CLP$1339.66",
          "Preço: CLP$1401.76",
          "Preço: CLP$1372.50",
          "Preço: CLP$1385.67",
          "Preço: CLP$1389.00",
          "Preço: CLP$1389.00",
          "Preço: CLP$1406.25",
          "Preço: CLP$1439.00",
          "Preço: CLP$1439.00",
          "Preço: CLP$1449.50",
          "Preço: CLP$1451.25",
          "Preço: CLP$1454.57",
          "Preço: CLP$1473.00",
          "Preço: CLP$1499.50",
          "Preço: CLP$1527.83",
          "Preço: CLP$1534.82",
          "Preço: CLP$1544.67",
          "Preço: CLP$1569.00",
          "Preço: CLP$255.20",
          "Preço: CLP$2139.00",
          "Preço: CLP$2390.00",
          "Preço: CLP$1599.00",
          "Preço: CLP$1619.17",
          "Preço: CLP$1624.42",
          "Preço: CLP$1659.00",
          "Preço: CLP$1666.75",
          "Preço: CLP$1699.00",
          "Preço: CLP$1719.50",
          "Preço: CLP$1724.00",
          "Preço: CLP$1779.00",
          "Preço: CLP$1803.54",
          "Preço: CLP$2984.25",
          "Preço: CLP$669.00",
          "Preço: CLP$1851.88",
          "Preço: CLP$1979.50",
          "Preço: CLP$1999.33",
          "Preço: CLP$2099.00",
          "Preço: CLP$2099.00",
          "Preço: CLP$2126.33",
          "Preço: CLP$2254.00",
          "Preço: CLP$2261.75",
          "Preço: CLP$2287.00",
          "Preço: CLP$2386.00",
          "Preço: CLP$2390.00",
          "Preço: CLP$2390.00",
          "Preço: CLP$2395.00",
          "Preço: CLP$2419.33",
          "Preço: CLP$2481.50",
          "Preço: CLP$2583.57",
          "Preço: CLP$1615.00",
          "Preço: CLP$2023.31",
          "Preço: CLP$4090.68",
          "Preço: CLP$3179.74",
          "Preço: CLP$2749.00",
          "Preço: CLP$2752.60",
          "Preço: CLP$2823.33",
          "Preço: CLP$2884.00",
          "Preço: CLP$2929.00",
          "Preço: CLP$2994.00",
          "Preço: CLP$2999.00",
          "Preço: CLP$3059.00",
          "Preço: CLP$3069.00",
          "Preço: CLP$3069.00",
          "Preço: CLP$3074.00",
          "Preço: CLP$3099.00",
          "Preço: CLP$3149.00",
          "Preço: CLP$3195.00",
          "Preço: CLP$3251.69",
          "Preço: CLP$3327.88",
          "Preço: CLP$3332.67",
          "Preço: CLP$3411.17",
          "Preço: CLP$2199.67",
          "Preço: CLP$4649.00",
          "Preço: CLP$3449.00",
          "Preço: CLP$3779.00",
          "Preço: CLP$3160.00",
          "Preço: CLP$3873.33",
          "Preço: CLP$3890.00",
          "Preço: CLP$3999.00",
          "Preço: CLP$3999.00",
          "Preço: CLP$4034.71",
          "Preço: CLP$4356.67",
          "Preço: CLP$4445.56",
          "Preço: CLP$4450.00",
          "Preço: CLP$4459.00",
          "Preço: CLP$2344.25",
          "Preço: CLP$6590.00",
          "Preço: CLP$4728.09",
          "Preço: CLP$4769.00",
          "Preço: CLP$4990.00",
          "Preço: CLP$5189.00",
          "Preço: CLP$5329.00",
          "Preço: CLP$5399.00",
          "Preço: CLP$7429.00",
          "Preço: CLP$7552.33",
          "Preço: CLP$7990.00",
          "Preço: CLP$9227.40",
          "Preço: CLP$10074.50",
          "Preço: CLP$16799.00"
         ],
         "type": "heatmap",
         "x": [
          "lacteos",
          "belleza-y-cuidado-personal",
          "belleza-y-cuidado-personal",
          "congelados",
          "belleza-y-cuidado-personal",
          "belleza-y-cuidado-personal",
          "verduras",
          "belleza-y-cuidado-personal",
          "belleza-y-cuidado-personal",
          "belleza-y-cuidado-personal",
          "belleza-y-cuidado-personal",
          "belleza-y-cuidado-personal",
          "congelados",
          "congelados",
          "congelados",
          "congelados",
          "lacteos",
          "belleza-y-cuidado-personal",
          "belleza-y-cuidado-personal",
          "belleza-y-cuidado-personal",
          "lacteos",
          "belleza-y-cuidado-personal",
          "belleza-y-cuidado-personal",
          "congelados",
          "instantaneos-y-sopas",
          "belleza-y-cuidado-personal",
          "belleza-y-cuidado-personal",
          "congelados",
          "belleza-y-cuidado-personal",
          "instantaneos-y-sopas",
          "lacteos",
          "lacteos",
          "lacteos",
          "instantaneos-y-sopas",
          "lacteos",
          "instantaneos-y-sopas",
          "belleza-y-cuidado-personal",
          "congelados",
          "belleza-y-cuidado-personal",
          "belleza-y-cuidado-personal",
          "lacteos",
          "lacteos",
          "belleza-y-cuidado-personal",
          "congelados",
          "belleza-y-cuidado-personal",
          "lacteos",
          "frutas",
          "lacteos",
          "instantaneos-y-sopas",
          "belleza-y-cuidado-personal",
          "lacteos",
          "lacteos",
          "congelados",
          "lacteos",
          "congelados",
          "comidas-preparadas",
          "belleza-y-cuidado-personal",
          "lacteos",
          "verduras",
          "belleza-y-cuidado-personal",
          "instantaneos-y-sopas",
          "congelados",
          "lacteos",
          "lacteos",
          "congelados",
          "belleza-y-cuidado-personal",
          "lacteos",
          "lacteos",
          "verduras",
          "frutas",
          "belleza-y-cuidado-personal",
          "belleza-y-cuidado-personal",
          "lacteos",
          "lacteos",
          "congelados",
          "congelados",
          "congelados",
          "lacteos",
          "belleza-y-cuidado-personal",
          "congelados",
          "lacteos",
          "belleza-y-cuidado-personal",
          "belleza-y-cuidado-personal",
          "belleza-y-cuidado-personal",
          "congelados",
          "belleza-y-cuidado-personal",
          "instantaneos-y-sopas",
          "lacteos",
          "comidas-preparadas",
          "belleza-y-cuidado-personal",
          "congelados",
          "belleza-y-cuidado-personal",
          "belleza-y-cuidado-personal",
          "belleza-y-cuidado-personal",
          "belleza-y-cuidado-personal",
          "lacteos",
          "lacteos",
          "lacteos",
          "lacteos",
          "congelados",
          "lacteos",
          "belleza-y-cuidado-personal",
          "lacteos",
          "belleza-y-cuidado-personal",
          "belleza-y-cuidado-personal",
          "congelados",
          "belleza-y-cuidado-personal",
          "congelados",
          "belleza-y-cuidado-personal",
          "belleza-y-cuidado-personal",
          "belleza-y-cuidado-personal",
          "comidas-preparadas",
          "belleza-y-cuidado-personal",
          "belleza-y-cuidado-personal",
          "lacteos",
          "belleza-y-cuidado-personal",
          "belleza-y-cuidado-personal",
          "instantaneos-y-sopas",
          "congelados",
          "lacteos",
          "comidas-preparadas",
          "belleza-y-cuidado-personal",
          "lacteos",
          "verduras",
          "lacteos",
          "lacteos",
          "lacteos",
          "lacteos",
          "lacteos",
          "lacteos",
          "lacteos",
          "instantaneos-y-sopas",
          "lacteos",
          "belleza-y-cuidado-personal",
          "congelados",
          "lacteos",
          "lacteos",
          "comidas-preparadas",
          "belleza-y-cuidado-personal",
          "congelados",
          "comidas-preparadas",
          "congelados",
          "instantaneos-y-sopas",
          "lacteos",
          "comidas-preparadas",
          "congelados",
          "lacteos",
          "belleza-y-cuidado-personal",
          "congelados",
          "comidas-preparadas",
          "lacteos",
          "congelados",
          "belleza-y-cuidado-personal",
          "congelados",
          "comidas-preparadas",
          "congelados",
          "belleza-y-cuidado-personal",
          "belleza-y-cuidado-personal",
          "lacteos",
          "congelados",
          "congelados",
          "belleza-y-cuidado-personal",
          "lacteos",
          "frutas",
          "lacteos",
          "belleza-y-cuidado-personal",
          "belleza-y-cuidado-personal"
         ],
         "y": [
          "1+1 Soprole",
          "Axe",
          "BiO",
          "Carte Dor",
          "Herbal",
          "Elite",
          "Dole",
          "Cotidian",
          "Herbal Essences",
          "Oral Fresh",
          "Rexona Clinical",
          "Nivea For Men",
          "Mega",
          "Not Ice Cream",
          "Not Burger",
          "Magnum",
          "Not Milk",
          "Rexona Men",
          "Rexona Men Clinical",
          "Rexona",
          "Soprole Activ",
          "Simonds",
          "Sensodyne",
          "Viennetta Bresler",
          "Traverso",
          "Vanart",
          "Tío Nacho",
          "Super Beef",
          "Sedal",
          "Gourmet",
          "Next",
          "Collico",
          "Oikos",
          "Naturezza",
          "Light & Free",
          "Maggi",
          "Dove",
          "Mister Veggie",
          "Pantene",
          "Fructis",
          "Marco Polo",
          "Nestlé",
          "Dove Men",
          "Super Cerdo",
          "Pepsodent",
          "Copacabana",
          "Frutas Y Verduras Santa Isabel",
          "Activia",
          "Carozzi",
          "Aquafresh",
          "Calan",
          "Quillayes",
          "King",
          "Cintazul",
          "PF",
          "PF",
          "Kotex",
          "Danone",
          "Agrosano",
          "Family Care",
          "Hoffmann",
          "Frutos Del Maipo",
          "Santa Marta",
          "Zerolacto",
          "Not Chicken",
          "Protex",
          "Crucina",
          "Astra",
          "Frutas Y Verduras Propias",
          "Frutas Y Verduras Propias",
          "Trianon",
          "Naturella",
          "Lefersa",
          "Deline",
          "Savory",
          "Rock",
          "Fiesta",
          "Omega 3",
          "Ballerina",
          "Bresler",
          "Chamyto",
          "Speed Stick",
          "Ladysoft",
          "Nosotras",
          "Super Pollo",
          "Giselle",
          "Santa Isabel",
          "Santa Isabel",
          "Santa Isabel",
          "Babyland",
          "Receta Del Abuelo",
          "Nivea",
          "Familand",
          "Always",
          "Duralón",
          "Yogu - Yogu",
          "Los Alerces",
          "Regimel",
          "Soprole",
          "Sahne Nuss",
          "Sahne Nuss",
          "Simond'S",
          "Sureña",
          "Lady Speed Stick",
          "Schick",
          "Rikü",
          "Dento",
          "Minuto Verde",
          "Le Sancy",
          "Oral-B",
          "Carefree",
          "Corbac",
          "Ilicit",
          "Elvive",
          "Bonella",
          "Bellekiss",
          "Colgate",
          "Cuisine & Co",
          "Cuisine & Co",
          "Cuisine & Co",
          "Cuisine & Co",
          "Gillette",
          "Colun",
          "Jumbo",
          "Qualy",
          "Pamperita",
          "Shake A Shake Lonco Leche",
          "Kumey",
          "Nesquik",
          "Chiquitín",
          "San Ignacio",
          "Alcafood",
          "Signore Mario",
          "Cotosan",
          "San Jorge",
          "Surlat",
          "Calo",
          "Solo Italia",
          "Head & Shoulders",
          "Sadia",
          "Sadia",
          "Alimentos Shen",
          "Máxima MP",
          "Máxima MP",
          "Bredenmaster",
          "Zole",
          "Base Culinar",
          "Linic",
          "Guallarauco",
          "Rana",
          "Loncoleche",
          "Tivoni",
          "Old Spice",
          "La Crianza",
          "La Crianza",
          "San Francisco De Loncomilla",
          "Brooks",
          "Garnier",
          "Ideal",
          "Bravissimo",
          "Turkey Hill",
          "Listerine",
          "Svelty",
          "Sofruco",
          "Nido",
          "Tena",
          "Plenitud"
         ],
         "z": [
          0,
          0,
          0,
          0,
          0,
          0,
          0,
          0,
          0,
          0,
          0,
          0,
          0,
          0,
          0,
          0,
          0,
          0,
          0,
          0,
          0,
          0,
          0,
          0,
          0,
          0,
          0,
          0,
          0,
          187.25,
          259.75,
          409,
          478.55555555555554,
          521.8571428571429,
          583,
          585.5714285714286,
          665.0666666666667,
          682.3333333333334,
          727.1428571428571,
          730.8888888888889,
          759,
          796.1860465116279,
          799.75,
          859,
          873,
          939,
          945,
          973.8333333333334,
          1039,
          1059.6666666666667,
          1087.888888888889,
          1094.1,
          1114,
          1125.6,
          589,
          1724,
          1213.1666666666667,
          1232.888888888889,
          1240,
          1252,
          1259,
          1268.1333333333334,
          1289.5,
          1298,
          1299,
          1299.5,
          1329,
          1339,
          1339.6607142857142,
          1401.764705882353,
          1372.5,
          1385.6666666666667,
          1389,
          1389,
          1406.25,
          1439,
          1439,
          1449.5,
          1451.25,
          1454.5714285714287,
          1473,
          1499.5,
          1527.8333333333333,
          1534.8181818181818,
          1544.6666666666667,
          1569,
          255.2,
          2139,
          2390,
          1599,
          1619.1666666666667,
          1624.4166666666667,
          1659,
          1666.75,
          1699,
          1719.5,
          1724,
          1779,
          1803.5392156862745,
          2984.25,
          669,
          1851.875,
          1979.5,
          1999.3333333333333,
          2099,
          2099,
          2126.3333333333335,
          2254,
          2261.75,
          2287,
          2386,
          2390,
          2390,
          2395,
          2419.3333333333335,
          2481.5,
          2583.5714285714284,
          1615,
          2023.3142857142857,
          4090.681818181818,
          3179.7368421052633,
          2749,
          2752.597701149425,
          2823.3333333333335,
          2884,
          2929,
          2994,
          2999,
          3059,
          3069,
          3069,
          3074,
          3099,
          3149,
          3195,
          3251.6923076923076,
          3327.875,
          3332.6666666666665,
          3411.1666666666665,
          2199.6666666666665,
          4649,
          3449,
          3779,
          3160,
          3873.3333333333335,
          3890,
          3999,
          3999,
          4034.714285714286,
          4356.666666666667,
          4445.56,
          4450,
          4459,
          2344.25,
          6590,
          4728.090909090909,
          4769,
          4990,
          5189,
          5329,
          5399,
          7429,
          7552.333333333333,
          7990,
          9227.4,
          10074.5,
          16799
         ]
        }
       ],
       "layout": {
        "template": {
         "data": {
          "bar": [
           {
            "error_x": {
             "color": "#2a3f5f"
            },
            "error_y": {
             "color": "#2a3f5f"
            },
            "marker": {
             "line": {
              "color": "#E5ECF6",
              "width": 0.5
             },
             "pattern": {
              "fillmode": "overlay",
              "size": 10,
              "solidity": 0.2
             }
            },
            "type": "bar"
           }
          ],
          "barpolar": [
           {
            "marker": {
             "line": {
              "color": "#E5ECF6",
              "width": 0.5
             },
             "pattern": {
              "fillmode": "overlay",
              "size": 10,
              "solidity": 0.2
             }
            },
            "type": "barpolar"
           }
          ],
          "carpet": [
           {
            "aaxis": {
             "endlinecolor": "#2a3f5f",
             "gridcolor": "white",
             "linecolor": "white",
             "minorgridcolor": "white",
             "startlinecolor": "#2a3f5f"
            },
            "baxis": {
             "endlinecolor": "#2a3f5f",
             "gridcolor": "white",
             "linecolor": "white",
             "minorgridcolor": "white",
             "startlinecolor": "#2a3f5f"
            },
            "type": "carpet"
           }
          ],
          "choropleth": [
           {
            "colorbar": {
             "outlinewidth": 0,
             "ticks": ""
            },
            "type": "choropleth"
           }
          ],
          "contour": [
           {
            "colorbar": {
             "outlinewidth": 0,
             "ticks": ""
            },
            "colorscale": [
             [
              0,
              "#0d0887"
             ],
             [
              0.1111111111111111,
              "#46039f"
             ],
             [
              0.2222222222222222,
              "#7201a8"
             ],
             [
              0.3333333333333333,
              "#9c179e"
             ],
             [
              0.4444444444444444,
              "#bd3786"
             ],
             [
              0.5555555555555556,
              "#d8576b"
             ],
             [
              0.6666666666666666,
              "#ed7953"
             ],
             [
              0.7777777777777778,
              "#fb9f3a"
             ],
             [
              0.8888888888888888,
              "#fdca26"
             ],
             [
              1,
              "#f0f921"
             ]
            ],
            "type": "contour"
           }
          ],
          "contourcarpet": [
           {
            "colorbar": {
             "outlinewidth": 0,
             "ticks": ""
            },
            "type": "contourcarpet"
           }
          ],
          "heatmap": [
           {
            "colorbar": {
             "outlinewidth": 0,
             "ticks": ""
            },
            "colorscale": [
             [
              0,
              "#0d0887"
             ],
             [
              0.1111111111111111,
              "#46039f"
             ],
             [
              0.2222222222222222,
              "#7201a8"
             ],
             [
              0.3333333333333333,
              "#9c179e"
             ],
             [
              0.4444444444444444,
              "#bd3786"
             ],
             [
              0.5555555555555556,
              "#d8576b"
             ],
             [
              0.6666666666666666,
              "#ed7953"
             ],
             [
              0.7777777777777778,
              "#fb9f3a"
             ],
             [
              0.8888888888888888,
              "#fdca26"
             ],
             [
              1,
              "#f0f921"
             ]
            ],
            "type": "heatmap"
           }
          ],
          "heatmapgl": [
           {
            "colorbar": {
             "outlinewidth": 0,
             "ticks": ""
            },
            "colorscale": [
             [
              0,
              "#0d0887"
             ],
             [
              0.1111111111111111,
              "#46039f"
             ],
             [
              0.2222222222222222,
              "#7201a8"
             ],
             [
              0.3333333333333333,
              "#9c179e"
             ],
             [
              0.4444444444444444,
              "#bd3786"
             ],
             [
              0.5555555555555556,
              "#d8576b"
             ],
             [
              0.6666666666666666,
              "#ed7953"
             ],
             [
              0.7777777777777778,
              "#fb9f3a"
             ],
             [
              0.8888888888888888,
              "#fdca26"
             ],
             [
              1,
              "#f0f921"
             ]
            ],
            "type": "heatmapgl"
           }
          ],
          "histogram": [
           {
            "marker": {
             "pattern": {
              "fillmode": "overlay",
              "size": 10,
              "solidity": 0.2
             }
            },
            "type": "histogram"
           }
          ],
          "histogram2d": [
           {
            "colorbar": {
             "outlinewidth": 0,
             "ticks": ""
            },
            "colorscale": [
             [
              0,
              "#0d0887"
             ],
             [
              0.1111111111111111,
              "#46039f"
             ],
             [
              0.2222222222222222,
              "#7201a8"
             ],
             [
              0.3333333333333333,
              "#9c179e"
             ],
             [
              0.4444444444444444,
              "#bd3786"
             ],
             [
              0.5555555555555556,
              "#d8576b"
             ],
             [
              0.6666666666666666,
              "#ed7953"
             ],
             [
              0.7777777777777778,
              "#fb9f3a"
             ],
             [
              0.8888888888888888,
              "#fdca26"
             ],
             [
              1,
              "#f0f921"
             ]
            ],
            "type": "histogram2d"
           }
          ],
          "histogram2dcontour": [
           {
            "colorbar": {
             "outlinewidth": 0,
             "ticks": ""
            },
            "colorscale": [
             [
              0,
              "#0d0887"
             ],
             [
              0.1111111111111111,
              "#46039f"
             ],
             [
              0.2222222222222222,
              "#7201a8"
             ],
             [
              0.3333333333333333,
              "#9c179e"
             ],
             [
              0.4444444444444444,
              "#bd3786"
             ],
             [
              0.5555555555555556,
              "#d8576b"
             ],
             [
              0.6666666666666666,
              "#ed7953"
             ],
             [
              0.7777777777777778,
              "#fb9f3a"
             ],
             [
              0.8888888888888888,
              "#fdca26"
             ],
             [
              1,
              "#f0f921"
             ]
            ],
            "type": "histogram2dcontour"
           }
          ],
          "mesh3d": [
           {
            "colorbar": {
             "outlinewidth": 0,
             "ticks": ""
            },
            "type": "mesh3d"
           }
          ],
          "parcoords": [
           {
            "line": {
             "colorbar": {
              "outlinewidth": 0,
              "ticks": ""
             }
            },
            "type": "parcoords"
           }
          ],
          "pie": [
           {
            "automargin": true,
            "type": "pie"
           }
          ],
          "scatter": [
           {
            "fillpattern": {
             "fillmode": "overlay",
             "size": 10,
             "solidity": 0.2
            },
            "type": "scatter"
           }
          ],
          "scatter3d": [
           {
            "line": {
             "colorbar": {
              "outlinewidth": 0,
              "ticks": ""
             }
            },
            "marker": {
             "colorbar": {
              "outlinewidth": 0,
              "ticks": ""
             }
            },
            "type": "scatter3d"
           }
          ],
          "scattercarpet": [
           {
            "marker": {
             "colorbar": {
              "outlinewidth": 0,
              "ticks": ""
             }
            },
            "type": "scattercarpet"
           }
          ],
          "scattergeo": [
           {
            "marker": {
             "colorbar": {
              "outlinewidth": 0,
              "ticks": ""
             }
            },
            "type": "scattergeo"
           }
          ],
          "scattergl": [
           {
            "marker": {
             "colorbar": {
              "outlinewidth": 0,
              "ticks": ""
             }
            },
            "type": "scattergl"
           }
          ],
          "scattermapbox": [
           {
            "marker": {
             "colorbar": {
              "outlinewidth": 0,
              "ticks": ""
             }
            },
            "type": "scattermapbox"
           }
          ],
          "scatterpolar": [
           {
            "marker": {
             "colorbar": {
              "outlinewidth": 0,
              "ticks": ""
             }
            },
            "type": "scatterpolar"
           }
          ],
          "scatterpolargl": [
           {
            "marker": {
             "colorbar": {
              "outlinewidth": 0,
              "ticks": ""
             }
            },
            "type": "scatterpolargl"
           }
          ],
          "scatterternary": [
           {
            "marker": {
             "colorbar": {
              "outlinewidth": 0,
              "ticks": ""
             }
            },
            "type": "scatterternary"
           }
          ],
          "surface": [
           {
            "colorbar": {
             "outlinewidth": 0,
             "ticks": ""
            },
            "colorscale": [
             [
              0,
              "#0d0887"
             ],
             [
              0.1111111111111111,
              "#46039f"
             ],
             [
              0.2222222222222222,
              "#7201a8"
             ],
             [
              0.3333333333333333,
              "#9c179e"
             ],
             [
              0.4444444444444444,
              "#bd3786"
             ],
             [
              0.5555555555555556,
              "#d8576b"
             ],
             [
              0.6666666666666666,
              "#ed7953"
             ],
             [
              0.7777777777777778,
              "#fb9f3a"
             ],
             [
              0.8888888888888888,
              "#fdca26"
             ],
             [
              1,
              "#f0f921"
             ]
            ],
            "type": "surface"
           }
          ],
          "table": [
           {
            "cells": {
             "fill": {
              "color": "#EBF0F8"
             },
             "line": {
              "color": "white"
             }
            },
            "header": {
             "fill": {
              "color": "#C8D4E3"
             },
             "line": {
              "color": "white"
             }
            },
            "type": "table"
           }
          ]
         },
         "layout": {
          "annotationdefaults": {
           "arrowcolor": "#2a3f5f",
           "arrowhead": 0,
           "arrowwidth": 1
          },
          "autotypenumbers": "strict",
          "coloraxis": {
           "colorbar": {
            "outlinewidth": 0,
            "ticks": ""
           }
          },
          "colorscale": {
           "diverging": [
            [
             0,
             "#8e0152"
            ],
            [
             0.1,
             "#c51b7d"
            ],
            [
             0.2,
             "#de77ae"
            ],
            [
             0.3,
             "#f1b6da"
            ],
            [
             0.4,
             "#fde0ef"
            ],
            [
             0.5,
             "#f7f7f7"
            ],
            [
             0.6,
             "#e6f5d0"
            ],
            [
             0.7,
             "#b8e186"
            ],
            [
             0.8,
             "#7fbc41"
            ],
            [
             0.9,
             "#4d9221"
            ],
            [
             1,
             "#276419"
            ]
           ],
           "sequential": [
            [
             0,
             "#0d0887"
            ],
            [
             0.1111111111111111,
             "#46039f"
            ],
            [
             0.2222222222222222,
             "#7201a8"
            ],
            [
             0.3333333333333333,
             "#9c179e"
            ],
            [
             0.4444444444444444,
             "#bd3786"
            ],
            [
             0.5555555555555556,
             "#d8576b"
            ],
            [
             0.6666666666666666,
             "#ed7953"
            ],
            [
             0.7777777777777778,
             "#fb9f3a"
            ],
            [
             0.8888888888888888,
             "#fdca26"
            ],
            [
             1,
             "#f0f921"
            ]
           ],
           "sequentialminus": [
            [
             0,
             "#0d0887"
            ],
            [
             0.1111111111111111,
             "#46039f"
            ],
            [
             0.2222222222222222,
             "#7201a8"
            ],
            [
             0.3333333333333333,
             "#9c179e"
            ],
            [
             0.4444444444444444,
             "#bd3786"
            ],
            [
             0.5555555555555556,
             "#d8576b"
            ],
            [
             0.6666666666666666,
             "#ed7953"
            ],
            [
             0.7777777777777778,
             "#fb9f3a"
            ],
            [
             0.8888888888888888,
             "#fdca26"
            ],
            [
             1,
             "#f0f921"
            ]
           ]
          },
          "colorway": [
           "#636efa",
           "#EF553B",
           "#00cc96",
           "#ab63fa",
           "#FFA15A",
           "#19d3f3",
           "#FF6692",
           "#B6E880",
           "#FF97FF",
           "#FECB52"
          ],
          "font": {
           "color": "#2a3f5f"
          },
          "geo": {
           "bgcolor": "white",
           "lakecolor": "white",
           "landcolor": "#E5ECF6",
           "showlakes": true,
           "showland": true,
           "subunitcolor": "white"
          },
          "hoverlabel": {
           "align": "left"
          },
          "hovermode": "closest",
          "mapbox": {
           "style": "light"
          },
          "paper_bgcolor": "white",
          "plot_bgcolor": "#E5ECF6",
          "polar": {
           "angularaxis": {
            "gridcolor": "white",
            "linecolor": "white",
            "ticks": ""
           },
           "bgcolor": "#E5ECF6",
           "radialaxis": {
            "gridcolor": "white",
            "linecolor": "white",
            "ticks": ""
           }
          },
          "scene": {
           "xaxis": {
            "backgroundcolor": "#E5ECF6",
            "gridcolor": "white",
            "gridwidth": 2,
            "linecolor": "white",
            "showbackground": true,
            "ticks": "",
            "zerolinecolor": "white"
           },
           "yaxis": {
            "backgroundcolor": "#E5ECF6",
            "gridcolor": "white",
            "gridwidth": 2,
            "linecolor": "white",
            "showbackground": true,
            "ticks": "",
            "zerolinecolor": "white"
           },
           "zaxis": {
            "backgroundcolor": "#E5ECF6",
            "gridcolor": "white",
            "gridwidth": 2,
            "linecolor": "white",
            "showbackground": true,
            "ticks": "",
            "zerolinecolor": "white"
           }
          },
          "shapedefaults": {
           "line": {
            "color": "#2a3f5f"
           }
          },
          "ternary": {
           "aaxis": {
            "gridcolor": "white",
            "linecolor": "white",
            "ticks": ""
           },
           "baxis": {
            "gridcolor": "white",
            "linecolor": "white",
            "ticks": ""
           },
           "bgcolor": "#E5ECF6",
           "caxis": {
            "gridcolor": "white",
            "linecolor": "white",
            "ticks": ""
           }
          },
          "title": {
           "x": 0.05
          },
          "xaxis": {
           "automargin": true,
           "gridcolor": "white",
           "linecolor": "white",
           "ticks": "",
           "title": {
            "standoff": 15
           },
           "zerolinecolor": "white",
           "zerolinewidth": 2
          },
          "yaxis": {
           "automargin": true,
           "gridcolor": "white",
           "linecolor": "white",
           "ticks": "",
           "title": {
            "standoff": 15
           },
           "zerolinecolor": "white",
           "zerolinewidth": 2
          }
         }
        },
        "xaxis": {
         "categoryarray": [
          "instantaneos-y-sopas",
          "verduras",
          "congelados",
          "belleza-y-cuidado-personal",
          "lacteos",
          "frutas",
          "comidas-preparadas"
         ],
         "categoryorder": "array"
        },
        "yaxis": {
         "categoryarray": [
          "1+1 Soprole",
          "Axe",
          "BiO",
          "Carte Dor",
          "Herbal",
          "Elite",
          "Dole",
          "Cotidian",
          "Herbal Essences",
          "Oral Fresh",
          "Rexona Clinical",
          "Nivea For Men",
          "Mega",
          "Not Ice Cream",
          "Not Burger",
          "Magnum",
          "Not Milk",
          "Rexona Men",
          "Rexona Men Clinical",
          "Rexona",
          "Soprole Activ",
          "Simonds",
          "Sensodyne",
          "Viennetta Bresler",
          "Traverso",
          "Vanart",
          "Tío Nacho",
          "Super Beef",
          "Sedal",
          "Gourmet",
          "Next",
          "Collico",
          "Oikos",
          "Naturezza",
          "Light & Free",
          "Maggi",
          "Dove",
          "Mister Veggie",
          "Pantene",
          "Fructis",
          "Marco Polo",
          "Nestlé",
          "Dove Men",
          "Super Cerdo",
          "Pepsodent",
          "Copacabana",
          "Frutas Y Verduras Santa Isabel",
          "Activia",
          "Carozzi",
          "Aquafresh",
          "Calan",
          "Quillayes",
          "King",
          "Cintazul",
          "PF",
          "Kotex",
          "Danone",
          "Agrosano",
          "Family Care",
          "Hoffmann",
          "Frutos Del Maipo",
          "Santa Marta",
          "Zerolacto",
          "Not Chicken",
          "Protex",
          "Crucina",
          "Astra",
          "Frutas Y Verduras Propias",
          "Trianon",
          "Naturella",
          "Lefersa",
          "Deline",
          "Savory",
          "Rock",
          "Fiesta",
          "Omega 3",
          "Ballerina",
          "Bresler",
          "Chamyto",
          "Speed Stick",
          "Ladysoft",
          "Nosotras",
          "Super Pollo",
          "Giselle",
          "Santa Isabel",
          "Babyland",
          "Receta Del Abuelo",
          "Nivea",
          "Familand",
          "Always",
          "Duralón",
          "Yogu - Yogu",
          "Los Alerces",
          "Regimel",
          "Soprole",
          "Sahne Nuss",
          "Simond'S",
          "Sureña",
          "Lady Speed Stick",
          "Schick",
          "Rikü",
          "Dento",
          "Minuto Verde",
          "Le Sancy",
          "Oral-B",
          "Carefree",
          "Corbac",
          "Ilicit",
          "Elvive",
          "Bonella",
          "Bellekiss",
          "Colgate",
          "Cuisine & Co",
          "Gillette",
          "Colun",
          "Jumbo",
          "Qualy",
          "Pamperita",
          "Shake A Shake Lonco Leche",
          "Kumey",
          "Nesquik",
          "Chiquitín",
          "San Ignacio",
          "Alcafood",
          "Signore Mario",
          "Cotosan",
          "San Jorge",
          "Surlat",
          "Calo",
          "Solo Italia",
          "Head & Shoulders",
          "Sadia",
          "Alimentos Shen",
          "Máxima MP",
          "Bredenmaster",
          "Zole",
          "Base Culinar",
          "Linic",
          "Guallarauco",
          "Rana",
          "Loncoleche",
          "Tivoni",
          "Old Spice",
          "La Crianza",
          "San Francisco De Loncomilla",
          "Brooks",
          "Garnier",
          "Ideal",
          "Bravissimo",
          "Turkey Hill",
          "Listerine",
          "Svelty",
          "Sofruco",
          "Nido",
          "Tena",
          "Plenitud"
         ],
         "categoryorder": "array"
        }
       }
      },
      "image/png": "[encoded data removed]",
      "text/html": [
       "<div>                            <div id=\"9afe17fa-a569-43b1-a6f9-18500c921d38\" class=\"plotly-graph-div\" style=\"height:525px; width:100%;\"></div>            <script type=\"text/javascript\">                require([\"plotly\"], function(Plotly) {                    window.PLOTLYENV=window.PLOTLYENV || {};                                    if (document.getElementById(\"9afe17fa-a569-43b1-a6f9-18500c921d38\")) {                    Plotly.newPlot(                        \"9afe17fa-a569-43b1-a6f9-18500c921d38\",                        [{\"colorbar\":{\"title\":{\"text\":\"M\\u00e9dia de pre\\u00e7o (CLP$)\"}},\"colorscale\":[[0.0,\"#440154\"],[0.1111111111111111,\"#482878\"],[0.2222222222222222,\"#3e4989\"],[0.3333333333333333,\"#31688e\"],[0.4444444444444444,\"#26828e\"],[0.5555555555555556,\"#1f9e89\"],[0.6666666666666666,\"#35b779\"],[0.7777777777777778,\"#6ece58\"],[0.8888888888888888,\"#b5de2b\"],[1.0,\"#fde725\"]],\"hoverinfo\":\"text\",\"text\":[\"Pre\\u00e7o: CLP$0.00\",\"Pre\\u00e7o: CLP$0.00\",\"Pre\\u00e7o: CLP$0.00\",\"Pre\\u00e7o: CLP$0.00\",\"Pre\\u00e7o: CLP$0.00\",\"Pre\\u00e7o: CLP$0.00\",\"Pre\\u00e7o: CLP$0.00\",\"Pre\\u00e7o: CLP$0.00\",\"Pre\\u00e7o: CLP$0.00\",\"Pre\\u00e7o: CLP$0.00\",\"Pre\\u00e7o: CLP$0.00\",\"Pre\\u00e7o: CLP$0.00\",\"Pre\\u00e7o: CLP$0.00\",\"Pre\\u00e7o: CLP$0.00\",\"Pre\\u00e7o: CLP$0.00\",\"Pre\\u00e7o: CLP$0.00\",\"Pre\\u00e7o: CLP$0.00\",\"Pre\\u00e7o: CLP$0.00\",\"Pre\\u00e7o: CLP$0.00\",\"Pre\\u00e7o: CLP$0.00\",\"Pre\\u00e7o: CLP$0.00\",\"Pre\\u00e7o: CLP$0.00\",\"Pre\\u00e7o: CLP$0.00\",\"Pre\\u00e7o: CLP$0.00\",\"Pre\\u00e7o: CLP$0.00\",\"Pre\\u00e7o: CLP$0.00\",\"Pre\\u00e7o: CLP$0.00\",\"Pre\\u00e7o: CLP$0.00\",\"Pre\\u00e7o: CLP$0.00\",\"Pre\\u00e7o: CLP$187.25\",\"Pre\\u00e7o: CLP$259.75\",\"Pre\\u00e7o: CLP$409.00\",\"Pre\\u00e7o: CLP$478.56\",\"Pre\\u00e7o: CLP$521.86\",\"Pre\\u00e7o: CLP$583.00\",\"Pre\\u00e7o: CLP$585.57\",\"Pre\\u00e7o: CLP$665.07\",\"Pre\\u00e7o: CLP$682.33\",\"Pre\\u00e7o: CLP$727.14\",\"Pre\\u00e7o: CLP$730.89\",\"Pre\\u00e7o: CLP$759.00\",\"Pre\\u00e7o: CLP$796.19\",\"Pre\\u00e7o: CLP$799.75\",\"Pre\\u00e7o: CLP$859.00\",\"Pre\\u00e7o: CLP$873.00\",\"Pre\\u00e7o: CLP$939.00\",\"Pre\\u00e7o: CLP$945.00\",\"Pre\\u00e7o: CLP$973.83\",\"Pre\\u00e7o: CLP$1039.00\",\"Pre\\u00e7o: CLP$1059.67\",\"Pre\\u00e7o: CLP$1087.89\",\"Pre\\u00e7o: CLP$1094.10\",\"Pre\\u00e7o: CLP$1114.00\",\"Pre\\u00e7o: CLP$1125.60\",\"Pre\\u00e7o: CLP$589.00\",\"Pre\\u00e7o: CLP$1724.00\",\"Pre\\u00e7o: CLP$1213.17\",\"Pre\\u00e7o: CLP$1232.89\",\"Pre\\u00e7o: CLP$1240.00\",\"Pre\\u00e7o: CLP$1252.00\",\"Pre\\u00e7o: CLP$1259.00\",\"Pre\\u00e7o: CLP$1268.13\",\"Pre\\u00e7o: CLP$1289.50\",\"Pre\\u00e7o: CLP$1298.00\",\"Pre\\u00e7o: CLP$1299.00\",\"Pre\\u00e7o: CLP$1299.50\",\"Pre\\u00e7o: CLP$1329.00\",\"Pre\\u00e7o: CLP$1339.00\",\"Pre\\u00e7o: CLP$1339.66\",\"Pre\\u00e7o: CLP$1401.76\",\"Pre\\u00e7o: CLP$1372.50\",\"Pre\\u00e7o: CLP$1385.67\",\"Pre\\u00e7o: CLP$1389.00\",\"Pre\\u00e7o: CLP$1389.00\",\"Pre\\u00e7o: CLP$1406.25\",\"Pre\\u00e7o: CLP$1439.00\",\"Pre\\u00e7o: CLP$1439.00\",\"Pre\\u00e7o: CLP$1449.50\",\"Pre\\u00e7o: CLP$1451.25\",\"Pre\\u00e7o: CLP$1454.57\",\"Pre\\u00e7o: CLP$1473.00\",\"Pre\\u00e7o: CLP$1499.50\",\"Pre\\u00e7o: CLP$1527.83\",\"Pre\\u00e7o: CLP$1534.82\",\"Pre\\u00e7o: CLP$1544.67\",\"Pre\\u00e7o: CLP$1569.00\",\"Pre\\u00e7o: CLP$255.20\",\"Pre\\u00e7o: CLP$2139.00\",\"Pre\\u00e7o: CLP$2390.00\",\"Pre\\u00e7o: CLP$1599.00\",\"Pre\\u00e7o: CLP$1619.17\",\"Pre\\u00e7o: CLP$1624.42\",\"Pre\\u00e7o: CLP$1659.00\",\"Pre\\u00e7o: CLP$1666.75\",\"Pre\\u00e7o: CLP$1699.00\",\"Pre\\u00e7o: CLP$1719.50\",\"Pre\\u00e7o: CLP$1724.00\",\"Pre\\u00e7o: CLP$1779.00\",\"Pre\\u00e7o: CLP$1803.54\",\"Pre\\u00e7o: CLP$2984.25\",\"Pre\\u00e7o: CLP$669.00\",\"Pre\\u00e7o: CLP$1851.88\",\"Pre\\u00e7o: CLP$1979.50\",\"Pre\\u00e7o: CLP$1999.33\",\"Pre\\u00e7o: CLP$2099.00\",\"Pre\\u00e7o: CLP$2099.00\",\"Pre\\u00e7o: CLP$2126.33\",\"Pre\\u00e7o: CLP$2254.00\",\"Pre\\u00e7o: CLP$2261.75\",\"Pre\\u00e7o: CLP$2287.00\",\"Pre\\u00e7o: CLP$2386.00\",\"Pre\\u00e7o: CLP$2390.00\",\"Pre\\u00e7o: CLP$2390.00\",\"Pre\\u00e7o: CLP$2395.00\",\"Pre\\u00e7o: CLP$2419.33\",\"Pre\\u00e7o: CLP$2481.50\",\"Pre\\u00e7o: CLP$2583.57\",\"Pre\\u00e7o: CLP$1615.00\",\"Pre\\u00e7o: CLP$2023.31\",\"Pre\\u00e7o: CLP$4090.68\",\"Pre\\u00e7o: CLP$3179.74\",\"Pre\\u00e7o: CLP$2749.00\",\"Pre\\u00e7o: CLP$2752.60\",\"Pre\\u00e7o: CLP$2823.33\",\"Pre\\u00e7o: CLP$2884.00\",\"Pre\\u00e7o: CLP$2929.00\",\"Pre\\u00e7o: CLP$2994.00\",\"Pre\\u00e7o: CLP$2999.00\",\"Pre\\u00e7o: CLP$3059.00\",\"Pre\\u00e7o: CLP$3069.00\",\"Pre\\u00e7o: CLP$3069.00\",\"Pre\\u00e7o: CLP$3074.00\",\"Pre\\u00e7o: CLP$3099.00\",\"Pre\\u00e7o: CLP$3149.00\",\"Pre\\u00e7o: CLP$3195.00\",\"Pre\\u00e7o: CLP$3251.69\",\"Pre\\u00e7o: CLP$3327.88\",\"Pre\\u00e7o: CLP$3332.67\",\"Pre\\u00e7o: CLP$3411.17\",\"Pre\\u00e7o: CLP$2199.67\",\"Pre\\u00e7o: CLP$4649.00\",\"Pre\\u00e7o: CLP$3449.00\",\"Pre\\u00e7o: CLP$3779.00\",\"Pre\\u00e7o: CLP$3160.00\",\"Pre\\u00e7o: CLP$3873.33\",\"Pre\\u00e7o: CLP$3890.00\",\"Pre\\u00e7o: CLP$3999.00\",\"Pre\\u00e7o: CLP$3999.00\",\"Pre\\u00e7o: CLP$4034.71\",\"Pre\\u00e7o: CLP$4356.67\",\"Pre\\u00e7o: CLP$4445.56\",\"Pre\\u00e7o: CLP$4450.00\",\"Pre\\u00e7o: CLP$4459.00\",\"Pre\\u00e7o: CLP$2344.25\",\"Pre\\u00e7o: CLP$6590.00\",\"Pre\\u00e7o: CLP$4728.09\",\"Pre\\u00e7o: CLP$4769.00\",\"Pre\\u00e7o: CLP$4990.00\",\"Pre\\u00e7o: CLP$5189.00\",\"Pre\\u00e7o: CLP$5329.00\",\"Pre\\u00e7o: CLP$5399.00\",\"Pre\\u00e7o: CLP$7429.00\",\"Pre\\u00e7o: CLP$7552.33\",\"Pre\\u00e7o: CLP$7990.00\",\"Pre\\u00e7o: CLP$9227.40\",\"Pre\\u00e7o: CLP$10074.50\",\"Pre\\u00e7o: CLP$16799.00\"],\"x\":[\"lacteos\",\"belleza-y-cuidado-personal\",\"belleza-y-cuidado-personal\",\"congelados\",\"belleza-y-cuidado-personal\",\"belleza-y-cuidado-personal\",\"verduras\",\"belleza-y-cuidado-personal\",\"belleza-y-cuidado-personal\",\"belleza-y-cuidado-personal\",\"belleza-y-cuidado-personal\",\"belleza-y-cuidado-personal\",\"congelados\",\"congelados\",\"congelados\",\"congelados\",\"lacteos\",\"belleza-y-cuidado-personal\",\"belleza-y-cuidado-personal\",\"belleza-y-cuidado-personal\",\"lacteos\",\"belleza-y-cuidado-personal\",\"belleza-y-cuidado-personal\",\"congelados\",\"instantaneos-y-sopas\",\"belleza-y-cuidado-personal\",\"belleza-y-cuidado-personal\",\"congelados\",\"belleza-y-cuidado-personal\",\"instantaneos-y-sopas\",\"lacteos\",\"lacteos\",\"lacteos\",\"instantaneos-y-sopas\",\"lacteos\",\"instantaneos-y-sopas\",\"belleza-y-cuidado-personal\",\"congelados\",\"belleza-y-cuidado-personal\",\"belleza-y-cuidado-personal\",\"lacteos\",\"lacteos\",\"belleza-y-cuidado-personal\",\"congelados\",\"belleza-y-cuidado-personal\",\"lacteos\",\"frutas\",\"lacteos\",\"instantaneos-y-sopas\",\"belleza-y-cuidado-personal\",\"lacteos\",\"lacteos\",\"congelados\",\"lacteos\",\"congelados\",\"comidas-preparadas\",\"belleza-y-cuidado-personal\",\"lacteos\",\"verduras\",\"belleza-y-cuidado-personal\",\"instantaneos-y-sopas\",\"congelados\",\"lacteos\",\"lacteos\",\"congelados\",\"belleza-y-cuidado-personal\",\"lacteos\",\"lacteos\",\"verduras\",\"frutas\",\"belleza-y-cuidado-personal\",\"belleza-y-cuidado-personal\",\"lacteos\",\"lacteos\",\"congelados\",\"congelados\",\"congelados\",\"lacteos\",\"belleza-y-cuidado-personal\",\"congelados\",\"lacteos\",\"belleza-y-cuidado-personal\",\"belleza-y-cuidado-personal\",\"belleza-y-cuidado-personal\",\"congelados\",\"belleza-y-cuidado-personal\",\"instantaneos-y-sopas\",\"lacteos\",\"comidas-preparadas\",\"belleza-y-cuidado-personal\",\"congelados\",\"belleza-y-cuidado-personal\",\"belleza-y-cuidado-personal\",\"belleza-y-cuidado-personal\",\"belleza-y-cuidado-personal\",\"lacteos\",\"lacteos\",\"lacteos\",\"lacteos\",\"congelados\",\"lacteos\",\"belleza-y-cuidado-personal\",\"lacteos\",\"belleza-y-cuidado-personal\",\"belleza-y-cuidado-personal\",\"congelados\",\"belleza-y-cuidado-personal\",\"congelados\",\"belleza-y-cuidado-personal\",\"belleza-y-cuidado-personal\",\"belleza-y-cuidado-personal\",\"comidas-preparadas\",\"belleza-y-cuidado-personal\",\"belleza-y-cuidado-personal\",\"lacteos\",\"belleza-y-cuidado-personal\",\"belleza-y-cuidado-personal\",\"instantaneos-y-sopas\",\"congelados\",\"lacteos\",\"comidas-preparadas\",\"belleza-y-cuidado-personal\",\"lacteos\",\"verduras\",\"lacteos\",\"lacteos\",\"lacteos\",\"lacteos\",\"lacteos\",\"lacteos\",\"lacteos\",\"instantaneos-y-sopas\",\"lacteos\",\"belleza-y-cuidado-personal\",\"congelados\",\"lacteos\",\"lacteos\",\"comidas-preparadas\",\"belleza-y-cuidado-personal\",\"congelados\",\"comidas-preparadas\",\"congelados\",\"instantaneos-y-sopas\",\"lacteos\",\"comidas-preparadas\",\"congelados\",\"lacteos\",\"belleza-y-cuidado-personal\",\"congelados\",\"comidas-preparadas\",\"lacteos\",\"congelados\",\"belleza-y-cuidado-personal\",\"congelados\",\"comidas-preparadas\",\"congelados\",\"belleza-y-cuidado-personal\",\"belleza-y-cuidado-personal\",\"lacteos\",\"congelados\",\"congelados\",\"belleza-y-cuidado-personal\",\"lacteos\",\"frutas\",\"lacteos\",\"belleza-y-cuidado-personal\",\"belleza-y-cuidado-personal\"],\"y\":[\"1+1 Soprole\",\"Axe\",\"BiO\",\"Carte Dor\",\"Herbal\",\"Elite\",\"Dole\",\"Cotidian\",\"Herbal Essences\",\"Oral Fresh\",\"Rexona Clinical\",\"Nivea For Men\",\"Mega\",\"Not Ice Cream\",\"Not Burger\",\"Magnum\",\"Not Milk\",\"Rexona Men\",\"Rexona Men Clinical\",\"Rexona\",\"Soprole Activ\",\"Simonds\",\"Sensodyne\",\"Viennetta Bresler\",\"Traverso\",\"Vanart\",\"T\\u00edo Nacho\",\"Super Beef\",\"Sedal\",\"Gourmet\",\"Next\",\"Collico\",\"Oikos\",\"Naturezza\",\"Light & Free\",\"Maggi\",\"Dove\",\"Mister Veggie\",\"Pantene\",\"Fructis\",\"Marco Polo\",\"Nestl\\u00e9\",\"Dove Men\",\"Super Cerdo\",\"Pepsodent\",\"Copacabana\",\"Frutas Y Verduras Santa Isabel\",\"Activia\",\"Carozzi\",\"Aquafresh\",\"Calan\",\"Quillayes\",\"King\",\"Cintazul\",\"PF\",\"PF\",\"Kotex\",\"Danone\",\"Agrosano\",\"Family Care\",\"Hoffmann\",\"Frutos Del Maipo\",\"Santa Marta\",\"Zerolacto\",\"Not Chicken\",\"Protex\",\"Crucina\",\"Astra\",\"Frutas Y Verduras Propias\",\"Frutas Y Verduras Propias\",\"Trianon\",\"Naturella\",\"Lefersa\",\"Deline\",\"Savory\",\"Rock\",\"Fiesta\",\"Omega 3\",\"Ballerina\",\"Bresler\",\"Chamyto\",\"Speed Stick\",\"Ladysoft\",\"Nosotras\",\"Super Pollo\",\"Giselle\",\"Santa Isabel\",\"Santa Isabel\",\"Santa Isabel\",\"Babyland\",\"Receta Del Abuelo\",\"Nivea\",\"Familand\",\"Always\",\"Dural\\u00f3n\",\"Yogu - Yogu\",\"Los Alerces\",\"Regimel\",\"Soprole\",\"Sahne Nuss\",\"Sahne Nuss\",\"Simond'S\",\"Sure\\u00f1a\",\"Lady Speed Stick\",\"Schick\",\"Rik\\u00fc\",\"Dento\",\"Minuto Verde\",\"Le Sancy\",\"Oral-B\",\"Carefree\",\"Corbac\",\"Ilicit\",\"Elvive\",\"Bonella\",\"Bellekiss\",\"Colgate\",\"Cuisine & Co\",\"Cuisine & Co\",\"Cuisine & Co\",\"Cuisine & Co\",\"Gillette\",\"Colun\",\"Jumbo\",\"Qualy\",\"Pamperita\",\"Shake A Shake Lonco Leche\",\"Kumey\",\"Nesquik\",\"Chiquit\\u00edn\",\"San Ignacio\",\"Alcafood\",\"Signore Mario\",\"Cotosan\",\"San Jorge\",\"Surlat\",\"Calo\",\"Solo Italia\",\"Head & Shoulders\",\"Sadia\",\"Sadia\",\"Alimentos Shen\",\"M\\u00e1xima MP\",\"M\\u00e1xima MP\",\"Bredenmaster\",\"Zole\",\"Base Culinar\",\"Linic\",\"Guallarauco\",\"Rana\",\"Loncoleche\",\"Tivoni\",\"Old Spice\",\"La Crianza\",\"La Crianza\",\"San Francisco De Loncomilla\",\"Brooks\",\"Garnier\",\"Ideal\",\"Bravissimo\",\"Turkey Hill\",\"Listerine\",\"Svelty\",\"Sofruco\",\"Nido\",\"Tena\",\"Plenitud\"],\"z\":[0.0,0.0,0.0,0.0,0.0,0.0,0.0,0.0,0.0,0.0,0.0,0.0,0.0,0.0,0.0,0.0,0.0,0.0,0.0,0.0,0.0,0.0,0.0,0.0,0.0,0.0,0.0,0.0,0.0,187.25,259.75,409.0,478.55555555555554,521.8571428571429,583.0,585.5714285714286,665.0666666666667,682.3333333333334,727.1428571428571,730.8888888888889,759.0,796.1860465116279,799.75,859.0,873.0,939.0,945.0,973.8333333333334,1039.0,1059.6666666666667,1087.888888888889,1094.1,1114.0,1125.6,589.0,1724.0,1213.1666666666667,1232.888888888889,1240.0,1252.0,1259.0,1268.1333333333334,1289.5,1298.0,1299.0,1299.5,1329.0,1339.0,1339.6607142857142,1401.764705882353,1372.5,1385.6666666666667,1389.0,1389.0,1406.25,1439.0,1439.0,1449.5,1451.25,1454.5714285714287,1473.0,1499.5,1527.8333333333333,1534.8181818181818,1544.6666666666667,1569.0,255.2,2139.0,2390.0,1599.0,1619.1666666666667,1624.4166666666667,1659.0,1666.75,1699.0,1719.5,1724.0,1779.0,1803.5392156862745,2984.25,669.0,1851.875,1979.5,1999.3333333333333,2099.0,2099.0,2126.3333333333335,2254.0,2261.75,2287.0,2386.0,2390.0,2390.0,2395.0,2419.3333333333335,2481.5,2583.5714285714284,1615.0,2023.3142857142857,4090.681818181818,3179.7368421052633,2749.0,2752.597701149425,2823.3333333333335,2884.0,2929.0,2994.0,2999.0,3059.0,3069.0,3069.0,3074.0,3099.0,3149.0,3195.0,3251.6923076923076,3327.875,3332.6666666666665,3411.1666666666665,2199.6666666666665,4649.0,3449.0,3779.0,3160.0,3873.3333333333335,3890.0,3999.0,3999.0,4034.714285714286,4356.666666666667,4445.56,4450.0,4459.0,2344.25,6590.0,4728.090909090909,4769.0,4990.0,5189.0,5329.0,5399.0,7429.0,7552.333333333333,7990.0,9227.4,10074.5,16799.0],\"type\":\"heatmap\"}],                        {\"template\":{\"data\":{\"histogram2dcontour\":[{\"type\":\"histogram2dcontour\",\"colorbar\":{\"outlinewidth\":0,\"ticks\":\"\"},\"colorscale\":[[0.0,\"#0d0887\"],[0.1111111111111111,\"#46039f\"],[0.2222222222222222,\"#7201a8\"],[0.3333333333333333,\"#9c179e\"],[0.4444444444444444,\"#bd3786\"],[0.5555555555555556,\"#d8576b\"],[0.6666666666666666,\"#ed7953\"],[0.7777777777777778,\"#fb9f3a\"],[0.8888888888888888,\"#fdca26\"],[1.0,\"#f0f921\"]]}],\"choropleth\":[{\"type\":\"choropleth\",\"colorbar\":{\"outlinewidth\":0,\"ticks\":\"\"}}],\"histogram2d\":[{\"type\":\"histogram2d\",\"colorbar\":{\"outlinewidth\":0,\"ticks\":\"\"},\"colorscale\":[[0.0,\"#0d0887\"],[0.1111111111111111,\"#46039f\"],[0.2222222222222222,\"#7201a8\"],[0.3333333333333333,\"#9c179e\"],[0.4444444444444444,\"#bd3786\"],[0.5555555555555556,\"#d8576b\"],[0.6666666666666666,\"#ed7953\"],[0.7777777777777778,\"#fb9f3a\"],[0.8888888888888888,\"#fdca26\"],[1.0,\"#f0f921\"]]}],\"heatmap\":[{\"type\":\"heatmap\",\"colorbar\":{\"outlinewidth\":0,\"ticks\":\"\"},\"colorscale\":[[0.0,\"#0d0887\"],[0.1111111111111111,\"#46039f\"],[0.2222222222222222,\"#7201a8\"],[0.3333333333333333,\"#9c179e\"],[0.4444444444444444,\"#bd3786\"],[0.5555555555555556,\"#d8576b\"],[0.6666666666666666,\"#ed7953\"],[0.7777777777777778,\"#fb9f3a\"],[0.8888888888888888,\"#fdca26\"],[1.0,\"#f0f921\"]]}],\"heatmapgl\":[{\"type\":\"heatmapgl\",\"colorbar\":{\"outlinewidth\":0,\"ticks\":\"\"},\"colorscale\":[[0.0,\"#0d0887\"],[0.1111111111111111,\"#46039f\"],[0.2222222222222222,\"#7201a8\"],[0.3333333333333333,\"#9c179e\"],[0.4444444444444444,\"#bd3786\"],[0.5555555555555556,\"#d8576b\"],[0.6666666666666666,\"#ed7953\"],[0.7777777777777778,\"#fb9f3a\"],[0.8888888888888888,\"#fdca26\"],[1.0,\"#f0f921\"]]}],\"contourcarpet\":[{\"type\":\"contourcarpet\",\"colorbar\":{\"outlinewidth\":0,\"ticks\":\"\"}}],\"contour\":[{\"type\":\"contour\",\"colorbar\":{\"outlinewidth\":0,\"ticks\":\"\"},\"colorscale\":[[0.0,\"#0d0887\"],[0.1111111111111111,\"#46039f\"],[0.2222222222222222,\"#7201a8\"],[0.3333333333333333,\"#9c179e\"],[0.4444444444444444,\"#bd3786\"],[0.5555555555555556,\"#d8576b\"],[0.6666666666666666,\"#ed7953\"],[0.7777777777777778,\"#fb9f3a\"],[0.8888888888888888,\"#fdca26\"],[1.0,\"#f0f921\"]]}],\"surface\":[{\"type\":\"surface\",\"colorbar\":{\"outlinewidth\":0,\"ticks\":\"\"},\"colorscale\":[[0.0,\"#0d0887\"],[0.1111111111111111,\"#46039f\"],[0.2222222222222222,\"#7201a8\"],[0.3333333333333333,\"#9c179e\"],[0.4444444444444444,\"#bd3786\"],[0.5555555555555556,\"#d8576b\"],[0.6666666666666666,\"#ed7953\"],[0.7777777777777778,\"#fb9f3a\"],[0.8888888888888888,\"#fdca26\"],[1.0,\"#f0f921\"]]}],\"mesh3d\":[{\"type\":\"mesh3d\",\"colorbar\":{\"outlinewidth\":0,\"ticks\":\"\"}}],\"scatter\":[{\"fillpattern\":{\"fillmode\":\"overlay\",\"size\":10,\"solidity\":0.2},\"type\":\"scatter\"}],\"parcoords\":[{\"type\":\"parcoords\",\"line\":{\"colorbar\":{\"outlinewidth\":0,\"ticks\":\"\"}}}],\"scatterpolargl\":[{\"type\":\"scatterpolargl\",\"marker\":{\"colorbar\":{\"outlinewidth\":0,\"ticks\":\"\"}}}],\"bar\":[{\"error_x\":{\"color\":\"#2a3f5f\"},\"error_y\":{\"color\":\"#2a3f5f\"},\"marker\":{\"line\":{\"color\":\"#E5ECF6\",\"width\":0.5},\"pattern\":{\"fillmode\":\"overlay\",\"size\":10,\"solidity\":0.2}},\"type\":\"bar\"}],\"scattergeo\":[{\"type\":\"scattergeo\",\"marker\":{\"colorbar\":{\"outlinewidth\":0,\"ticks\":\"\"}}}],\"scatterpolar\":[{\"type\":\"scatterpolar\",\"marker\":{\"colorbar\":{\"outlinewidth\":0,\"ticks\":\"\"}}}],\"histogram\":[{\"marker\":{\"pattern\":{\"fillmode\":\"overlay\",\"size\":10,\"solidity\":0.2}},\"type\":\"histogram\"}],\"scattergl\":[{\"type\":\"scattergl\",\"marker\":{\"colorbar\":{\"outlinewidth\":0,\"ticks\":\"\"}}}],\"scatter3d\":[{\"type\":\"scatter3d\",\"line\":{\"colorbar\":{\"outlinewidth\":0,\"ticks\":\"\"}},\"marker\":{\"colorbar\":{\"outlinewidth\":0,\"ticks\":\"\"}}}],\"scattermapbox\":[{\"type\":\"scattermapbox\",\"marker\":{\"colorbar\":{\"outlinewidth\":0,\"ticks\":\"\"}}}],\"scatterternary\":[{\"type\":\"scatterternary\",\"marker\":{\"colorbar\":{\"outlinewidth\":0,\"ticks\":\"\"}}}],\"scattercarpet\":[{\"type\":\"scattercarpet\",\"marker\":{\"colorbar\":{\"outlinewidth\":0,\"ticks\":\"\"}}}],\"carpet\":[{\"aaxis\":{\"endlinecolor\":\"#2a3f5f\",\"gridcolor\":\"white\",\"linecolor\":\"white\",\"minorgridcolor\":\"white\",\"startlinecolor\":\"#2a3f5f\"},\"baxis\":{\"endlinecolor\":\"#2a3f5f\",\"gridcolor\":\"white\",\"linecolor\":\"white\",\"minorgridcolor\":\"white\",\"startlinecolor\":\"#2a3f5f\"},\"type\":\"carpet\"}],\"table\":[{\"cells\":{\"fill\":{\"color\":\"#EBF0F8\"},\"line\":{\"color\":\"white\"}},\"header\":{\"fill\":{\"color\":\"#C8D4E3\"},\"line\":{\"color\":\"white\"}},\"type\":\"table\"}],\"barpolar\":[{\"marker\":{\"line\":{\"color\":\"#E5ECF6\",\"width\":0.5},\"pattern\":{\"fillmode\":\"overlay\",\"size\":10,\"solidity\":0.2}},\"type\":\"barpolar\"}],\"pie\":[{\"automargin\":true,\"type\":\"pie\"}]},\"layout\":{\"autotypenumbers\":\"strict\",\"colorway\":[\"#636efa\",\"#EF553B\",\"#00cc96\",\"#ab63fa\",\"#FFA15A\",\"#19d3f3\",\"#FF6692\",\"#B6E880\",\"#FF97FF\",\"#FECB52\"],\"font\":{\"color\":\"#2a3f5f\"},\"hovermode\":\"closest\",\"hoverlabel\":{\"align\":\"left\"},\"paper_bgcolor\":\"white\",\"plot_bgcolor\":\"#E5ECF6\",\"polar\":{\"bgcolor\":\"#E5ECF6\",\"angularaxis\":{\"gridcolor\":\"white\",\"linecolor\":\"white\",\"ticks\":\"\"},\"radialaxis\":{\"gridcolor\":\"white\",\"linecolor\":\"white\",\"ticks\":\"\"}},\"ternary\":{\"bgcolor\":\"#E5ECF6\",\"aaxis\":{\"gridcolor\":\"white\",\"linecolor\":\"white\",\"ticks\":\"\"},\"baxis\":{\"gridcolor\":\"white\",\"linecolor\":\"white\",\"ticks\":\"\"},\"caxis\":{\"gridcolor\":\"white\",\"linecolor\":\"white\",\"ticks\":\"\"}},\"coloraxis\":{\"colorbar\":{\"outlinewidth\":0,\"ticks\":\"\"}},\"colorscale\":{\"sequential\":[[0.0,\"#0d0887\"],[0.1111111111111111,\"#46039f\"],[0.2222222222222222,\"#7201a8\"],[0.3333333333333333,\"#9c179e\"],[0.4444444444444444,\"#bd3786\"],[0.5555555555555556,\"#d8576b\"],[0.6666666666666666,\"#ed7953\"],[0.7777777777777778,\"#fb9f3a\"],[0.8888888888888888,\"#fdca26\"],[1.0,\"#f0f921\"]],\"sequentialminus\":[[0.0,\"#0d0887\"],[0.1111111111111111,\"#46039f\"],[0.2222222222222222,\"#7201a8\"],[0.3333333333333333,\"#9c179e\"],[0.4444444444444444,\"#bd3786\"],[0.5555555555555556,\"#d8576b\"],[0.6666666666666666,\"#ed7953\"],[0.7777777777777778,\"#fb9f3a\"],[0.8888888888888888,\"#fdca26\"],[1.0,\"#f0f921\"]],\"diverging\":[[0,\"#8e0152\"],[0.1,\"#c51b7d\"],[0.2,\"#de77ae\"],[0.3,\"#f1b6da\"],[0.4,\"#fde0ef\"],[0.5,\"#f7f7f7\"],[0.6,\"#e6f5d0\"],[0.7,\"#b8e186\"],[0.8,\"#7fbc41\"],[0.9,\"#4d9221\"],[1,\"#276419\"]]},\"xaxis\":{\"gridcolor\":\"white\",\"linecolor\":\"white\",\"ticks\":\"\",\"title\":{\"standoff\":15},\"zerolinecolor\":\"white\",\"automargin\":true,\"zerolinewidth\":2},\"yaxis\":{\"gridcolor\":\"white\",\"linecolor\":\"white\",\"ticks\":\"\",\"title\":{\"standoff\":15},\"zerolinecolor\":\"white\",\"automargin\":true,\"zerolinewidth\":2},\"scene\":{\"xaxis\":{\"backgroundcolor\":\"#E5ECF6\",\"gridcolor\":\"white\",\"linecolor\":\"white\",\"showbackground\":true,\"ticks\":\"\",\"zerolinecolor\":\"white\",\"gridwidth\":2},\"yaxis\":{\"backgroundcolor\":\"#E5ECF6\",\"gridcolor\":\"white\",\"linecolor\":\"white\",\"showbackground\":true,\"ticks\":\"\",\"zerolinecolor\":\"white\",\"gridwidth\":2},\"zaxis\":{\"backgroundcolor\":\"#E5ECF6\",\"gridcolor\":\"white\",\"linecolor\":\"white\",\"showbackground\":true,\"ticks\":\"\",\"zerolinecolor\":\"white\",\"gridwidth\":2}},\"shapedefaults\":{\"line\":{\"color\":\"#2a3f5f\"}},\"annotationdefaults\":{\"arrowcolor\":\"#2a3f5f\",\"arrowhead\":0,\"arrowwidth\":1},\"geo\":{\"bgcolor\":\"white\",\"landcolor\":\"#E5ECF6\",\"subunitcolor\":\"white\",\"showland\":true,\"showlakes\":true,\"lakecolor\":\"white\"},\"title\":{\"x\":0.05},\"mapbox\":{\"style\":\"light\"}}},\"xaxis\":{\"categoryorder\":\"array\",\"categoryarray\":[\"instantaneos-y-sopas\",\"verduras\",\"congelados\",\"belleza-y-cuidado-personal\",\"lacteos\",\"frutas\",\"comidas-preparadas\"]},\"yaxis\":{\"categoryorder\":\"array\",\"categoryarray\":[\"1+1 Soprole\",\"Axe\",\"BiO\",\"Carte Dor\",\"Herbal\",\"Elite\",\"Dole\",\"Cotidian\",\"Herbal Essences\",\"Oral Fresh\",\"Rexona Clinical\",\"Nivea For Men\",\"Mega\",\"Not Ice Cream\",\"Not Burger\",\"Magnum\",\"Not Milk\",\"Rexona Men\",\"Rexona Men Clinical\",\"Rexona\",\"Soprole Activ\",\"Simonds\",\"Sensodyne\",\"Viennetta Bresler\",\"Traverso\",\"Vanart\",\"T\\u00edo Nacho\",\"Super Beef\",\"Sedal\",\"Gourmet\",\"Next\",\"Collico\",\"Oikos\",\"Naturezza\",\"Light & Free\",\"Maggi\",\"Dove\",\"Mister Veggie\",\"Pantene\",\"Fructis\",\"Marco Polo\",\"Nestl\\u00e9\",\"Dove Men\",\"Super Cerdo\",\"Pepsodent\",\"Copacabana\",\"Frutas Y Verduras Santa Isabel\",\"Activia\",\"Carozzi\",\"Aquafresh\",\"Calan\",\"Quillayes\",\"King\",\"Cintazul\",\"PF\",\"Kotex\",\"Danone\",\"Agrosano\",\"Family Care\",\"Hoffmann\",\"Frutos Del Maipo\",\"Santa Marta\",\"Zerolacto\",\"Not Chicken\",\"Protex\",\"Crucina\",\"Astra\",\"Frutas Y Verduras Propias\",\"Trianon\",\"Naturella\",\"Lefersa\",\"Deline\",\"Savory\",\"Rock\",\"Fiesta\",\"Omega 3\",\"Ballerina\",\"Bresler\",\"Chamyto\",\"Speed Stick\",\"Ladysoft\",\"Nosotras\",\"Super Pollo\",\"Giselle\",\"Santa Isabel\",\"Babyland\",\"Receta Del Abuelo\",\"Nivea\",\"Familand\",\"Always\",\"Dural\\u00f3n\",\"Yogu - Yogu\",\"Los Alerces\",\"Regimel\",\"Soprole\",\"Sahne Nuss\",\"Simond'S\",\"Sure\\u00f1a\",\"Lady Speed Stick\",\"Schick\",\"Rik\\u00fc\",\"Dento\",\"Minuto Verde\",\"Le Sancy\",\"Oral-B\",\"Carefree\",\"Corbac\",\"Ilicit\",\"Elvive\",\"Bonella\",\"Bellekiss\",\"Colgate\",\"Cuisine & Co\",\"Gillette\",\"Colun\",\"Jumbo\",\"Qualy\",\"Pamperita\",\"Shake A Shake Lonco Leche\",\"Kumey\",\"Nesquik\",\"Chiquit\\u00edn\",\"San Ignacio\",\"Alcafood\",\"Signore Mario\",\"Cotosan\",\"San Jorge\",\"Surlat\",\"Calo\",\"Solo Italia\",\"Head & Shoulders\",\"Sadia\",\"Alimentos Shen\",\"M\\u00e1xima MP\",\"Bredenmaster\",\"Zole\",\"Base Culinar\",\"Linic\",\"Guallarauco\",\"Rana\",\"Loncoleche\",\"Tivoni\",\"Old Spice\",\"La Crianza\",\"San Francisco De Loncomilla\",\"Brooks\",\"Garnier\",\"Ideal\",\"Bravissimo\",\"Turkey Hill\",\"Listerine\",\"Svelty\",\"Sofruco\",\"Nido\",\"Tena\",\"Plenitud\"]}},                        {\"responsive\": true}                    ).then(function(){\n",
       "                            \n",
       "var gd = document.getElementById('9afe17fa-a569-43b1-a6f9-18500c921d38');\n",
       "var x = new MutationObserver(function (mutations, observer) {{\n",
       "        var display = window.getComputedStyle(gd).display;\n",
       "        if (!display || display === 'none') {{\n",
       "            console.log([gd, 'removed!']);\n",
       "            Plotly.purge(gd);\n",
       "            observer.disconnect();\n",
       "        }}\n",
       "}});\n",
       "\n",
       "// Listen for the removal of the full notebook cells\n",
       "var notebookContainer = gd.closest('#notebook-container');\n",
       "if (notebookContainer) {{\n",
       "    x.observe(notebookContainer, {childList: true});\n",
       "}}\n",
       "\n",
       "// Listen for the clearing of the current output cell\n",
       "var outputEl = gd.closest('.output');\n",
       "if (outputEl) {{\n",
       "    x.observe(outputEl, {childList: true});\n",
       "}}\n",
       "\n",
       "                        })                };                });            </script>        </div>"
      ]
     },
     "metadata": {},
     "output_type": "display_data"
    }
   ],
   "source": [
    "import plotly.graph_objects as go\n",
    "\n",
    "heatmap_price = go.Heatmap(\n",
    "    x=grouped['Categoria'],\n",
    "    y=grouped['Marca'],\n",
    "    z=grouped['Media_de_preco'],\n",
    "    text=grouped.apply(lambda row: f\"Preço: CLP${row['Media_de_preco']:.2f}\", axis=1),\n",
    "    hoverinfo=\"text\",\n",
    "    colorscale='Viridis',\n",
    "    colorbar=dict(title=\"Média de preço (CLP$)\")\n",
    ")\n",
    "\n",
    "import plotly.io as pio\n",
    "fig = go.Figure(data=[heatmap_price])\n",
    "fig.update_layout(\n",
    "    xaxis={'categoryorder': 'array', 'categoryarray': list(categoria_ordem)},\n",
    "    yaxis={'categoryorder': 'array', 'categoryarray': list(marca_ordem)}\n",
    ")\n",
    "fig.show()"
   ]
  },
  {
   "cell_type": "code",
   "execution_count": 221,
   "metadata": {},
   "outputs": [
    {
     "name": "stderr",
     "output_type": "stream",
     "text": [
      "C:\\Users\\arthu\\AppData\\Local\\Temp\\ipykernel_2372\\2195954312.py:2: FutureWarning:\n",
      "\n",
      "The default of observed=False is deprecated and will be changed to True in a future version of pandas. Pass observed=False to retain current behavior or observed=True to adopt the future default and silence this warning.\n",
      "\n",
      "C:\\Users\\arthu\\AppData\\Local\\Temp\\ipykernel_2372\\2195954312.py:3: FutureWarning:\n",
      "\n",
      "The default of observed=False is deprecated and will be changed to True in a future version of pandas. Pass observed=False to retain current behavior or observed=True to adopt the future default and silence this warning.\n",
      "\n"
     ]
    },
    {
     "data": {
      "application/vnd.plotly.v1+json": {
       "config": {
        "plotlyServerURL": "https://plot.ly"
       },
       "data": [
        {
         "colorbar": {
          "title": {
           "text": "Media_Desconto(CLP$)"
          }
         },
         "colorscale": [
          [
           0,
           "#440154"
          ],
          [
           0.1111111111111111,
           "#482878"
          ],
          [
           0.2222222222222222,
           "#3e4989"
          ],
          [
           0.3333333333333333,
           "#31688e"
          ],
          [
           0.4444444444444444,
           "#26828e"
          ],
          [
           0.5555555555555556,
           "#1f9e89"
          ],
          [
           0.6666666666666666,
           "#35b779"
          ],
          [
           0.7777777777777778,
           "#6ece58"
          ],
          [
           0.8888888888888888,
           "#b5de2b"
          ],
          [
           1,
           "#fde725"
          ]
         ],
         "hoverinfo": "text",
         "text": [
          "Preço: CLP$0.00",
          "Preço: CLP$590.00",
          "Preço: CLP$650.00",
          "Preço: CLP$357.50",
          "Preço: CLP$0.00",
          "Preço: CLP$0.00",
          "Preço: CLP$0.00",
          "Preço: CLP$0.00",
          "Preço: CLP$0.00",
          "Preço: CLP$797.00",
          "Preço: CLP$795.00",
          "Preço: CLP$0.00",
          "Preço: CLP$657.00",
          "Preço: CLP$0.00",
          "Preço: CLP$210.00",
          "Preço: CLP$955.00",
          "Preço: CLP$160.00",
          "Preço: CLP$660.00",
          "Preço: CLP$795.00",
          "Preço: CLP$660.00",
          "Preço: CLP$0.00",
          "Preço: CLP$300.00",
          "Preço: CLP$0.00",
          "Preço: CLP$546.00",
          "Preço: CLP$0.00",
          "Preço: CLP$0.00",
          "Preço: CLP$0.00",
          "Preço: CLP$120.00",
          "Preço: CLP$0.00",
          "Preço: CLP$0.00",
          "Preço: CLP$0.00",
          "Preço: CLP$0.00",
          "Preço: CLP$0.00",
          "Preço: CLP$0.00",
          "Preço: CLP$0.00",
          "Preço: CLP$0.00",
          "Preço: CLP$429.87",
          "Preço: CLP$0.00",
          "Preço: CLP$684.86",
          "Preço: CLP$0.00",
          "Preço: CLP$0.00",
          "Preço: CLP$1.77",
          "Preço: CLP$252.25",
          "Preço: CLP$0.00",
          "Preço: CLP$344.33",
          "Preço: CLP$0.00",
          "Preço: CLP$0.00",
          "Preço: CLP$0.00",
          "Preço: CLP$0.00",
          "Preço: CLP$444.67",
          "Preço: CLP$0.00",
          "Preço: CLP$0.00",
          "Preço: CLP$0.00",
          "Preço: CLP$0.00",
          "Preço: CLP$0.00",
          "Preço: CLP$200.00",
          "Preço: CLP$55.17",
          "Preço: CLP$0.00",
          "Preço: CLP$0.00",
          "Preço: CLP$0.00",
          "Preço: CLP$0.00",
          "Preço: CLP$136.27",
          "Preço: CLP$149.50",
          "Preço: CLP$0.00",
          "Preço: CLP$0.00",
          "Preço: CLP$304.50",
          "Preço: CLP$0.00",
          "Preço: CLP$0.00",
          "Preço: CLP$0.00",
          "Preço: CLP$0.00",
          "Preço: CLP$0.00",
          "Preço: CLP$0.00",
          "Preço: CLP$0.00",
          "Preço: CLP$0.00",
          "Preço: CLP$456.16",
          "Preço: CLP$0.00",
          "Preço: CLP$0.00",
          "Preço: CLP$0.00",
          "Preço: CLP$34.08",
          "Preço: CLP$429.79",
          "Preço: CLP$0.00",
          "Preço: CLP$0.00",
          "Preço: CLP$94.83",
          "Preço: CLP$103.45",
          "Preço: CLP$0.00",
          "Preço: CLP$0.00",
          "Preço: CLP$0.00",
          "Preço: CLP$0.00",
          "Preço: CLP$0.00",
          "Preço: CLP$0.00",
          "Preço: CLP$0.00",
          "Preço: CLP$0.00",
          "Preço: CLP$0.00",
          "Preço: CLP$123.75",
          "Preço: CLP$0.00",
          "Preço: CLP$0.00",
          "Preço: CLP$0.00",
          "Preço: CLP$0.00",
          "Preço: CLP$10.85",
          "Preço: CLP$164.25",
          "Preço: CLP$0.00",
          "Preço: CLP$0.00",
          "Preço: CLP$261.00",
          "Preço: CLP$0.00",
          "Preço: CLP$0.00",
          "Preço: CLP$0.00",
          "Preço: CLP$0.00",
          "Preço: CLP$19.50",
          "Preço: CLP$0.00",
          "Preço: CLP$88.56",
          "Preço: CLP$0.00",
          "Preço: CLP$0.00",
          "Preço: CLP$0.00",
          "Preço: CLP$0.00",
          "Preço: CLP$0.00",
          "Preço: CLP$0.00",
          "Preço: CLP$117.10",
          "Preço: CLP$0.00",
          "Preço: CLP$148.34",
          "Preço: CLP$16.32",
          "Preço: CLP$0.00",
          "Preço: CLP$0.00",
          "Preço: CLP$4.47",
          "Preço: CLP$0.00",
          "Preço: CLP$0.00",
          "Preço: CLP$0.00",
          "Preço: CLP$0.00",
          "Preço: CLP$0.00",
          "Preço: CLP$0.00",
          "Preço: CLP$0.00",
          "Preço: CLP$0.00",
          "Preço: CLP$0.00",
          "Preço: CLP$0.00",
          "Preço: CLP$0.00",
          "Preço: CLP$70.00",
          "Preço: CLP$0.00",
          "Preço: CLP$0.00",
          "Preço: CLP$0.00",
          "Preço: CLP$0.00",
          "Preço: CLP$0.00",
          "Preço: CLP$0.00",
          "Preço: CLP$0.00",
          "Preço: CLP$0.00",
          "Preço: CLP$0.00",
          "Preço: CLP$0.00",
          "Preço: CLP$0.00",
          "Preço: CLP$0.00",
          "Preço: CLP$0.00",
          "Preço: CLP$0.00",
          "Preço: CLP$0.00",
          "Preço: CLP$0.00",
          "Preço: CLP$0.00",
          "Preço: CLP$0.00",
          "Preço: CLP$0.00",
          "Preço: CLP$0.00",
          "Preço: CLP$0.00",
          "Preço: CLP$0.00",
          "Preço: CLP$0.00",
          "Preço: CLP$0.00",
          "Preço: CLP$0.00",
          "Preço: CLP$0.00",
          "Preço: CLP$0.00",
          "Preço: CLP$0.00",
          "Preço: CLP$0.00",
          "Preço: CLP$869.80",
          "Preço: CLP$0.00",
          "Preço: CLP$0.00"
         ],
         "type": "heatmap",
         "x": [
          "lacteos",
          "belleza-y-cuidado-personal",
          "belleza-y-cuidado-personal",
          "congelados",
          "belleza-y-cuidado-personal",
          "belleza-y-cuidado-personal",
          "verduras",
          "belleza-y-cuidado-personal",
          "belleza-y-cuidado-personal",
          "belleza-y-cuidado-personal",
          "belleza-y-cuidado-personal",
          "belleza-y-cuidado-personal",
          "congelados",
          "congelados",
          "congelados",
          "congelados",
          "lacteos",
          "belleza-y-cuidado-personal",
          "belleza-y-cuidado-personal",
          "belleza-y-cuidado-personal",
          "lacteos",
          "belleza-y-cuidado-personal",
          "belleza-y-cuidado-personal",
          "congelados",
          "instantaneos-y-sopas",
          "belleza-y-cuidado-personal",
          "belleza-y-cuidado-personal",
          "congelados",
          "belleza-y-cuidado-personal",
          "instantaneos-y-sopas",
          "lacteos",
          "lacteos",
          "lacteos",
          "instantaneos-y-sopas",
          "lacteos",
          "instantaneos-y-sopas",
          "belleza-y-cuidado-personal",
          "congelados",
          "belleza-y-cuidado-personal",
          "belleza-y-cuidado-personal",
          "lacteos",
          "lacteos",
          "belleza-y-cuidado-personal",
          "congelados",
          "belleza-y-cuidado-personal",
          "lacteos",
          "frutas",
          "lacteos",
          "instantaneos-y-sopas",
          "belleza-y-cuidado-personal",
          "lacteos",
          "lacteos",
          "congelados",
          "lacteos",
          "congelados",
          "comidas-preparadas",
          "belleza-y-cuidado-personal",
          "lacteos",
          "verduras",
          "belleza-y-cuidado-personal",
          "instantaneos-y-sopas",
          "congelados",
          "lacteos",
          "lacteos",
          "congelados",
          "belleza-y-cuidado-personal",
          "lacteos",
          "lacteos",
          "verduras",
          "frutas",
          "belleza-y-cuidado-personal",
          "belleza-y-cuidado-personal",
          "lacteos",
          "lacteos",
          "congelados",
          "congelados",
          "congelados",
          "lacteos",
          "belleza-y-cuidado-personal",
          "congelados",
          "lacteos",
          "belleza-y-cuidado-personal",
          "belleza-y-cuidado-personal",
          "belleza-y-cuidado-personal",
          "congelados",
          "belleza-y-cuidado-personal",
          "instantaneos-y-sopas",
          "lacteos",
          "comidas-preparadas",
          "belleza-y-cuidado-personal",
          "congelados",
          "belleza-y-cuidado-personal",
          "belleza-y-cuidado-personal",
          "belleza-y-cuidado-personal",
          "belleza-y-cuidado-personal",
          "lacteos",
          "lacteos",
          "lacteos",
          "lacteos",
          "congelados",
          "lacteos",
          "belleza-y-cuidado-personal",
          "lacteos",
          "belleza-y-cuidado-personal",
          "belleza-y-cuidado-personal",
          "congelados",
          "belleza-y-cuidado-personal",
          "congelados",
          "belleza-y-cuidado-personal",
          "belleza-y-cuidado-personal",
          "belleza-y-cuidado-personal",
          "comidas-preparadas",
          "belleza-y-cuidado-personal",
          "belleza-y-cuidado-personal",
          "lacteos",
          "belleza-y-cuidado-personal",
          "belleza-y-cuidado-personal",
          "instantaneos-y-sopas",
          "congelados",
          "lacteos",
          "comidas-preparadas",
          "belleza-y-cuidado-personal",
          "lacteos",
          "verduras",
          "lacteos",
          "lacteos",
          "lacteos",
          "lacteos",
          "lacteos",
          "lacteos",
          "lacteos",
          "instantaneos-y-sopas",
          "lacteos",
          "belleza-y-cuidado-personal",
          "congelados",
          "lacteos",
          "lacteos",
          "comidas-preparadas",
          "belleza-y-cuidado-personal",
          "congelados",
          "comidas-preparadas",
          "congelados",
          "instantaneos-y-sopas",
          "lacteos",
          "comidas-preparadas",
          "congelados",
          "lacteos",
          "belleza-y-cuidado-personal",
          "congelados",
          "comidas-preparadas",
          "lacteos",
          "congelados",
          "belleza-y-cuidado-personal",
          "congelados",
          "comidas-preparadas",
          "congelados",
          "belleza-y-cuidado-personal",
          "belleza-y-cuidado-personal",
          "lacteos",
          "congelados",
          "congelados",
          "belleza-y-cuidado-personal",
          "lacteos",
          "frutas",
          "lacteos",
          "belleza-y-cuidado-personal",
          "belleza-y-cuidado-personal"
         ],
         "y": [
          "1+1 Soprole",
          "Axe",
          "BiO",
          "Carte Dor",
          "Herbal",
          "Elite",
          "Dole",
          "Cotidian",
          "Herbal Essences",
          "Oral Fresh",
          "Rexona Clinical",
          "Nivea For Men",
          "Mega",
          "Not Ice Cream",
          "Not Burger",
          "Magnum",
          "Not Milk",
          "Rexona Men",
          "Rexona Men Clinical",
          "Rexona",
          "Soprole Activ",
          "Simonds",
          "Sensodyne",
          "Viennetta Bresler",
          "Traverso",
          "Vanart",
          "Tío Nacho",
          "Super Beef",
          "Sedal",
          "Gourmet",
          "Next",
          "Collico",
          "Oikos",
          "Naturezza",
          "Light & Free",
          "Maggi",
          "Dove",
          "Mister Veggie",
          "Pantene",
          "Fructis",
          "Marco Polo",
          "Nestlé",
          "Dove Men",
          "Super Cerdo",
          "Pepsodent",
          "Copacabana",
          "Frutas Y Verduras Santa Isabel",
          "Activia",
          "Carozzi",
          "Aquafresh",
          "Calan",
          "Quillayes",
          "King",
          "Cintazul",
          "PF",
          "PF",
          "Kotex",
          "Danone",
          "Agrosano",
          "Family Care",
          "Hoffmann",
          "Frutos Del Maipo",
          "Santa Marta",
          "Zerolacto",
          "Not Chicken",
          "Protex",
          "Crucina",
          "Astra",
          "Frutas Y Verduras Propias",
          "Frutas Y Verduras Propias",
          "Trianon",
          "Naturella",
          "Lefersa",
          "Deline",
          "Savory",
          "Rock",
          "Fiesta",
          "Omega 3",
          "Ballerina",
          "Bresler",
          "Chamyto",
          "Speed Stick",
          "Ladysoft",
          "Nosotras",
          "Super Pollo",
          "Giselle",
          "Santa Isabel",
          "Santa Isabel",
          "Santa Isabel",
          "Babyland",
          "Receta Del Abuelo",
          "Nivea",
          "Familand",
          "Always",
          "Duralón",
          "Yogu - Yogu",
          "Los Alerces",
          "Regimel",
          "Soprole",
          "Sahne Nuss",
          "Sahne Nuss",
          "Simond'S",
          "Sureña",
          "Lady Speed Stick",
          "Schick",
          "Rikü",
          "Dento",
          "Minuto Verde",
          "Le Sancy",
          "Oral-B",
          "Carefree",
          "Corbac",
          "Ilicit",
          "Elvive",
          "Bonella",
          "Bellekiss",
          "Colgate",
          "Cuisine & Co",
          "Cuisine & Co",
          "Cuisine & Co",
          "Cuisine & Co",
          "Gillette",
          "Colun",
          "Jumbo",
          "Qualy",
          "Pamperita",
          "Shake A Shake Lonco Leche",
          "Kumey",
          "Nesquik",
          "Chiquitín",
          "San Ignacio",
          "Alcafood",
          "Signore Mario",
          "Cotosan",
          "San Jorge",
          "Surlat",
          "Calo",
          "Solo Italia",
          "Head & Shoulders",
          "Sadia",
          "Sadia",
          "Alimentos Shen",
          "Máxima MP",
          "Máxima MP",
          "Bredenmaster",
          "Zole",
          "Base Culinar",
          "Linic",
          "Guallarauco",
          "Rana",
          "Loncoleche",
          "Tivoni",
          "Old Spice",
          "La Crianza",
          "La Crianza",
          "San Francisco De Loncomilla",
          "Brooks",
          "Garnier",
          "Ideal",
          "Bravissimo",
          "Turkey Hill",
          "Listerine",
          "Svelty",
          "Sofruco",
          "Nido",
          "Tena",
          "Plenitud"
         ],
         "z": [
          0,
          590,
          650,
          357.5,
          0,
          0,
          0,
          0,
          0,
          797,
          795,
          0,
          657,
          0,
          210,
          955,
          160,
          660,
          795,
          660,
          0,
          300,
          0,
          546,
          0,
          0,
          0,
          120,
          0,
          0,
          0,
          0,
          0,
          0,
          0,
          0,
          429.8666666666667,
          0,
          684.8571428571429,
          0,
          0,
          1.7674418604651163,
          252.25,
          0,
          344.3333333333333,
          0,
          0,
          0,
          0,
          444.6666666666667,
          0,
          0,
          0,
          0,
          0,
          200,
          55.166666666666664,
          0,
          0,
          0,
          0,
          136.26666666666668,
          149.5,
          0,
          0,
          304.5,
          0,
          0,
          0,
          0,
          0,
          0,
          0,
          0,
          456.15625,
          0,
          0,
          0,
          34.083333333333336,
          429.7857142857143,
          0,
          0,
          94.83333333333333,
          103.45454545454545,
          0,
          0,
          0,
          0,
          0,
          0,
          0,
          0,
          0,
          123.75,
          0,
          0,
          0,
          0,
          10.852941176470589,
          164.25,
          0,
          0,
          261,
          0,
          0,
          0,
          0,
          19.5,
          0,
          88.55555555555556,
          0,
          0,
          0,
          0,
          0,
          0,
          117.0952380952381,
          0,
          148.34285714285716,
          16.318181818181817,
          0,
          0,
          4.471264367816092,
          0,
          0,
          0,
          0,
          0,
          0,
          0,
          0,
          0,
          0,
          0,
          70,
          0,
          0,
          0,
          0,
          0,
          0,
          0,
          0,
          0,
          0,
          0,
          0,
          0,
          0,
          0,
          0,
          0,
          0,
          0,
          0,
          0,
          0,
          0,
          0,
          0,
          0,
          0,
          0,
          0,
          869.8,
          0,
          0
         ]
        }
       ],
       "layout": {
        "template": {
         "data": {
          "bar": [
           {
            "error_x": {
             "color": "#2a3f5f"
            },
            "error_y": {
             "color": "#2a3f5f"
            },
            "marker": {
             "line": {
              "color": "#E5ECF6",
              "width": 0.5
             },
             "pattern": {
              "fillmode": "overlay",
              "size": 10,
              "solidity": 0.2
             }
            },
            "type": "bar"
           }
          ],
          "barpolar": [
           {
            "marker": {
             "line": {
              "color": "#E5ECF6",
              "width": 0.5
             },
             "pattern": {
              "fillmode": "overlay",
              "size": 10,
              "solidity": 0.2
             }
            },
            "type": "barpolar"
           }
          ],
          "carpet": [
           {
            "aaxis": {
             "endlinecolor": "#2a3f5f",
             "gridcolor": "white",
             "linecolor": "white",
             "minorgridcolor": "white",
             "startlinecolor": "#2a3f5f"
            },
            "baxis": {
             "endlinecolor": "#2a3f5f",
             "gridcolor": "white",
             "linecolor": "white",
             "minorgridcolor": "white",
             "startlinecolor": "#2a3f5f"
            },
            "type": "carpet"
           }
          ],
          "choropleth": [
           {
            "colorbar": {
             "outlinewidth": 0,
             "ticks": ""
            },
            "type": "choropleth"
           }
          ],
          "contour": [
           {
            "colorbar": {
             "outlinewidth": 0,
             "ticks": ""
            },
            "colorscale": [
             [
              0,
              "#0d0887"
             ],
             [
              0.1111111111111111,
              "#46039f"
             ],
             [
              0.2222222222222222,
              "#7201a8"
             ],
             [
              0.3333333333333333,
              "#9c179e"
             ],
             [
              0.4444444444444444,
              "#bd3786"
             ],
             [
              0.5555555555555556,
              "#d8576b"
             ],
             [
              0.6666666666666666,
              "#ed7953"
             ],
             [
              0.7777777777777778,
              "#fb9f3a"
             ],
             [
              0.8888888888888888,
              "#fdca26"
             ],
             [
              1,
              "#f0f921"
             ]
            ],
            "type": "contour"
           }
          ],
          "contourcarpet": [
           {
            "colorbar": {
             "outlinewidth": 0,
             "ticks": ""
            },
            "type": "contourcarpet"
           }
          ],
          "heatmap": [
           {
            "colorbar": {
             "outlinewidth": 0,
             "ticks": ""
            },
            "colorscale": [
             [
              0,
              "#0d0887"
             ],
             [
              0.1111111111111111,
              "#46039f"
             ],
             [
              0.2222222222222222,
              "#7201a8"
             ],
             [
              0.3333333333333333,
              "#9c179e"
             ],
             [
              0.4444444444444444,
              "#bd3786"
             ],
             [
              0.5555555555555556,
              "#d8576b"
             ],
             [
              0.6666666666666666,
              "#ed7953"
             ],
             [
              0.7777777777777778,
              "#fb9f3a"
             ],
             [
              0.8888888888888888,
              "#fdca26"
             ],
             [
              1,
              "#f0f921"
             ]
            ],
            "type": "heatmap"
           }
          ],
          "heatmapgl": [
           {
            "colorbar": {
             "outlinewidth": 0,
             "ticks": ""
            },
            "colorscale": [
             [
              0,
              "#0d0887"
             ],
             [
              0.1111111111111111,
              "#46039f"
             ],
             [
              0.2222222222222222,
              "#7201a8"
             ],
             [
              0.3333333333333333,
              "#9c179e"
             ],
             [
              0.4444444444444444,
              "#bd3786"
             ],
             [
              0.5555555555555556,
              "#d8576b"
             ],
             [
              0.6666666666666666,
              "#ed7953"
             ],
             [
              0.7777777777777778,
              "#fb9f3a"
             ],
             [
              0.8888888888888888,
              "#fdca26"
             ],
             [
              1,
              "#f0f921"
             ]
            ],
            "type": "heatmapgl"
           }
          ],
          "histogram": [
           {
            "marker": {
             "pattern": {
              "fillmode": "overlay",
              "size": 10,
              "solidity": 0.2
             }
            },
            "type": "histogram"
           }
          ],
          "histogram2d": [
           {
            "colorbar": {
             "outlinewidth": 0,
             "ticks": ""
            },
            "colorscale": [
             [
              0,
              "#0d0887"
             ],
             [
              0.1111111111111111,
              "#46039f"
             ],
             [
              0.2222222222222222,
              "#7201a8"
             ],
             [
              0.3333333333333333,
              "#9c179e"
             ],
             [
              0.4444444444444444,
              "#bd3786"
             ],
             [
              0.5555555555555556,
              "#d8576b"
             ],
             [
              0.6666666666666666,
              "#ed7953"
             ],
             [
              0.7777777777777778,
              "#fb9f3a"
             ],
             [
              0.8888888888888888,
              "#fdca26"
             ],
             [
              1,
              "#f0f921"
             ]
            ],
            "type": "histogram2d"
           }
          ],
          "histogram2dcontour": [
           {
            "colorbar": {
             "outlinewidth": 0,
             "ticks": ""
            },
            "colorscale": [
             [
              0,
              "#0d0887"
             ],
             [
              0.1111111111111111,
              "#46039f"
             ],
             [
              0.2222222222222222,
              "#7201a8"
             ],
             [
              0.3333333333333333,
              "#9c179e"
             ],
             [
              0.4444444444444444,
              "#bd3786"
             ],
             [
              0.5555555555555556,
              "#d8576b"
             ],
             [
              0.6666666666666666,
              "#ed7953"
             ],
             [
              0.7777777777777778,
              "#fb9f3a"
             ],
             [
              0.8888888888888888,
              "#fdca26"
             ],
             [
              1,
              "#f0f921"
             ]
            ],
            "type": "histogram2dcontour"
           }
          ],
          "mesh3d": [
           {
            "colorbar": {
             "outlinewidth": 0,
             "ticks": ""
            },
            "type": "mesh3d"
           }
          ],
          "parcoords": [
           {
            "line": {
             "colorbar": {
              "outlinewidth": 0,
              "ticks": ""
             }
            },
            "type": "parcoords"
           }
          ],
          "pie": [
           {
            "automargin": true,
            "type": "pie"
           }
          ],
          "scatter": [
           {
            "fillpattern": {
             "fillmode": "overlay",
             "size": 10,
             "solidity": 0.2
            },
            "type": "scatter"
           }
          ],
          "scatter3d": [
           {
            "line": {
             "colorbar": {
              "outlinewidth": 0,
              "ticks": ""
             }
            },
            "marker": {
             "colorbar": {
              "outlinewidth": 0,
              "ticks": ""
             }
            },
            "type": "scatter3d"
           }
          ],
          "scattercarpet": [
           {
            "marker": {
             "colorbar": {
              "outlinewidth": 0,
              "ticks": ""
             }
            },
            "type": "scattercarpet"
           }
          ],
          "scattergeo": [
           {
            "marker": {
             "colorbar": {
              "outlinewidth": 0,
              "ticks": ""
             }
            },
            "type": "scattergeo"
           }
          ],
          "scattergl": [
           {
            "marker": {
             "colorbar": {
              "outlinewidth": 0,
              "ticks": ""
             }
            },
            "type": "scattergl"
           }
          ],
          "scattermapbox": [
           {
            "marker": {
             "colorbar": {
              "outlinewidth": 0,
              "ticks": ""
             }
            },
            "type": "scattermapbox"
           }
          ],
          "scatterpolar": [
           {
            "marker": {
             "colorbar": {
              "outlinewidth": 0,
              "ticks": ""
             }
            },
            "type": "scatterpolar"
           }
          ],
          "scatterpolargl": [
           {
            "marker": {
             "colorbar": {
              "outlinewidth": 0,
              "ticks": ""
             }
            },
            "type": "scatterpolargl"
           }
          ],
          "scatterternary": [
           {
            "marker": {
             "colorbar": {
              "outlinewidth": 0,
              "ticks": ""
             }
            },
            "type": "scatterternary"
           }
          ],
          "surface": [
           {
            "colorbar": {
             "outlinewidth": 0,
             "ticks": ""
            },
            "colorscale": [
             [
              0,
              "#0d0887"
             ],
             [
              0.1111111111111111,
              "#46039f"
             ],
             [
              0.2222222222222222,
              "#7201a8"
             ],
             [
              0.3333333333333333,
              "#9c179e"
             ],
             [
              0.4444444444444444,
              "#bd3786"
             ],
             [
              0.5555555555555556,
              "#d8576b"
             ],
             [
              0.6666666666666666,
              "#ed7953"
             ],
             [
              0.7777777777777778,
              "#fb9f3a"
             ],
             [
              0.8888888888888888,
              "#fdca26"
             ],
             [
              1,
              "#f0f921"
             ]
            ],
            "type": "surface"
           }
          ],
          "table": [
           {
            "cells": {
             "fill": {
              "color": "#EBF0F8"
             },
             "line": {
              "color": "white"
             }
            },
            "header": {
             "fill": {
              "color": "#C8D4E3"
             },
             "line": {
              "color": "white"
             }
            },
            "type": "table"
           }
          ]
         },
         "layout": {
          "annotationdefaults": {
           "arrowcolor": "#2a3f5f",
           "arrowhead": 0,
           "arrowwidth": 1
          },
          "autotypenumbers": "strict",
          "coloraxis": {
           "colorbar": {
            "outlinewidth": 0,
            "ticks": ""
           }
          },
          "colorscale": {
           "diverging": [
            [
             0,
             "#8e0152"
            ],
            [
             0.1,
             "#c51b7d"
            ],
            [
             0.2,
             "#de77ae"
            ],
            [
             0.3,
             "#f1b6da"
            ],
            [
             0.4,
             "#fde0ef"
            ],
            [
             0.5,
             "#f7f7f7"
            ],
            [
             0.6,
             "#e6f5d0"
            ],
            [
             0.7,
             "#b8e186"
            ],
            [
             0.8,
             "#7fbc41"
            ],
            [
             0.9,
             "#4d9221"
            ],
            [
             1,
             "#276419"
            ]
           ],
           "sequential": [
            [
             0,
             "#0d0887"
            ],
            [
             0.1111111111111111,
             "#46039f"
            ],
            [
             0.2222222222222222,
             "#7201a8"
            ],
            [
             0.3333333333333333,
             "#9c179e"
            ],
            [
             0.4444444444444444,
             "#bd3786"
            ],
            [
             0.5555555555555556,
             "#d8576b"
            ],
            [
             0.6666666666666666,
             "#ed7953"
            ],
            [
             0.7777777777777778,
             "#fb9f3a"
            ],
            [
             0.8888888888888888,
             "#fdca26"
            ],
            [
             1,
             "#f0f921"
            ]
           ],
           "sequentialminus": [
            [
             0,
             "#0d0887"
            ],
            [
             0.1111111111111111,
             "#46039f"
            ],
            [
             0.2222222222222222,
             "#7201a8"
            ],
            [
             0.3333333333333333,
             "#9c179e"
            ],
            [
             0.4444444444444444,
             "#bd3786"
            ],
            [
             0.5555555555555556,
             "#d8576b"
            ],
            [
             0.6666666666666666,
             "#ed7953"
            ],
            [
             0.7777777777777778,
             "#fb9f3a"
            ],
            [
             0.8888888888888888,
             "#fdca26"
            ],
            [
             1,
             "#f0f921"
            ]
           ]
          },
          "colorway": [
           "#636efa",
           "#EF553B",
           "#00cc96",
           "#ab63fa",
           "#FFA15A",
           "#19d3f3",
           "#FF6692",
           "#B6E880",
           "#FF97FF",
           "#FECB52"
          ],
          "font": {
           "color": "#2a3f5f"
          },
          "geo": {
           "bgcolor": "white",
           "lakecolor": "white",
           "landcolor": "#E5ECF6",
           "showlakes": true,
           "showland": true,
           "subunitcolor": "white"
          },
          "hoverlabel": {
           "align": "left"
          },
          "hovermode": "closest",
          "mapbox": {
           "style": "light"
          },
          "paper_bgcolor": "white",
          "plot_bgcolor": "#E5ECF6",
          "polar": {
           "angularaxis": {
            "gridcolor": "white",
            "linecolor": "white",
            "ticks": ""
           },
           "bgcolor": "#E5ECF6",
           "radialaxis": {
            "gridcolor": "white",
            "linecolor": "white",
            "ticks": ""
           }
          },
          "scene": {
           "xaxis": {
            "backgroundcolor": "#E5ECF6",
            "gridcolor": "white",
            "gridwidth": 2,
            "linecolor": "white",
            "showbackground": true,
            "ticks": "",
            "zerolinecolor": "white"
           },
           "yaxis": {
            "backgroundcolor": "#E5ECF6",
            "gridcolor": "white",
            "gridwidth": 2,
            "linecolor": "white",
            "showbackground": true,
            "ticks": "",
            "zerolinecolor": "white"
           },
           "zaxis": {
            "backgroundcolor": "#E5ECF6",
            "gridcolor": "white",
            "gridwidth": 2,
            "linecolor": "white",
            "showbackground": true,
            "ticks": "",
            "zerolinecolor": "white"
           }
          },
          "shapedefaults": {
           "line": {
            "color": "#2a3f5f"
           }
          },
          "ternary": {
           "aaxis": {
            "gridcolor": "white",
            "linecolor": "white",
            "ticks": ""
           },
           "baxis": {
            "gridcolor": "white",
            "linecolor": "white",
            "ticks": ""
           },
           "bgcolor": "#E5ECF6",
           "caxis": {
            "gridcolor": "white",
            "linecolor": "white",
            "ticks": ""
           }
          },
          "title": {
           "x": 0.05
          },
          "xaxis": {
           "automargin": true,
           "gridcolor": "white",
           "linecolor": "white",
           "ticks": "",
           "title": {
            "standoff": 15
           },
           "zerolinecolor": "white",
           "zerolinewidth": 2
          },
          "yaxis": {
           "automargin": true,
           "gridcolor": "white",
           "linecolor": "white",
           "ticks": "",
           "title": {
            "standoff": 15
           },
           "zerolinecolor": "white",
           "zerolinewidth": 2
          }
         }
        },
        "xaxis": {
         "categoryarray": [
          "instantaneos-y-sopas",
          "verduras",
          "frutas",
          "comidas-preparadas",
          "lacteos",
          "congelados",
          "belleza-y-cuidado-personal"
         ],
         "categoryorder": "array"
        },
        "yaxis": {
         "categoryarray": [
          "1+1 Soprole",
          "Dole",
          "Elite",
          "Herbal",
          "Cotidian",
          "Not Ice Cream",
          "Nivea For Men",
          "Herbal Essences",
          "Traverso",
          "Vanart",
          "Tío Nacho",
          "Sedal",
          "Next",
          "Gourmet",
          "Soprole Activ",
          "Sensodyne",
          "Collico",
          "Calan",
          "Quillayes",
          "King",
          "Cintazul",
          "Frutas Y Verduras Santa Isabel",
          "Copacabana",
          "Activia",
          "Marco Polo",
          "Super Cerdo",
          "Fructis",
          "Mister Veggie",
          "Maggi",
          "Light & Free",
          "Naturezza",
          "Oikos",
          "Not Chicken",
          "Zerolacto",
          "Hoffmann",
          "Danone",
          "Agrosano",
          "Family Care",
          "Carozzi",
          "Carefree",
          "Bellekiss",
          "Duralón",
          "Nivea",
          "Receta Del Abuelo",
          "Familand",
          "Yogu - Yogu",
          "Los Alerces",
          "Regimel",
          "Giselle",
          "Super Pollo",
          "Babyland",
          "Santa Isabel",
          "Speed Stick",
          "Omega 3",
          "Fiesta",
          "Chamyto",
          "Rock",
          "Deline",
          "Naturella",
          "Lefersa",
          "Trianon",
          "Frutas Y Verduras Propias",
          "Astra",
          "Crucina",
          "Signore Mario",
          "Cotosan",
          "San Ignacio",
          "Alcafood",
          "Shake A Shake Lonco Leche",
          "Kumey",
          "Chiquitín",
          "Nesquik",
          "Surlat",
          "Bonella",
          "Ilicit",
          "Elvive",
          "Qualy",
          "Pamperita",
          "Jumbo",
          "Gillette",
          "Rikü",
          "Corbac",
          "Dento",
          "Le Sancy",
          "Lady Speed Stick",
          "Schick",
          "Simond'S",
          "Base Culinar",
          "Zole",
          "Bredenmaster",
          "Máxima MP",
          "Alimentos Shen",
          "Sadia",
          "Head & Shoulders",
          "Solo Italia",
          "Calo",
          "La Crianza",
          "Old Spice",
          "Tivoni",
          "Loncoleche",
          "Rana",
          "Plenitud",
          "Tena",
          "Sofruco",
          "Svelty",
          "Listerine",
          "Turkey Hill",
          "Bravissimo",
          "Ideal",
          "Garnier",
          "Brooks",
          "San Francisco De Loncomilla",
          "Linic",
          "Guallarauco",
          "Nestlé",
          "Colun",
          "Soprole",
          "Minuto Verde",
          "Ballerina",
          "Cuisine & Co",
          "Kotex",
          "San Jorge",
          "Sahne Nuss",
          "Oral-B",
          "Ladysoft",
          "PF",
          "Nosotras",
          "Colgate",
          "Super Beef",
          "Always",
          "Frutos Del Maipo",
          "Santa Marta",
          "Not Milk",
          "Not Burger",
          "Dove Men",
          "Sureña",
          "Simonds",
          "Protex",
          "Pepsodent",
          "Carte Dor",
          "Bresler",
          "Dove",
          "Aquafresh",
          "Savory",
          "Viennetta Bresler",
          "Axe",
          "BiO",
          "Mega",
          "Rexona",
          "Rexona Men",
          "Pantene",
          "Rexona Clinical",
          "Rexona Men Clinical",
          "Oral Fresh",
          "Nido",
          "Magnum"
         ],
         "categoryorder": "array"
        }
       }
      },
      "image/png": "[encoded data removed]",
      "text/html": [
       "<div>                            <div id=\"949e733e-e825-48f3-8e3c-2f553832acf7\" class=\"plotly-graph-div\" style=\"height:525px; width:100%;\"></div>            <script type=\"text/javascript\">                require([\"plotly\"], function(Plotly) {                    window.PLOTLYENV=window.PLOTLYENV || {};                                    if (document.getElementById(\"949e733e-e825-48f3-8e3c-2f553832acf7\")) {                    Plotly.newPlot(                        \"949e733e-e825-48f3-8e3c-2f553832acf7\",                        [{\"colorbar\":{\"title\":{\"text\":\"Media_Desconto(CLP$)\"}},\"colorscale\":[[0.0,\"#440154\"],[0.1111111111111111,\"#482878\"],[0.2222222222222222,\"#3e4989\"],[0.3333333333333333,\"#31688e\"],[0.4444444444444444,\"#26828e\"],[0.5555555555555556,\"#1f9e89\"],[0.6666666666666666,\"#35b779\"],[0.7777777777777778,\"#6ece58\"],[0.8888888888888888,\"#b5de2b\"],[1.0,\"#fde725\"]],\"hoverinfo\":\"text\",\"text\":[\"Pre\\u00e7o: CLP$0.00\",\"Pre\\u00e7o: CLP$590.00\",\"Pre\\u00e7o: CLP$650.00\",\"Pre\\u00e7o: CLP$357.50\",\"Pre\\u00e7o: CLP$0.00\",\"Pre\\u00e7o: CLP$0.00\",\"Pre\\u00e7o: CLP$0.00\",\"Pre\\u00e7o: CLP$0.00\",\"Pre\\u00e7o: CLP$0.00\",\"Pre\\u00e7o: CLP$797.00\",\"Pre\\u00e7o: CLP$795.00\",\"Pre\\u00e7o: CLP$0.00\",\"Pre\\u00e7o: CLP$657.00\",\"Pre\\u00e7o: CLP$0.00\",\"Pre\\u00e7o: CLP$210.00\",\"Pre\\u00e7o: CLP$955.00\",\"Pre\\u00e7o: CLP$160.00\",\"Pre\\u00e7o: CLP$660.00\",\"Pre\\u00e7o: CLP$795.00\",\"Pre\\u00e7o: CLP$660.00\",\"Pre\\u00e7o: CLP$0.00\",\"Pre\\u00e7o: CLP$300.00\",\"Pre\\u00e7o: CLP$0.00\",\"Pre\\u00e7o: CLP$546.00\",\"Pre\\u00e7o: CLP$0.00\",\"Pre\\u00e7o: CLP$0.00\",\"Pre\\u00e7o: CLP$0.00\",\"Pre\\u00e7o: CLP$120.00\",\"Pre\\u00e7o: CLP$0.00\",\"Pre\\u00e7o: CLP$0.00\",\"Pre\\u00e7o: CLP$0.00\",\"Pre\\u00e7o: CLP$0.00\",\"Pre\\u00e7o: CLP$0.00\",\"Pre\\u00e7o: CLP$0.00\",\"Pre\\u00e7o: CLP$0.00\",\"Pre\\u00e7o: CLP$0.00\",\"Pre\\u00e7o: CLP$429.87\",\"Pre\\u00e7o: CLP$0.00\",\"Pre\\u00e7o: CLP$684.86\",\"Pre\\u00e7o: CLP$0.00\",\"Pre\\u00e7o: CLP$0.00\",\"Pre\\u00e7o: CLP$1.77\",\"Pre\\u00e7o: CLP$252.25\",\"Pre\\u00e7o: CLP$0.00\",\"Pre\\u00e7o: CLP$344.33\",\"Pre\\u00e7o: CLP$0.00\",\"Pre\\u00e7o: CLP$0.00\",\"Pre\\u00e7o: CLP$0.00\",\"Pre\\u00e7o: CLP$0.00\",\"Pre\\u00e7o: CLP$444.67\",\"Pre\\u00e7o: CLP$0.00\",\"Pre\\u00e7o: CLP$0.00\",\"Pre\\u00e7o: CLP$0.00\",\"Pre\\u00e7o: CLP$0.00\",\"Pre\\u00e7o: CLP$0.00\",\"Pre\\u00e7o: CLP$200.00\",\"Pre\\u00e7o: CLP$55.17\",\"Pre\\u00e7o: CLP$0.00\",\"Pre\\u00e7o: CLP$0.00\",\"Pre\\u00e7o: CLP$0.00\",\"Pre\\u00e7o: CLP$0.00\",\"Pre\\u00e7o: CLP$136.27\",\"Pre\\u00e7o: CLP$149.50\",\"Pre\\u00e7o: CLP$0.00\",\"Pre\\u00e7o: CLP$0.00\",\"Pre\\u00e7o: CLP$304.50\",\"Pre\\u00e7o: CLP$0.00\",\"Pre\\u00e7o: CLP$0.00\",\"Pre\\u00e7o: CLP$0.00\",\"Pre\\u00e7o: CLP$0.00\",\"Pre\\u00e7o: CLP$0.00\",\"Pre\\u00e7o: CLP$0.00\",\"Pre\\u00e7o: CLP$0.00\",\"Pre\\u00e7o: CLP$0.00\",\"Pre\\u00e7o: CLP$456.16\",\"Pre\\u00e7o: CLP$0.00\",\"Pre\\u00e7o: CLP$0.00\",\"Pre\\u00e7o: CLP$0.00\",\"Pre\\u00e7o: CLP$34.08\",\"Pre\\u00e7o: CLP$429.79\",\"Pre\\u00e7o: CLP$0.00\",\"Pre\\u00e7o: CLP$0.00\",\"Pre\\u00e7o: CLP$94.83\",\"Pre\\u00e7o: CLP$103.45\",\"Pre\\u00e7o: CLP$0.00\",\"Pre\\u00e7o: CLP$0.00\",\"Pre\\u00e7o: CLP$0.00\",\"Pre\\u00e7o: CLP$0.00\",\"Pre\\u00e7o: CLP$0.00\",\"Pre\\u00e7o: CLP$0.00\",\"Pre\\u00e7o: CLP$0.00\",\"Pre\\u00e7o: CLP$0.00\",\"Pre\\u00e7o: CLP$0.00\",\"Pre\\u00e7o: CLP$123.75\",\"Pre\\u00e7o: CLP$0.00\",\"Pre\\u00e7o: CLP$0.00\",\"Pre\\u00e7o: CLP$0.00\",\"Pre\\u00e7o: CLP$0.00\",\"Pre\\u00e7o: CLP$10.85\",\"Pre\\u00e7o: CLP$164.25\",\"Pre\\u00e7o: CLP$0.00\",\"Pre\\u00e7o: CLP$0.00\",\"Pre\\u00e7o: CLP$261.00\",\"Pre\\u00e7o: CLP$0.00\",\"Pre\\u00e7o: CLP$0.00\",\"Pre\\u00e7o: CLP$0.00\",\"Pre\\u00e7o: CLP$0.00\",\"Pre\\u00e7o: CLP$19.50\",\"Pre\\u00e7o: CLP$0.00\",\"Pre\\u00e7o: CLP$88.56\",\"Pre\\u00e7o: CLP$0.00\",\"Pre\\u00e7o: CLP$0.00\",\"Pre\\u00e7o: CLP$0.00\",\"Pre\\u00e7o: CLP$0.00\",\"Pre\\u00e7o: CLP$0.00\",\"Pre\\u00e7o: CLP$0.00\",\"Pre\\u00e7o: CLP$117.10\",\"Pre\\u00e7o: CLP$0.00\",\"Pre\\u00e7o: CLP$148.34\",\"Pre\\u00e7o: CLP$16.32\",\"Pre\\u00e7o: CLP$0.00\",\"Pre\\u00e7o: CLP$0.00\",\"Pre\\u00e7o: CLP$4.47\",\"Pre\\u00e7o: CLP$0.00\",\"Pre\\u00e7o: CLP$0.00\",\"Pre\\u00e7o: CLP$0.00\",\"Pre\\u00e7o: CLP$0.00\",\"Pre\\u00e7o: CLP$0.00\",\"Pre\\u00e7o: CLP$0.00\",\"Pre\\u00e7o: CLP$0.00\",\"Pre\\u00e7o: CLP$0.00\",\"Pre\\u00e7o: CLP$0.00\",\"Pre\\u00e7o: CLP$0.00\",\"Pre\\u00e7o: CLP$0.00\",\"Pre\\u00e7o: CLP$70.00\",\"Pre\\u00e7o: CLP$0.00\",\"Pre\\u00e7o: CLP$0.00\",\"Pre\\u00e7o: CLP$0.00\",\"Pre\\u00e7o: CLP$0.00\",\"Pre\\u00e7o: CLP$0.00\",\"Pre\\u00e7o: CLP$0.00\",\"Pre\\u00e7o: CLP$0.00\",\"Pre\\u00e7o: CLP$0.00\",\"Pre\\u00e7o: CLP$0.00\",\"Pre\\u00e7o: CLP$0.00\",\"Pre\\u00e7o: CLP$0.00\",\"Pre\\u00e7o: CLP$0.00\",\"Pre\\u00e7o: CLP$0.00\",\"Pre\\u00e7o: CLP$0.00\",\"Pre\\u00e7o: CLP$0.00\",\"Pre\\u00e7o: CLP$0.00\",\"Pre\\u00e7o: CLP$0.00\",\"Pre\\u00e7o: CLP$0.00\",\"Pre\\u00e7o: CLP$0.00\",\"Pre\\u00e7o: CLP$0.00\",\"Pre\\u00e7o: CLP$0.00\",\"Pre\\u00e7o: CLP$0.00\",\"Pre\\u00e7o: CLP$0.00\",\"Pre\\u00e7o: CLP$0.00\",\"Pre\\u00e7o: CLP$0.00\",\"Pre\\u00e7o: CLP$0.00\",\"Pre\\u00e7o: CLP$0.00\",\"Pre\\u00e7o: CLP$0.00\",\"Pre\\u00e7o: CLP$0.00\",\"Pre\\u00e7o: CLP$869.80\",\"Pre\\u00e7o: CLP$0.00\",\"Pre\\u00e7o: CLP$0.00\"],\"x\":[\"lacteos\",\"belleza-y-cuidado-personal\",\"belleza-y-cuidado-personal\",\"congelados\",\"belleza-y-cuidado-personal\",\"belleza-y-cuidado-personal\",\"verduras\",\"belleza-y-cuidado-personal\",\"belleza-y-cuidado-personal\",\"belleza-y-cuidado-personal\",\"belleza-y-cuidado-personal\",\"belleza-y-cuidado-personal\",\"congelados\",\"congelados\",\"congelados\",\"congelados\",\"lacteos\",\"belleza-y-cuidado-personal\",\"belleza-y-cuidado-personal\",\"belleza-y-cuidado-personal\",\"lacteos\",\"belleza-y-cuidado-personal\",\"belleza-y-cuidado-personal\",\"congelados\",\"instantaneos-y-sopas\",\"belleza-y-cuidado-personal\",\"belleza-y-cuidado-personal\",\"congelados\",\"belleza-y-cuidado-personal\",\"instantaneos-y-sopas\",\"lacteos\",\"lacteos\",\"lacteos\",\"instantaneos-y-sopas\",\"lacteos\",\"instantaneos-y-sopas\",\"belleza-y-cuidado-personal\",\"congelados\",\"belleza-y-cuidado-personal\",\"belleza-y-cuidado-personal\",\"lacteos\",\"lacteos\",\"belleza-y-cuidado-personal\",\"congelados\",\"belleza-y-cuidado-personal\",\"lacteos\",\"frutas\",\"lacteos\",\"instantaneos-y-sopas\",\"belleza-y-cuidado-personal\",\"lacteos\",\"lacteos\",\"congelados\",\"lacteos\",\"congelados\",\"comidas-preparadas\",\"belleza-y-cuidado-personal\",\"lacteos\",\"verduras\",\"belleza-y-cuidado-personal\",\"instantaneos-y-sopas\",\"congelados\",\"lacteos\",\"lacteos\",\"congelados\",\"belleza-y-cuidado-personal\",\"lacteos\",\"lacteos\",\"verduras\",\"frutas\",\"belleza-y-cuidado-personal\",\"belleza-y-cuidado-personal\",\"lacteos\",\"lacteos\",\"congelados\",\"congelados\",\"congelados\",\"lacteos\",\"belleza-y-cuidado-personal\",\"congelados\",\"lacteos\",\"belleza-y-cuidado-personal\",\"belleza-y-cuidado-personal\",\"belleza-y-cuidado-personal\",\"congelados\",\"belleza-y-cuidado-personal\",\"instantaneos-y-sopas\",\"lacteos\",\"comidas-preparadas\",\"belleza-y-cuidado-personal\",\"congelados\",\"belleza-y-cuidado-personal\",\"belleza-y-cuidado-personal\",\"belleza-y-cuidado-personal\",\"belleza-y-cuidado-personal\",\"lacteos\",\"lacteos\",\"lacteos\",\"lacteos\",\"congelados\",\"lacteos\",\"belleza-y-cuidado-personal\",\"lacteos\",\"belleza-y-cuidado-personal\",\"belleza-y-cuidado-personal\",\"congelados\",\"belleza-y-cuidado-personal\",\"congelados\",\"belleza-y-cuidado-personal\",\"belleza-y-cuidado-personal\",\"belleza-y-cuidado-personal\",\"comidas-preparadas\",\"belleza-y-cuidado-personal\",\"belleza-y-cuidado-personal\",\"lacteos\",\"belleza-y-cuidado-personal\",\"belleza-y-cuidado-personal\",\"instantaneos-y-sopas\",\"congelados\",\"lacteos\",\"comidas-preparadas\",\"belleza-y-cuidado-personal\",\"lacteos\",\"verduras\",\"lacteos\",\"lacteos\",\"lacteos\",\"lacteos\",\"lacteos\",\"lacteos\",\"lacteos\",\"instantaneos-y-sopas\",\"lacteos\",\"belleza-y-cuidado-personal\",\"congelados\",\"lacteos\",\"lacteos\",\"comidas-preparadas\",\"belleza-y-cuidado-personal\",\"congelados\",\"comidas-preparadas\",\"congelados\",\"instantaneos-y-sopas\",\"lacteos\",\"comidas-preparadas\",\"congelados\",\"lacteos\",\"belleza-y-cuidado-personal\",\"congelados\",\"comidas-preparadas\",\"lacteos\",\"congelados\",\"belleza-y-cuidado-personal\",\"congelados\",\"comidas-preparadas\",\"congelados\",\"belleza-y-cuidado-personal\",\"belleza-y-cuidado-personal\",\"lacteos\",\"congelados\",\"congelados\",\"belleza-y-cuidado-personal\",\"lacteos\",\"frutas\",\"lacteos\",\"belleza-y-cuidado-personal\",\"belleza-y-cuidado-personal\"],\"y\":[\"1+1 Soprole\",\"Axe\",\"BiO\",\"Carte Dor\",\"Herbal\",\"Elite\",\"Dole\",\"Cotidian\",\"Herbal Essences\",\"Oral Fresh\",\"Rexona Clinical\",\"Nivea For Men\",\"Mega\",\"Not Ice Cream\",\"Not Burger\",\"Magnum\",\"Not Milk\",\"Rexona Men\",\"Rexona Men Clinical\",\"Rexona\",\"Soprole Activ\",\"Simonds\",\"Sensodyne\",\"Viennetta Bresler\",\"Traverso\",\"Vanart\",\"T\\u00edo Nacho\",\"Super Beef\",\"Sedal\",\"Gourmet\",\"Next\",\"Collico\",\"Oikos\",\"Naturezza\",\"Light & Free\",\"Maggi\",\"Dove\",\"Mister Veggie\",\"Pantene\",\"Fructis\",\"Marco Polo\",\"Nestl\\u00e9\",\"Dove Men\",\"Super Cerdo\",\"Pepsodent\",\"Copacabana\",\"Frutas Y Verduras Santa Isabel\",\"Activia\",\"Carozzi\",\"Aquafresh\",\"Calan\",\"Quillayes\",\"King\",\"Cintazul\",\"PF\",\"PF\",\"Kotex\",\"Danone\",\"Agrosano\",\"Family Care\",\"Hoffmann\",\"Frutos Del Maipo\",\"Santa Marta\",\"Zerolacto\",\"Not Chicken\",\"Protex\",\"Crucina\",\"Astra\",\"Frutas Y Verduras Propias\",\"Frutas Y Verduras Propias\",\"Trianon\",\"Naturella\",\"Lefersa\",\"Deline\",\"Savory\",\"Rock\",\"Fiesta\",\"Omega 3\",\"Ballerina\",\"Bresler\",\"Chamyto\",\"Speed Stick\",\"Ladysoft\",\"Nosotras\",\"Super Pollo\",\"Giselle\",\"Santa Isabel\",\"Santa Isabel\",\"Santa Isabel\",\"Babyland\",\"Receta Del Abuelo\",\"Nivea\",\"Familand\",\"Always\",\"Dural\\u00f3n\",\"Yogu - Yogu\",\"Los Alerces\",\"Regimel\",\"Soprole\",\"Sahne Nuss\",\"Sahne Nuss\",\"Simond'S\",\"Sure\\u00f1a\",\"Lady Speed Stick\",\"Schick\",\"Rik\\u00fc\",\"Dento\",\"Minuto Verde\",\"Le Sancy\",\"Oral-B\",\"Carefree\",\"Corbac\",\"Ilicit\",\"Elvive\",\"Bonella\",\"Bellekiss\",\"Colgate\",\"Cuisine & Co\",\"Cuisine & Co\",\"Cuisine & Co\",\"Cuisine & Co\",\"Gillette\",\"Colun\",\"Jumbo\",\"Qualy\",\"Pamperita\",\"Shake A Shake Lonco Leche\",\"Kumey\",\"Nesquik\",\"Chiquit\\u00edn\",\"San Ignacio\",\"Alcafood\",\"Signore Mario\",\"Cotosan\",\"San Jorge\",\"Surlat\",\"Calo\",\"Solo Italia\",\"Head & Shoulders\",\"Sadia\",\"Sadia\",\"Alimentos Shen\",\"M\\u00e1xima MP\",\"M\\u00e1xima MP\",\"Bredenmaster\",\"Zole\",\"Base Culinar\",\"Linic\",\"Guallarauco\",\"Rana\",\"Loncoleche\",\"Tivoni\",\"Old Spice\",\"La Crianza\",\"La Crianza\",\"San Francisco De Loncomilla\",\"Brooks\",\"Garnier\",\"Ideal\",\"Bravissimo\",\"Turkey Hill\",\"Listerine\",\"Svelty\",\"Sofruco\",\"Nido\",\"Tena\",\"Plenitud\"],\"z\":[0.0,590.0,650.0,357.5,0.0,0.0,0.0,0.0,0.0,797.0,795.0,0.0,657.0,0.0,210.0,955.0,160.0,660.0,795.0,660.0,0.0,300.0,0.0,546.0,0.0,0.0,0.0,120.0,0.0,0.0,0.0,0.0,0.0,0.0,0.0,0.0,429.8666666666667,0.0,684.8571428571429,0.0,0.0,1.7674418604651163,252.25,0.0,344.3333333333333,0.0,0.0,0.0,0.0,444.6666666666667,0.0,0.0,0.0,0.0,0.0,200.0,55.166666666666664,0.0,0.0,0.0,0.0,136.26666666666668,149.5,0.0,0.0,304.5,0.0,0.0,0.0,0.0,0.0,0.0,0.0,0.0,456.15625,0.0,0.0,0.0,34.083333333333336,429.7857142857143,0.0,0.0,94.83333333333333,103.45454545454545,0.0,0.0,0.0,0.0,0.0,0.0,0.0,0.0,0.0,123.75,0.0,0.0,0.0,0.0,10.852941176470589,164.25,0.0,0.0,261.0,0.0,0.0,0.0,0.0,19.5,0.0,88.55555555555556,0.0,0.0,0.0,0.0,0.0,0.0,117.0952380952381,0.0,148.34285714285716,16.318181818181817,0.0,0.0,4.471264367816092,0.0,0.0,0.0,0.0,0.0,0.0,0.0,0.0,0.0,0.0,0.0,70.0,0.0,0.0,0.0,0.0,0.0,0.0,0.0,0.0,0.0,0.0,0.0,0.0,0.0,0.0,0.0,0.0,0.0,0.0,0.0,0.0,0.0,0.0,0.0,0.0,0.0,0.0,0.0,0.0,0.0,869.8,0.0,0.0],\"type\":\"heatmap\"}],                        {\"template\":{\"data\":{\"histogram2dcontour\":[{\"type\":\"histogram2dcontour\",\"colorbar\":{\"outlinewidth\":0,\"ticks\":\"\"},\"colorscale\":[[0.0,\"#0d0887\"],[0.1111111111111111,\"#46039f\"],[0.2222222222222222,\"#7201a8\"],[0.3333333333333333,\"#9c179e\"],[0.4444444444444444,\"#bd3786\"],[0.5555555555555556,\"#d8576b\"],[0.6666666666666666,\"#ed7953\"],[0.7777777777777778,\"#fb9f3a\"],[0.8888888888888888,\"#fdca26\"],[1.0,\"#f0f921\"]]}],\"choropleth\":[{\"type\":\"choropleth\",\"colorbar\":{\"outlinewidth\":0,\"ticks\":\"\"}}],\"histogram2d\":[{\"type\":\"histogram2d\",\"colorbar\":{\"outlinewidth\":0,\"ticks\":\"\"},\"colorscale\":[[0.0,\"#0d0887\"],[0.1111111111111111,\"#46039f\"],[0.2222222222222222,\"#7201a8\"],[0.3333333333333333,\"#9c179e\"],[0.4444444444444444,\"#bd3786\"],[0.5555555555555556,\"#d8576b\"],[0.6666666666666666,\"#ed7953\"],[0.7777777777777778,\"#fb9f3a\"],[0.8888888888888888,\"#fdca26\"],[1.0,\"#f0f921\"]]}],\"heatmap\":[{\"type\":\"heatmap\",\"colorbar\":{\"outlinewidth\":0,\"ticks\":\"\"},\"colorscale\":[[0.0,\"#0d0887\"],[0.1111111111111111,\"#46039f\"],[0.2222222222222222,\"#7201a8\"],[0.3333333333333333,\"#9c179e\"],[0.4444444444444444,\"#bd3786\"],[0.5555555555555556,\"#d8576b\"],[0.6666666666666666,\"#ed7953\"],[0.7777777777777778,\"#fb9f3a\"],[0.8888888888888888,\"#fdca26\"],[1.0,\"#f0f921\"]]}],\"heatmapgl\":[{\"type\":\"heatmapgl\",\"colorbar\":{\"outlinewidth\":0,\"ticks\":\"\"},\"colorscale\":[[0.0,\"#0d0887\"],[0.1111111111111111,\"#46039f\"],[0.2222222222222222,\"#7201a8\"],[0.3333333333333333,\"#9c179e\"],[0.4444444444444444,\"#bd3786\"],[0.5555555555555556,\"#d8576b\"],[0.6666666666666666,\"#ed7953\"],[0.7777777777777778,\"#fb9f3a\"],[0.8888888888888888,\"#fdca26\"],[1.0,\"#f0f921\"]]}],\"contourcarpet\":[{\"type\":\"contourcarpet\",\"colorbar\":{\"outlinewidth\":0,\"ticks\":\"\"}}],\"contour\":[{\"type\":\"contour\",\"colorbar\":{\"outlinewidth\":0,\"ticks\":\"\"},\"colorscale\":[[0.0,\"#0d0887\"],[0.1111111111111111,\"#46039f\"],[0.2222222222222222,\"#7201a8\"],[0.3333333333333333,\"#9c179e\"],[0.4444444444444444,\"#bd3786\"],[0.5555555555555556,\"#d8576b\"],[0.6666666666666666,\"#ed7953\"],[0.7777777777777778,\"#fb9f3a\"],[0.8888888888888888,\"#fdca26\"],[1.0,\"#f0f921\"]]}],\"surface\":[{\"type\":\"surface\",\"colorbar\":{\"outlinewidth\":0,\"ticks\":\"\"},\"colorscale\":[[0.0,\"#0d0887\"],[0.1111111111111111,\"#46039f\"],[0.2222222222222222,\"#7201a8\"],[0.3333333333333333,\"#9c179e\"],[0.4444444444444444,\"#bd3786\"],[0.5555555555555556,\"#d8576b\"],[0.6666666666666666,\"#ed7953\"],[0.7777777777777778,\"#fb9f3a\"],[0.8888888888888888,\"#fdca26\"],[1.0,\"#f0f921\"]]}],\"mesh3d\":[{\"type\":\"mesh3d\",\"colorbar\":{\"outlinewidth\":0,\"ticks\":\"\"}}],\"scatter\":[{\"fillpattern\":{\"fillmode\":\"overlay\",\"size\":10,\"solidity\":0.2},\"type\":\"scatter\"}],\"parcoords\":[{\"type\":\"parcoords\",\"line\":{\"colorbar\":{\"outlinewidth\":0,\"ticks\":\"\"}}}],\"scatterpolargl\":[{\"type\":\"scatterpolargl\",\"marker\":{\"colorbar\":{\"outlinewidth\":0,\"ticks\":\"\"}}}],\"bar\":[{\"error_x\":{\"color\":\"#2a3f5f\"},\"error_y\":{\"color\":\"#2a3f5f\"},\"marker\":{\"line\":{\"color\":\"#E5ECF6\",\"width\":0.5},\"pattern\":{\"fillmode\":\"overlay\",\"size\":10,\"solidity\":0.2}},\"type\":\"bar\"}],\"scattergeo\":[{\"type\":\"scattergeo\",\"marker\":{\"colorbar\":{\"outlinewidth\":0,\"ticks\":\"\"}}}],\"scatterpolar\":[{\"type\":\"scatterpolar\",\"marker\":{\"colorbar\":{\"outlinewidth\":0,\"ticks\":\"\"}}}],\"histogram\":[{\"marker\":{\"pattern\":{\"fillmode\":\"overlay\",\"size\":10,\"solidity\":0.2}},\"type\":\"histogram\"}],\"scattergl\":[{\"type\":\"scattergl\",\"marker\":{\"colorbar\":{\"outlinewidth\":0,\"ticks\":\"\"}}}],\"scatter3d\":[{\"type\":\"scatter3d\",\"line\":{\"colorbar\":{\"outlinewidth\":0,\"ticks\":\"\"}},\"marker\":{\"colorbar\":{\"outlinewidth\":0,\"ticks\":\"\"}}}],\"scattermapbox\":[{\"type\":\"scattermapbox\",\"marker\":{\"colorbar\":{\"outlinewidth\":0,\"ticks\":\"\"}}}],\"scatterternary\":[{\"type\":\"scatterternary\",\"marker\":{\"colorbar\":{\"outlinewidth\":0,\"ticks\":\"\"}}}],\"scattercarpet\":[{\"type\":\"scattercarpet\",\"marker\":{\"colorbar\":{\"outlinewidth\":0,\"ticks\":\"\"}}}],\"carpet\":[{\"aaxis\":{\"endlinecolor\":\"#2a3f5f\",\"gridcolor\":\"white\",\"linecolor\":\"white\",\"minorgridcolor\":\"white\",\"startlinecolor\":\"#2a3f5f\"},\"baxis\":{\"endlinecolor\":\"#2a3f5f\",\"gridcolor\":\"white\",\"linecolor\":\"white\",\"minorgridcolor\":\"white\",\"startlinecolor\":\"#2a3f5f\"},\"type\":\"carpet\"}],\"table\":[{\"cells\":{\"fill\":{\"color\":\"#EBF0F8\"},\"line\":{\"color\":\"white\"}},\"header\":{\"fill\":{\"color\":\"#C8D4E3\"},\"line\":{\"color\":\"white\"}},\"type\":\"table\"}],\"barpolar\":[{\"marker\":{\"line\":{\"color\":\"#E5ECF6\",\"width\":0.5},\"pattern\":{\"fillmode\":\"overlay\",\"size\":10,\"solidity\":0.2}},\"type\":\"barpolar\"}],\"pie\":[{\"automargin\":true,\"type\":\"pie\"}]},\"layout\":{\"autotypenumbers\":\"strict\",\"colorway\":[\"#636efa\",\"#EF553B\",\"#00cc96\",\"#ab63fa\",\"#FFA15A\",\"#19d3f3\",\"#FF6692\",\"#B6E880\",\"#FF97FF\",\"#FECB52\"],\"font\":{\"color\":\"#2a3f5f\"},\"hovermode\":\"closest\",\"hoverlabel\":{\"align\":\"left\"},\"paper_bgcolor\":\"white\",\"plot_bgcolor\":\"#E5ECF6\",\"polar\":{\"bgcolor\":\"#E5ECF6\",\"angularaxis\":{\"gridcolor\":\"white\",\"linecolor\":\"white\",\"ticks\":\"\"},\"radialaxis\":{\"gridcolor\":\"white\",\"linecolor\":\"white\",\"ticks\":\"\"}},\"ternary\":{\"bgcolor\":\"#E5ECF6\",\"aaxis\":{\"gridcolor\":\"white\",\"linecolor\":\"white\",\"ticks\":\"\"},\"baxis\":{\"gridcolor\":\"white\",\"linecolor\":\"white\",\"ticks\":\"\"},\"caxis\":{\"gridcolor\":\"white\",\"linecolor\":\"white\",\"ticks\":\"\"}},\"coloraxis\":{\"colorbar\":{\"outlinewidth\":0,\"ticks\":\"\"}},\"colorscale\":{\"sequential\":[[0.0,\"#0d0887\"],[0.1111111111111111,\"#46039f\"],[0.2222222222222222,\"#7201a8\"],[0.3333333333333333,\"#9c179e\"],[0.4444444444444444,\"#bd3786\"],[0.5555555555555556,\"#d8576b\"],[0.6666666666666666,\"#ed7953\"],[0.7777777777777778,\"#fb9f3a\"],[0.8888888888888888,\"#fdca26\"],[1.0,\"#f0f921\"]],\"sequentialminus\":[[0.0,\"#0d0887\"],[0.1111111111111111,\"#46039f\"],[0.2222222222222222,\"#7201a8\"],[0.3333333333333333,\"#9c179e\"],[0.4444444444444444,\"#bd3786\"],[0.5555555555555556,\"#d8576b\"],[0.6666666666666666,\"#ed7953\"],[0.7777777777777778,\"#fb9f3a\"],[0.8888888888888888,\"#fdca26\"],[1.0,\"#f0f921\"]],\"diverging\":[[0,\"#8e0152\"],[0.1,\"#c51b7d\"],[0.2,\"#de77ae\"],[0.3,\"#f1b6da\"],[0.4,\"#fde0ef\"],[0.5,\"#f7f7f7\"],[0.6,\"#e6f5d0\"],[0.7,\"#b8e186\"],[0.8,\"#7fbc41\"],[0.9,\"#4d9221\"],[1,\"#276419\"]]},\"xaxis\":{\"gridcolor\":\"white\",\"linecolor\":\"white\",\"ticks\":\"\",\"title\":{\"standoff\":15},\"zerolinecolor\":\"white\",\"automargin\":true,\"zerolinewidth\":2},\"yaxis\":{\"gridcolor\":\"white\",\"linecolor\":\"white\",\"ticks\":\"\",\"title\":{\"standoff\":15},\"zerolinecolor\":\"white\",\"automargin\":true,\"zerolinewidth\":2},\"scene\":{\"xaxis\":{\"backgroundcolor\":\"#E5ECF6\",\"gridcolor\":\"white\",\"linecolor\":\"white\",\"showbackground\":true,\"ticks\":\"\",\"zerolinecolor\":\"white\",\"gridwidth\":2},\"yaxis\":{\"backgroundcolor\":\"#E5ECF6\",\"gridcolor\":\"white\",\"linecolor\":\"white\",\"showbackground\":true,\"ticks\":\"\",\"zerolinecolor\":\"white\",\"gridwidth\":2},\"zaxis\":{\"backgroundcolor\":\"#E5ECF6\",\"gridcolor\":\"white\",\"linecolor\":\"white\",\"showbackground\":true,\"ticks\":\"\",\"zerolinecolor\":\"white\",\"gridwidth\":2}},\"shapedefaults\":{\"line\":{\"color\":\"#2a3f5f\"}},\"annotationdefaults\":{\"arrowcolor\":\"#2a3f5f\",\"arrowhead\":0,\"arrowwidth\":1},\"geo\":{\"bgcolor\":\"white\",\"landcolor\":\"#E5ECF6\",\"subunitcolor\":\"white\",\"showland\":true,\"showlakes\":true,\"lakecolor\":\"white\"},\"title\":{\"x\":0.05},\"mapbox\":{\"style\":\"light\"}}},\"xaxis\":{\"categoryorder\":\"array\",\"categoryarray\":[\"instantaneos-y-sopas\",\"verduras\",\"frutas\",\"comidas-preparadas\",\"lacteos\",\"congelados\",\"belleza-y-cuidado-personal\"]},\"yaxis\":{\"categoryorder\":\"array\",\"categoryarray\":[\"1+1 Soprole\",\"Dole\",\"Elite\",\"Herbal\",\"Cotidian\",\"Not Ice Cream\",\"Nivea For Men\",\"Herbal Essences\",\"Traverso\",\"Vanart\",\"T\\u00edo Nacho\",\"Sedal\",\"Next\",\"Gourmet\",\"Soprole Activ\",\"Sensodyne\",\"Collico\",\"Calan\",\"Quillayes\",\"King\",\"Cintazul\",\"Frutas Y Verduras Santa Isabel\",\"Copacabana\",\"Activia\",\"Marco Polo\",\"Super Cerdo\",\"Fructis\",\"Mister Veggie\",\"Maggi\",\"Light & Free\",\"Naturezza\",\"Oikos\",\"Not Chicken\",\"Zerolacto\",\"Hoffmann\",\"Danone\",\"Agrosano\",\"Family Care\",\"Carozzi\",\"Carefree\",\"Bellekiss\",\"Dural\\u00f3n\",\"Nivea\",\"Receta Del Abuelo\",\"Familand\",\"Yogu - Yogu\",\"Los Alerces\",\"Regimel\",\"Giselle\",\"Super Pollo\",\"Babyland\",\"Santa Isabel\",\"Speed Stick\",\"Omega 3\",\"Fiesta\",\"Chamyto\",\"Rock\",\"Deline\",\"Naturella\",\"Lefersa\",\"Trianon\",\"Frutas Y Verduras Propias\",\"Astra\",\"Crucina\",\"Signore Mario\",\"Cotosan\",\"San Ignacio\",\"Alcafood\",\"Shake A Shake Lonco Leche\",\"Kumey\",\"Chiquit\\u00edn\",\"Nesquik\",\"Surlat\",\"Bonella\",\"Ilicit\",\"Elvive\",\"Qualy\",\"Pamperita\",\"Jumbo\",\"Gillette\",\"Rik\\u00fc\",\"Corbac\",\"Dento\",\"Le Sancy\",\"Lady Speed Stick\",\"Schick\",\"Simond'S\",\"Base Culinar\",\"Zole\",\"Bredenmaster\",\"M\\u00e1xima MP\",\"Alimentos Shen\",\"Sadia\",\"Head & Shoulders\",\"Solo Italia\",\"Calo\",\"La Crianza\",\"Old Spice\",\"Tivoni\",\"Loncoleche\",\"Rana\",\"Plenitud\",\"Tena\",\"Sofruco\",\"Svelty\",\"Listerine\",\"Turkey Hill\",\"Bravissimo\",\"Ideal\",\"Garnier\",\"Brooks\",\"San Francisco De Loncomilla\",\"Linic\",\"Guallarauco\",\"Nestl\\u00e9\",\"Colun\",\"Soprole\",\"Minuto Verde\",\"Ballerina\",\"Cuisine & Co\",\"Kotex\",\"San Jorge\",\"Sahne Nuss\",\"Oral-B\",\"Ladysoft\",\"PF\",\"Nosotras\",\"Colgate\",\"Super Beef\",\"Always\",\"Frutos Del Maipo\",\"Santa Marta\",\"Not Milk\",\"Not Burger\",\"Dove Men\",\"Sure\\u00f1a\",\"Simonds\",\"Protex\",\"Pepsodent\",\"Carte Dor\",\"Bresler\",\"Dove\",\"Aquafresh\",\"Savory\",\"Viennetta Bresler\",\"Axe\",\"BiO\",\"Mega\",\"Rexona\",\"Rexona Men\",\"Pantene\",\"Rexona Clinical\",\"Rexona Men Clinical\",\"Oral Fresh\",\"Nido\",\"Magnum\"]}},                        {\"responsive\": true}                    ).then(function(){\n",
       "                            \n",
       "var gd = document.getElementById('949e733e-e825-48f3-8e3c-2f553832acf7');\n",
       "var x = new MutationObserver(function (mutations, observer) {{\n",
       "        var display = window.getComputedStyle(gd).display;\n",
       "        if (!display || display === 'none') {{\n",
       "            console.log([gd, 'removed!']);\n",
       "            Plotly.purge(gd);\n",
       "            observer.disconnect();\n",
       "        }}\n",
       "}});\n",
       "\n",
       "// Listen for the removal of the full notebook cells\n",
       "var notebookContainer = gd.closest('#notebook-container');\n",
       "if (notebookContainer) {{\n",
       "    x.observe(notebookContainer, {childList: true});\n",
       "}}\n",
       "\n",
       "// Listen for the clearing of the current output cell\n",
       "var outputEl = gd.closest('.output');\n",
       "if (outputEl) {{\n",
       "    x.observe(outputEl, {childList: true});\n",
       "}}\n",
       "\n",
       "                        })                };                });            </script>        </div>"
      ]
     },
     "metadata": {},
     "output_type": "display_data"
    }
   ],
   "source": [
    "# Ordenar marcas pela média de desconto ascendente\n",
    "marca_ordem = grouped.groupby('Marca')['Media_Desconto'].mean().sort_values().index\n",
    "categoria_ordem = grouped.groupby('Categoria')['Media_Desconto'].mean().sort_values().index\n",
    "\n",
    "\n",
    "grouped['Marca'] = pd.Categorical(grouped['Marca'], categories=marca_ordem, ordered=True)\n",
    "grouped['Categoria'] = pd.Categorical(grouped['Categoria'], categories=categoria_ordem, ordered=True)\n",
    "\n",
    "# Ordena o DataFrame de acordo com as novas ordens\n",
    "grouped.sort_values(['Marca', 'Categoria'], inplace=True)\n",
    "\n",
    "heatmap_price = go.Heatmap(\n",
    "    x=grouped['Categoria'],\n",
    "    y=grouped['Marca'],\n",
    "    z=grouped['Media_Desconto'],\n",
    "    text=grouped.apply(lambda row: f\"Preço: CLP${row['Media_Desconto']:.2f}\", axis=1),\n",
    "    hoverinfo=\"text\",\n",
    "    colorscale='Viridis',\n",
    "    colorbar=dict(title=\"Media_Desconto(CLP$)\")\n",
    ")\n",
    "\n",
    "fig = go.Figure(data=[heatmap_price])\n",
    "fig.update_layout(\n",
    "    xaxis={'categoryorder': 'array', 'categoryarray': list(categoria_ordem)},\n",
    "    yaxis={'categoryorder': 'array', 'categoryarray': list(marca_ordem)}\n",
    ")\n",
    "fig.show()"
   ]
  },
  {
   "cell_type": "markdown",
   "metadata": {},
   "source": [
    "Ao analisar e passar a seta do mouse em ambos os gráficos, é possivel perceber que as categorias com a maior média de preços, tambem possuem a maior média de descontos.\n",
    "\n",
    "OBS: Este exercício foi feito baseado em uma lista de produtos de um mercado no chile, por isso o simbolo da moeda está como \"CLP$\" pois é o simbolo do peso chilelo."
   ]
  }
 ],
 "metadata": {
  "colab": {
   "provenance": []
  },
  "kernelspec": {
   "display_name": "Python [conda env:base] *",
   "language": "python",
   "name": "conda-base-py"
  },
  "language_info": {
   "codemirror_mode": {
    "name": "ipython",
    "version": 3
   },
   "file_extension": ".py",
   "mimetype": "text/x-python",
   "name": "python",
   "nbconvert_exporter": "python",
   "pygments_lexer": "ipython3",
   "version": "3.13.5"
  }
 },
 "nbformat": 4,
 "nbformat_minor": 4
}
